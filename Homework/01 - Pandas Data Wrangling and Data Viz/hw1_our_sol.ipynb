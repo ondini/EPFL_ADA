{
  "cells": [
    {
      "cell_type": "markdown",
      "id": "28e3737f",
      "metadata": {
        "id": "28e3737f"
      },
      "source": [
        "# Homework 1 (HW1)\n",
        "\n",
        "By the end of this homework, we expect you to be able to:\n",
        "\n",
        "- Load data and handle data using pandas;\n",
        "- Navigate the documentation of Python packages by yourself;\n",
        "- Filter and tidy up noisy real-world datasets;\n",
        "- Aggregate your data in different (and hopefully helpful) ways; \n",
        "- Create meaningful visualizations to analyze the data;\n",
        "\n",
        "---\n",
        "\n",
        "## Important Dates\n",
        "\n",
        "- Homework release: Fri 14 Oct 2022\n",
        "- **Homework due**: Sat 29 Oct 2022, 23:59\n",
        "- Grade release: Mon 07 Nov 2022\n",
        "\n",
        "---\n",
        "\n",
        "##  Some rules\n",
        "\n",
        "1. You are allowed to use any built-in Python library that comes with Anaconda. If you want to use an external library, \n",
        "you may do so, but must justify your choice.\n",
        "2. Make sure you use the `data` folder provided in the repository in read-only mode. (Or alternatively, be sure you \n",
        "don’t change any of the files.)\n",
        "3. Be sure to provide a textual description of your thought process, the assumptions you made, the solution you \n",
        "implemented, and explanations for your answers. A notebook that only has code cells will not suffice.\n",
        "4. For questions containing the **/Discuss:/** prefix, answer not with code, but with a textual explanation\n",
        " (**in markdown**).\n",
        "5. Back up any hypotheses and claims with data, since this is an important aspect of the course.\n",
        "6. Please write all your comments in English, and use meaningful variable names in your code. Your repo should have a \n",
        "single notebook (plus the required data files) in the *master/main* branch. If there are multiple notebooks present, \n",
        "we will **not grade** anything.\n",
        "7. We will **not run your notebook for you**! Rather, we will grade it as is, which means that only the results \n",
        "contained in your evaluated code cells will be considered, and we will not see the results in unevaluated code cells. \n",
        "Thus, be sure to hand in a **fully-run and evaluated notebook**. In order to check whether everything looks as intended,\n",
        " you can check the rendered notebook on the GitHub website once you have pushed your solution there.\n",
        "8. In continuation to the previous point, interactive plots, such as those generated using `plotly`, should be \n",
        "**strictly avoided**!\n",
        "9. Make sure to print results or dataframes that confirm you have properly addressed the task.\n",
        "\n",
        "---\n",
        "\n",
        "In this homework, we will analyze data from A/B tests of headlines conducted by Upworthy from January 2013 to April 2015 to study whether the language used in the headline determines the number of people that will read the associated news piece. The homework contains four tasks: in task 1, we will process the data; in task 2, we will extract meaningful signals from the data; in task 3, we will test whether the language of headlines impacts their success; and in task 4, we will explore the heterogeneity of this effects (e.g., does it vary through time?).\n",
        "\n",
        "\n",
        "### **What is an A/B test?** \n",
        "A/B tests are experiments that compare two scenarios (e.g., scenario A vs. scenario B). \n",
        "They test subjects' responses to each of the variants to determine which is more effective ([read more about A/B tests on Wikipedia](https://en.wikipedia.org/wiki/A/B_testing)). \n",
        "A/B tests allow us to draw conclusions about the different scenarios by randomizing exposure to them, e.g., one could flip a coin and assign a user to scenario A if it lands heads and to B if it lands tails. \n",
        "Since exposure is randomized, we can be confident that the scenarios are the sole explanation for statistically significant differences in subjects' responses (if they exist). \n",
        "In theory, A/B testing refers to an experiment that compares two scenarios; however, in practice, the term is also used when we compare multiple scenarios (e.g., A vs. B vs. C), although the more precise terminology would be to call such an experiment a \"multinomial test.\"\n",
        "\n",
        "### **How were A/B tests used by Upworthy?** \n",
        "Upworthy used A/B testing to increase news readership, conducting experiments for each published news piece. \n",
        "In each experiment, they created multiple \"packages\" of stimuli, varying headlines, images, excerpts, and ledes for the same news piece. \n",
        "Different \"packages\" were shown on their (now defunct) website to engage users with the news pieces they produced. Upworthy found \"the best\" package by conducting A/B tests, showing different packages to different users, and measuring how often users clicked on each version. \n",
        "Below, we show three \"packages\" used by Upworthy in an experiment, each with a different headline for the same news piece. \n",
        "Upworthy randomized users that visited their website saw one of the three versions of the headline below. Then, they measured the percentage of times users in each scenario clicked to read the news. \n",
        "The headline with the highest percentage of clicks per view (click through rate) was then declared the \"winner\" and became the default for all visitors.\n",
        "\n",
        "![Example A/B test](example.png)\n",
        "\n",
        " ### **Where does this data come from?** \n",
        " \n",
        " From a paper [1].\n",
        "\n",
        "[1] Matias, J.N., Munger, K., Le Quere, M.A. et al. The Upworthy Research Archive, a time series of 32,487 experiments in U.S. media. Sci Data 8, 195 (2021). https://doi.org/10.1038/s41597-021-00934-7\n",
        "\n",
        "### **Where can I find this data?**  \n",
        "\n",
        "You can find it in the `/data/` folder.\n",
        "\n",
        "### **Terminology**\n",
        "\n",
        "- **News piece:** A news article. In the dataset considered, these were all produced by Upworthy.\n",
        "- **Package:** The set of visual stimuli inviting the user to read an article. The figure above shows a package with a headline and an image. At times, there was an excerpt of the article also shown in the package and/or the lede, i.e., [\"the introductory section of a news story that is intended to entice the reader to read the full story.\"](https://www.merriam-webster.com/words-at-play/bury-the-lede-versus-lead#:~:text=In%20journalism%2C%20the%20lede%20refers,machines%20began%20disappearing%20from%20newsrooms.)\n",
        "- **Experiment:** Each experiment is an A/B test (or multinomial test, to be more precise) comparing how users reacted to different \"packages.\" Experiments measured two things: 1) how many users were shown each package; and 2) how many individuals clicked each package.\n",
        "\n",
        "### **Data description**\n",
        "\n",
        "| Column name          | Description                                                                                                                                                                                       |   |   |   |\n",
        "|----------------------|---------------------------------------------------------------------------------------------------------------------------------------------------------------------------------------------------|---|---|---|\n",
        "| created_at           | Time the package was created (timezone unknown)                                                                                                                                                   |   |   |   |\n",
        "| test_week            | Week the package was created, a variable constructed by the archive creators for stratified random sampling                                                                                       |   |   |   |\n",
        "| clickability_test_id | The test ID. Viewers were randomly assigned to packages with the same test ID                                                                                                                     |   |   |   |\n",
        "| impressions          | The number of viewers who were assigned to this package. The total number of participants for a given test is the sum of impressions for all packages that share the same clickability_test_id    |   |   |   |\n",
        "| headline             | The headline being tested                                                                                                                                                                         |   |   |   |\n",
        "| eyecatcher_id        | Image ID. Image files are not available. Packages that shared the same image have the same eyecatcher_id                                                                                          |   |   |   |\n",
        "| clicks               | The number of viewers (impressions) that clicked on the package. The clickrate for a given package is the number of clicks divided by the number of impressions                                   |   |   |   |\n",
        "| excerpt              | Article excerpt                                                                                                                                                                                   |   |   |   |\n",
        "| lede                 | The opening sentence or paragraph of the story                                                                                                                                                    |   |   |   |\n",
        "| slug                 | Internal name for the web address                                                                                                                                                                 |   |   |   |\n",
        "| share_text           | Summary for display on social media when the article is shared. This was not shown in tests, since tests were conducted on the Upworthy website                                                   |   |   |   |\n",
        "| square               | When used, part of the same social media sharing suggestion as the share text                                                                                                                     |   |   |   |\n",
        "| significance         | NOT an estimate of statistical significance; a complex, inconsistent calculation that compared the clicks on a package to the clicks on all previous packages that were fielded on the same pages |   |   |   |\n",
        "| first_place          | Along with significance, shown to editors to guide decisions about what test to choose                                                                                                            |   |   |   |\n",
        "| winner               | Whether a package was selected by editors to be used on the Upworthy site after the test                                                                                                          |   |   |   |\n",
        "| updated_at           | The last time the package was updated in the Upworthy system                                                                                                                                      |   |   |   |\n"
      ]
    },
    {
      "cell_type": "markdown",
      "id": "d6862851",
      "metadata": {
        "id": "d6862851"
      },
      "source": [
        "# Task 1: Getting familiar with the data\n",
        "\n",
        "Your first task is to conduct initial analyses to understand the data and process it in a way that will allow us to more easily answer our key question: *how does the language of a headline determine its success?*\n",
        "\n",
        "1.1 Load the data into memory using pandas and print the first lines to get a sense of it.\n",
        "\n",
        "1.2 Each experiment comparing different versions of the same news piece (\"packages\") has a unique identifier (`clickability_test_id` column). \n",
        "Calculate how many different experiments were conducted in this dataset and, on average, how many packages were considered per experiment. \n",
        "Last, plot the distribution of packages per experiment with a visualization of your choice.\n",
        "\n",
        "1.3 A common way to measure success in online A/B tests is what is called \"the clickthrough rate.\"\n",
        "Given that often A/B tests are created to find what engages users (here, \"packages\" of headlines, images, etc), we would expect that a \"good\" package makes people click often. \n",
        "Create a column named `ctr` by dividing the number of clicks a package received (`clicks` column) by the number of impressions it received (`impressions` column).\n",
        "\n",
        "1.4 Packages varied any combination of the headline (`headline` column), the excerpt (`excerpt`), the first sentence of the article (`lede`), and the image that illustrates the news piece (`eyecatcher_id`, a hash per image). \n",
        "But we want to isolate the effect of the headline on the clickthrough rate. To do that, create a new dataframe where you filter all experiments where only one headline is present. \n",
        "Print the length of this new dataframe and how many experiments were discarded in the filtering process.\n",
        "\n",
        "1.5 For comparison, repeat the procedure described in **T1.4** with the `eyecatcher_id` column, i.e., create a dataframe considering only experiments that vary the image. \n",
        "Again, print the length of this new dataframe and how many experiments were discarded in the filtering process.\n",
        "\n",
        "1.6 **Discuss:** Considering the answers to questions **T1.4** and **T1.4**, what can we say about the different versions of the news tested by Upworthy?\n",
        "\n",
        "1.7 For our subsequent analysis, we want to compare the causal effect of headlines on the success of a news piece. \n",
        "For that, we can compare pairs of packages with the same `eyecatcher_id`, `lede`, and `excerpt`, but different `headlines`.\n",
        "Note that this means that if an experiment considered 5 different headlines and did not vary any other stimulus, we would have 5C2 (i.e., 5 choose 2, 10) pairs to consider.\n",
        "Create a dataset where:\n",
        "- each row corresponds to a pair of packages with different `headline` but the same `eyecatcher_id`, `lede`, and `excerpt`. \n",
        "- there are columns containing the headlines of each of the news versions (`headline1`, `headline2`) and the clickthrough rate of each of the news versions (`ctr1`, `ctr2`). \n",
        "- the columns `headline1` and `ctr1` contain the data associated with the news version with the highest clickthrough rate. Print the first columns of your newly created dataframe, as well as its length.\n",
        "-  the columns where the two news pieces had exactly the same clickthrough rate should be filtered out (this is for simplicity's sake).\n",
        "-  the column `date_created` contains the date when the news version with the highest clickthrough rate was created.\n",
        "\n",
        "1.8 To get a sense of the impact of headline change, measure the average difference per pair between the most clicked-through (`ctr1`) and the least clicked-through headline (`ctr2`), as well as the average clickthrough rate for the least clicked through headline (`ctr2`). \n",
        "\n",
        "1.9 **Discuss:** Considering your answer to **T1.8**, and assuming the average differences in clickthrough rates between pairs are statistically significant, do you think that headlines are impactful in the news business? Justify with the data."
      ]
    },
    {
      "cell_type": "markdown",
      "id": "8c251505",
      "metadata": {
        "id": "8c251505"
      },
      "source": [
        "## 1.1"
      ]
    },
    {
      "cell_type": "code",
      "execution_count": 60,
      "id": "c2deec15",
      "metadata": {
        "colab": {
          "base_uri": "https://localhost:8080/",
          "height": 791
        },
        "id": "c2deec15",
        "outputId": "6dc18243-63ce-4702-aeb5-f6b3913e0261",
        "scrolled": false
      },
      "outputs": [
        {
          "data": {
            "text/html": [
              "<div>\n",
              "<style scoped>\n",
              "    .dataframe tbody tr th:only-of-type {\n",
              "        vertical-align: middle;\n",
              "    }\n",
              "\n",
              "    .dataframe tbody tr th {\n",
              "        vertical-align: top;\n",
              "    }\n",
              "\n",
              "    .dataframe thead th {\n",
              "        text-align: right;\n",
              "    }\n",
              "</style>\n",
              "<table border=\"1\" class=\"dataframe\">\n",
              "  <thead>\n",
              "    <tr style=\"text-align: right;\">\n",
              "      <th></th>\n",
              "      <th>created_at</th>\n",
              "      <th>updated_at</th>\n",
              "      <th>clickability_test_id</th>\n",
              "      <th>excerpt</th>\n",
              "      <th>headline</th>\n",
              "      <th>lede</th>\n",
              "      <th>slug</th>\n",
              "      <th>eyecatcher_id</th>\n",
              "      <th>impressions</th>\n",
              "      <th>clicks</th>\n",
              "      <th>significance</th>\n",
              "      <th>first_place</th>\n",
              "      <th>winner</th>\n",
              "      <th>share_text</th>\n",
              "      <th>square</th>\n",
              "      <th>test_week</th>\n",
              "    </tr>\n",
              "  </thead>\n",
              "  <tbody>\n",
              "    <tr>\n",
              "      <th>0</th>\n",
              "      <td>2014-11-20 06:43:16.005</td>\n",
              "      <td>2016-04-02 16:33:38.062</td>\n",
              "      <td>546d88fb84ad38b2ce000024</td>\n",
              "      <td>Things that matter. Pass 'em on.</td>\n",
              "      <td>They're Being Called 'Walmart's Worst Nightmar...</td>\n",
              "      <td>&lt;p&gt;When I saw *why* people are calling them \"W...</td>\n",
              "      <td>theyre-being-called-walmarts-worst-nightmare-a...</td>\n",
              "      <td>546d6fa19ad54eec8d00002d</td>\n",
              "      <td>3052</td>\n",
              "      <td>150</td>\n",
              "      <td>100.0</td>\n",
              "      <td>True</td>\n",
              "      <td>True</td>\n",
              "      <td>Anyone who's ever felt guilty about shopping a...</td>\n",
              "      <td>NaN</td>\n",
              "      <td>201446</td>\n",
              "    </tr>\n",
              "    <tr>\n",
              "      <th>1</th>\n",
              "      <td>2014-11-20 06:54:36.335</td>\n",
              "      <td>2016-04-02 16:25:54.027</td>\n",
              "      <td>546d902c26714c6c44000039</td>\n",
              "      <td>Things that matter. Pass 'em on.</td>\n",
              "      <td>This Is What Sexism Against Men Sounds Like</td>\n",
              "      <td>&lt;p&gt;DISCLOSURE: I'm a dude. I have cried on mul...</td>\n",
              "      <td>this-is-what-sexism-against-men-sounds-like-am...</td>\n",
              "      <td>546bc55335992b86c8000043</td>\n",
              "      <td>3526</td>\n",
              "      <td>90</td>\n",
              "      <td>4.1</td>\n",
              "      <td>False</td>\n",
              "      <td>False</td>\n",
              "      <td>If you ever wondered, \"but what about the men?...</td>\n",
              "      <td>NaN</td>\n",
              "      <td>201446</td>\n",
              "    </tr>\n",
              "    <tr>\n",
              "      <th>2</th>\n",
              "      <td>2014-11-20 06:54:57.878</td>\n",
              "      <td>2016-04-02 16:31:45.671</td>\n",
              "      <td>546d902c26714c6c44000039</td>\n",
              "      <td>Things that matter. Pass 'em on.</td>\n",
              "      <td>This Is What Sexism Against Men Sounds Like</td>\n",
              "      <td>&lt;p&gt;DISCLOSURE: I'm a dude. I have cried on mul...</td>\n",
              "      <td>this-is-what-sexism-against-men-sounds-like-am...</td>\n",
              "      <td>546d900426714cd2dd00002e</td>\n",
              "      <td>3506</td>\n",
              "      <td>120</td>\n",
              "      <td>100.0</td>\n",
              "      <td>True</td>\n",
              "      <td>False</td>\n",
              "      <td>If you ever wondered, \"but what about the men?...</td>\n",
              "      <td>NaN</td>\n",
              "      <td>201446</td>\n",
              "    </tr>\n",
              "    <tr>\n",
              "      <th>3</th>\n",
              "      <td>2014-11-20 06:55:07.212</td>\n",
              "      <td>2016-04-02 16:25:54.029</td>\n",
              "      <td>546d902c26714c6c44000039</td>\n",
              "      <td>Things that matter. Pass 'em on.</td>\n",
              "      <td>This Is What Sexism Against Men Sounds Like</td>\n",
              "      <td>&lt;p&gt;DISCLOSURE: I'm a dude. I have cried on mul...</td>\n",
              "      <td>this-is-what-sexism-against-men-sounds-like-am...</td>\n",
              "      <td>546d900426714c6c44000038</td>\n",
              "      <td>3380</td>\n",
              "      <td>98</td>\n",
              "      <td>25.3</td>\n",
              "      <td>False</td>\n",
              "      <td>False</td>\n",
              "      <td>If you ever wondered, \"but what about the men?...</td>\n",
              "      <td>NaN</td>\n",
              "      <td>201446</td>\n",
              "    </tr>\n",
              "    <tr>\n",
              "      <th>4</th>\n",
              "      <td>2014-11-20 06:55:20.347</td>\n",
              "      <td>2016-04-02 16:25:54.032</td>\n",
              "      <td>546d902c26714c6c44000039</td>\n",
              "      <td>Things that matter. Pass 'em on.</td>\n",
              "      <td>This Is What Sexism Against Men Sounds Like</td>\n",
              "      <td>&lt;p&gt;DISCLOSURE: I'm a dude. I have cried on mul...</td>\n",
              "      <td>this-is-what-sexism-against-men-sounds-like-am...</td>\n",
              "      <td>546d900426714c1ad900001e</td>\n",
              "      <td>3465</td>\n",
              "      <td>75</td>\n",
              "      <td>0.2</td>\n",
              "      <td>False</td>\n",
              "      <td>False</td>\n",
              "      <td>If you ever wondered, \"but what about the men?...</td>\n",
              "      <td>NaN</td>\n",
              "      <td>201446</td>\n",
              "    </tr>\n",
              "  </tbody>\n",
              "</table>\n",
              "</div>"
            ],
            "text/plain": [
              "                created_at               updated_at      clickability_test_id  \\\n",
              "0  2014-11-20 06:43:16.005  2016-04-02 16:33:38.062  546d88fb84ad38b2ce000024   \n",
              "1  2014-11-20 06:54:36.335  2016-04-02 16:25:54.027  546d902c26714c6c44000039   \n",
              "2  2014-11-20 06:54:57.878  2016-04-02 16:31:45.671  546d902c26714c6c44000039   \n",
              "3  2014-11-20 06:55:07.212  2016-04-02 16:25:54.029  546d902c26714c6c44000039   \n",
              "4  2014-11-20 06:55:20.347  2016-04-02 16:25:54.032  546d902c26714c6c44000039   \n",
              "\n",
              "                            excerpt  \\\n",
              "0  Things that matter. Pass 'em on.   \n",
              "1  Things that matter. Pass 'em on.   \n",
              "2  Things that matter. Pass 'em on.   \n",
              "3  Things that matter. Pass 'em on.   \n",
              "4  Things that matter. Pass 'em on.   \n",
              "\n",
              "                                            headline  \\\n",
              "0  They're Being Called 'Walmart's Worst Nightmar...   \n",
              "1        This Is What Sexism Against Men Sounds Like   \n",
              "2        This Is What Sexism Against Men Sounds Like   \n",
              "3        This Is What Sexism Against Men Sounds Like   \n",
              "4        This Is What Sexism Against Men Sounds Like   \n",
              "\n",
              "                                                lede  \\\n",
              "0  <p>When I saw *why* people are calling them \"W...   \n",
              "1  <p>DISCLOSURE: I'm a dude. I have cried on mul...   \n",
              "2  <p>DISCLOSURE: I'm a dude. I have cried on mul...   \n",
              "3  <p>DISCLOSURE: I'm a dude. I have cried on mul...   \n",
              "4  <p>DISCLOSURE: I'm a dude. I have cried on mul...   \n",
              "\n",
              "                                                slug  \\\n",
              "0  theyre-being-called-walmarts-worst-nightmare-a...   \n",
              "1  this-is-what-sexism-against-men-sounds-like-am...   \n",
              "2  this-is-what-sexism-against-men-sounds-like-am...   \n",
              "3  this-is-what-sexism-against-men-sounds-like-am...   \n",
              "4  this-is-what-sexism-against-men-sounds-like-am...   \n",
              "\n",
              "              eyecatcher_id  impressions  clicks  significance  first_place  \\\n",
              "0  546d6fa19ad54eec8d00002d         3052     150         100.0         True   \n",
              "1  546bc55335992b86c8000043         3526      90           4.1        False   \n",
              "2  546d900426714cd2dd00002e         3506     120         100.0         True   \n",
              "3  546d900426714c6c44000038         3380      98          25.3        False   \n",
              "4  546d900426714c1ad900001e         3465      75           0.2        False   \n",
              "\n",
              "   winner                                         share_text square  test_week  \n",
              "0    True  Anyone who's ever felt guilty about shopping a...    NaN     201446  \n",
              "1   False  If you ever wondered, \"but what about the men?...    NaN     201446  \n",
              "2   False  If you ever wondered, \"but what about the men?...    NaN     201446  \n",
              "3   False  If you ever wondered, \"but what about the men?...    NaN     201446  \n",
              "4   False  If you ever wondered, \"but what about the men?...    NaN     201446  "
            ]
          },
          "execution_count": 60,
          "metadata": {},
          "output_type": "execute_result"
        }
      ],
      "source": [
        "import pandas as pd\n",
        "import numpy as np\n",
        "import matplotlib.pyplot as plt\n",
        "%matplotlib inline\n",
        "import seaborn as sns\n",
        "import math\n",
        "\n",
        "data_folder = './data/'\n",
        "upworthy_packages= pd.read_csv(data_folder+'upworthy.csv.gz')\n",
        "upworthy_packages.head()"
      ]
    },
    {
      "cell_type": "code",
      "execution_count": 61,
      "id": "2220aa0d",
      "metadata": {
        "colab": {
          "base_uri": "https://localhost:8080/"
        },
        "id": "2220aa0d",
        "outputId": "d27cb90c-dc31-434d-9863-2c85735eff76"
      },
      "outputs": [
        {
          "name": "stdout",
          "output_type": "stream",
          "text": [
            "number of packages: 20603\n"
          ]
        }
      ],
      "source": [
        "print(f'number of packages: {len(upworthy_packages)}')"
      ]
    },
    {
      "cell_type": "markdown",
      "id": "0692c8d8",
      "metadata": {
        "id": "0692c8d8"
      },
      "source": [
        "## 1.2"
      ]
    },
    {
      "cell_type": "code",
      "execution_count": 62,
      "id": "2a8d2381",
      "metadata": {
        "colab": {
          "base_uri": "https://localhost:8080/"
        },
        "id": "2a8d2381",
        "outputId": "797ff268-d655-4e7b-eba9-dacea21b6412"
      },
      "outputs": [
        {
          "name": "stdout",
          "output_type": "stream",
          "text": [
            "number of experiments: 4822\n"
          ]
        }
      ],
      "source": [
        "experiments= upworthy_packages.groupby('clickability_test_id')[['created_at']].count()\n",
        "experiments.columns =['number_of_tests']\n",
        "print(f'number of experiments: {len(experiments.index)}')"
      ]
    },
    {
      "cell_type": "code",
      "execution_count": 63,
      "id": "c88b9e71",
      "metadata": {
        "colab": {
          "base_uri": "https://localhost:8080/",
          "height": 0
        },
        "id": "c88b9e71",
        "outputId": "6b0a80e0-cdb0-4ec5-95c0-518ba668550b"
      },
      "outputs": [
        {
          "data": {
            "text/html": [
              "<div>\n",
              "<style scoped>\n",
              "    .dataframe tbody tr th:only-of-type {\n",
              "        vertical-align: middle;\n",
              "    }\n",
              "\n",
              "    .dataframe tbody tr th {\n",
              "        vertical-align: top;\n",
              "    }\n",
              "\n",
              "    .dataframe thead th {\n",
              "        text-align: right;\n",
              "    }\n",
              "</style>\n",
              "<table border=\"1\" class=\"dataframe\">\n",
              "  <thead>\n",
              "    <tr style=\"text-align: right;\">\n",
              "      <th></th>\n",
              "      <th>number_of_tests</th>\n",
              "    </tr>\n",
              "    <tr>\n",
              "      <th>clickability_test_id</th>\n",
              "      <th></th>\n",
              "    </tr>\n",
              "  </thead>\n",
              "  <tbody>\n",
              "    <tr>\n",
              "      <th>51436061220cb800020001e7</th>\n",
              "      <td>4</td>\n",
              "    </tr>\n",
              "    <tr>\n",
              "      <th>51436069220cb800020005ae</th>\n",
              "      <td>5</td>\n",
              "    </tr>\n",
              "    <tr>\n",
              "      <th>51436069220cb800020005bd</th>\n",
              "      <td>2</td>\n",
              "    </tr>\n",
              "    <tr>\n",
              "      <th>5143606a220cb800020005c6</th>\n",
              "      <td>4</td>\n",
              "    </tr>\n",
              "    <tr>\n",
              "      <th>5143606b220cb800020005d7</th>\n",
              "      <td>5</td>\n",
              "    </tr>\n",
              "  </tbody>\n",
              "</table>\n",
              "</div>"
            ],
            "text/plain": [
              "                          number_of_tests\n",
              "clickability_test_id                     \n",
              "51436061220cb800020001e7                4\n",
              "51436069220cb800020005ae                5\n",
              "51436069220cb800020005bd                2\n",
              "5143606a220cb800020005c6                4\n",
              "5143606b220cb800020005d7                5"
            ]
          },
          "execution_count": 63,
          "metadata": {},
          "output_type": "execute_result"
        }
      ],
      "source": [
        "experiments.head()"
      ]
    },
    {
      "cell_type": "code",
      "execution_count": 64,
      "id": "4d4ef64c",
      "metadata": {
        "colab": {
          "base_uri": "https://localhost:8080/"
        },
        "id": "4d4ef64c",
        "outputId": "5c2205e5-460c-4973-9f87-27742e0506a3"
      },
      "outputs": [
        {
          "name": "stdout",
          "output_type": "stream",
          "text": [
            "average number of packages considered: 4.2727084197428455\n"
          ]
        }
      ],
      "source": [
        "avg_nbr_packages= experiments.number_of_tests.mean()\n",
        "print(f'average number of packages considered: {avg_nbr_packages}')"
      ]
    },
    {
      "cell_type": "code",
      "execution_count": 65,
      "id": "cf1f478e",
      "metadata": {
        "colab": {
          "base_uri": "https://localhost:8080/",
          "height": 0
        },
        "id": "cf1f478e",
        "outputId": "5b376ade-cd95-4453-f9a4-25f032c0463d"
      },
      "outputs": [
        {
          "data": {
            "image/png": "[encoded data removed]",
            "text/plain": [
              "<Figure size 640x480 with 1 Axes>"
            ]
          },
          "metadata": {},
          "output_type": "display_data"
        }
      ],
      "source": [
        "plt.hist(experiments['number_of_tests'], range=[0,15], bins = 15, alpha=0.5, log=True, rwidth=0.9, align='left')\n",
        "plt.ylabel('Clickability tests(experiments)')\n",
        "plt.xlabel('Number of packages ')\n",
        "plt.title('distribution of packages per experiment');"
      ]
    },
    {
      "cell_type": "markdown",
      "id": "6250ff3d",
      "metadata": {
        "id": "6250ff3d"
      },
      "source": [
        "## 1.3"
      ]
    },
    {
      "cell_type": "code",
      "execution_count": 66,
      "id": "ceaa5c98",
      "metadata": {
        "colab": {
          "base_uri": "https://localhost:8080/",
          "height": 791
        },
        "id": "ceaa5c98",
        "outputId": "54c5dbc8-b58d-413b-e381-203a2227a564",
        "scrolled": true
      },
      "outputs": [
        {
          "data": {
            "text/html": [
              "<div>\n",
              "<style scoped>\n",
              "    .dataframe tbody tr th:only-of-type {\n",
              "        vertical-align: middle;\n",
              "    }\n",
              "\n",
              "    .dataframe tbody tr th {\n",
              "        vertical-align: top;\n",
              "    }\n",
              "\n",
              "    .dataframe thead th {\n",
              "        text-align: right;\n",
              "    }\n",
              "</style>\n",
              "<table border=\"1\" class=\"dataframe\">\n",
              "  <thead>\n",
              "    <tr style=\"text-align: right;\">\n",
              "      <th></th>\n",
              "      <th>created_at</th>\n",
              "      <th>updated_at</th>\n",
              "      <th>clickability_test_id</th>\n",
              "      <th>excerpt</th>\n",
              "      <th>headline</th>\n",
              "      <th>lede</th>\n",
              "      <th>slug</th>\n",
              "      <th>eyecatcher_id</th>\n",
              "      <th>impressions</th>\n",
              "      <th>clicks</th>\n",
              "      <th>significance</th>\n",
              "      <th>first_place</th>\n",
              "      <th>winner</th>\n",
              "      <th>share_text</th>\n",
              "      <th>square</th>\n",
              "      <th>test_week</th>\n",
              "      <th>ctr</th>\n",
              "    </tr>\n",
              "  </thead>\n",
              "  <tbody>\n",
              "    <tr>\n",
              "      <th>0</th>\n",
              "      <td>2014-11-20 06:43:16.005</td>\n",
              "      <td>2016-04-02 16:33:38.062</td>\n",
              "      <td>546d88fb84ad38b2ce000024</td>\n",
              "      <td>Things that matter. Pass 'em on.</td>\n",
              "      <td>They're Being Called 'Walmart's Worst Nightmar...</td>\n",
              "      <td>&lt;p&gt;When I saw *why* people are calling them \"W...</td>\n",
              "      <td>theyre-being-called-walmarts-worst-nightmare-a...</td>\n",
              "      <td>546d6fa19ad54eec8d00002d</td>\n",
              "      <td>3052</td>\n",
              "      <td>150</td>\n",
              "      <td>100.0</td>\n",
              "      <td>True</td>\n",
              "      <td>True</td>\n",
              "      <td>Anyone who's ever felt guilty about shopping a...</td>\n",
              "      <td>NaN</td>\n",
              "      <td>201446</td>\n",
              "      <td>0.049148</td>\n",
              "    </tr>\n",
              "    <tr>\n",
              "      <th>1</th>\n",
              "      <td>2014-11-20 06:54:36.335</td>\n",
              "      <td>2016-04-02 16:25:54.027</td>\n",
              "      <td>546d902c26714c6c44000039</td>\n",
              "      <td>Things that matter. Pass 'em on.</td>\n",
              "      <td>This Is What Sexism Against Men Sounds Like</td>\n",
              "      <td>&lt;p&gt;DISCLOSURE: I'm a dude. I have cried on mul...</td>\n",
              "      <td>this-is-what-sexism-against-men-sounds-like-am...</td>\n",
              "      <td>546bc55335992b86c8000043</td>\n",
              "      <td>3526</td>\n",
              "      <td>90</td>\n",
              "      <td>4.1</td>\n",
              "      <td>False</td>\n",
              "      <td>False</td>\n",
              "      <td>If you ever wondered, \"but what about the men?...</td>\n",
              "      <td>NaN</td>\n",
              "      <td>201446</td>\n",
              "      <td>0.025525</td>\n",
              "    </tr>\n",
              "    <tr>\n",
              "      <th>2</th>\n",
              "      <td>2014-11-20 06:54:57.878</td>\n",
              "      <td>2016-04-02 16:31:45.671</td>\n",
              "      <td>546d902c26714c6c44000039</td>\n",
              "      <td>Things that matter. Pass 'em on.</td>\n",
              "      <td>This Is What Sexism Against Men Sounds Like</td>\n",
              "      <td>&lt;p&gt;DISCLOSURE: I'm a dude. I have cried on mul...</td>\n",
              "      <td>this-is-what-sexism-against-men-sounds-like-am...</td>\n",
              "      <td>546d900426714cd2dd00002e</td>\n",
              "      <td>3506</td>\n",
              "      <td>120</td>\n",
              "      <td>100.0</td>\n",
              "      <td>True</td>\n",
              "      <td>False</td>\n",
              "      <td>If you ever wondered, \"but what about the men?...</td>\n",
              "      <td>NaN</td>\n",
              "      <td>201446</td>\n",
              "      <td>0.034227</td>\n",
              "    </tr>\n",
              "    <tr>\n",
              "      <th>3</th>\n",
              "      <td>2014-11-20 06:55:07.212</td>\n",
              "      <td>2016-04-02 16:25:54.029</td>\n",
              "      <td>546d902c26714c6c44000039</td>\n",
              "      <td>Things that matter. Pass 'em on.</td>\n",
              "      <td>This Is What Sexism Against Men Sounds Like</td>\n",
              "      <td>&lt;p&gt;DISCLOSURE: I'm a dude. I have cried on mul...</td>\n",
              "      <td>this-is-what-sexism-against-men-sounds-like-am...</td>\n",
              "      <td>546d900426714c6c44000038</td>\n",
              "      <td>3380</td>\n",
              "      <td>98</td>\n",
              "      <td>25.3</td>\n",
              "      <td>False</td>\n",
              "      <td>False</td>\n",
              "      <td>If you ever wondered, \"but what about the men?...</td>\n",
              "      <td>NaN</td>\n",
              "      <td>201446</td>\n",
              "      <td>0.028994</td>\n",
              "    </tr>\n",
              "    <tr>\n",
              "      <th>4</th>\n",
              "      <td>2014-11-20 06:55:20.347</td>\n",
              "      <td>2016-04-02 16:25:54.032</td>\n",
              "      <td>546d902c26714c6c44000039</td>\n",
              "      <td>Things that matter. Pass 'em on.</td>\n",
              "      <td>This Is What Sexism Against Men Sounds Like</td>\n",
              "      <td>&lt;p&gt;DISCLOSURE: I'm a dude. I have cried on mul...</td>\n",
              "      <td>this-is-what-sexism-against-men-sounds-like-am...</td>\n",
              "      <td>546d900426714c1ad900001e</td>\n",
              "      <td>3465</td>\n",
              "      <td>75</td>\n",
              "      <td>0.2</td>\n",
              "      <td>False</td>\n",
              "      <td>False</td>\n",
              "      <td>If you ever wondered, \"but what about the men?...</td>\n",
              "      <td>NaN</td>\n",
              "      <td>201446</td>\n",
              "      <td>0.021645</td>\n",
              "    </tr>\n",
              "  </tbody>\n",
              "</table>\n",
              "</div>"
            ],
            "text/plain": [
              "                created_at               updated_at      clickability_test_id  \\\n",
              "0  2014-11-20 06:43:16.005  2016-04-02 16:33:38.062  546d88fb84ad38b2ce000024   \n",
              "1  2014-11-20 06:54:36.335  2016-04-02 16:25:54.027  546d902c26714c6c44000039   \n",
              "2  2014-11-20 06:54:57.878  2016-04-02 16:31:45.671  546d902c26714c6c44000039   \n",
              "3  2014-11-20 06:55:07.212  2016-04-02 16:25:54.029  546d902c26714c6c44000039   \n",
              "4  2014-11-20 06:55:20.347  2016-04-02 16:25:54.032  546d902c26714c6c44000039   \n",
              "\n",
              "                            excerpt  \\\n",
              "0  Things that matter. Pass 'em on.   \n",
              "1  Things that matter. Pass 'em on.   \n",
              "2  Things that matter. Pass 'em on.   \n",
              "3  Things that matter. Pass 'em on.   \n",
              "4  Things that matter. Pass 'em on.   \n",
              "\n",
              "                                            headline  \\\n",
              "0  They're Being Called 'Walmart's Worst Nightmar...   \n",
              "1        This Is What Sexism Against Men Sounds Like   \n",
              "2        This Is What Sexism Against Men Sounds Like   \n",
              "3        This Is What Sexism Against Men Sounds Like   \n",
              "4        This Is What Sexism Against Men Sounds Like   \n",
              "\n",
              "                                                lede  \\\n",
              "0  <p>When I saw *why* people are calling them \"W...   \n",
              "1  <p>DISCLOSURE: I'm a dude. I have cried on mul...   \n",
              "2  <p>DISCLOSURE: I'm a dude. I have cried on mul...   \n",
              "3  <p>DISCLOSURE: I'm a dude. I have cried on mul...   \n",
              "4  <p>DISCLOSURE: I'm a dude. I have cried on mul...   \n",
              "\n",
              "                                                slug  \\\n",
              "0  theyre-being-called-walmarts-worst-nightmare-a...   \n",
              "1  this-is-what-sexism-against-men-sounds-like-am...   \n",
              "2  this-is-what-sexism-against-men-sounds-like-am...   \n",
              "3  this-is-what-sexism-against-men-sounds-like-am...   \n",
              "4  this-is-what-sexism-against-men-sounds-like-am...   \n",
              "\n",
              "              eyecatcher_id  impressions  clicks  significance  first_place  \\\n",
              "0  546d6fa19ad54eec8d00002d         3052     150         100.0         True   \n",
              "1  546bc55335992b86c8000043         3526      90           4.1        False   \n",
              "2  546d900426714cd2dd00002e         3506     120         100.0         True   \n",
              "3  546d900426714c6c44000038         3380      98          25.3        False   \n",
              "4  546d900426714c1ad900001e         3465      75           0.2        False   \n",
              "\n",
              "   winner                                         share_text square  \\\n",
              "0    True  Anyone who's ever felt guilty about shopping a...    NaN   \n",
              "1   False  If you ever wondered, \"but what about the men?...    NaN   \n",
              "2   False  If you ever wondered, \"but what about the men?...    NaN   \n",
              "3   False  If you ever wondered, \"but what about the men?...    NaN   \n",
              "4   False  If you ever wondered, \"but what about the men?...    NaN   \n",
              "\n",
              "   test_week       ctr  \n",
              "0     201446  0.049148  \n",
              "1     201446  0.025525  \n",
              "2     201446  0.034227  \n",
              "3     201446  0.028994  \n",
              "4     201446  0.021645  "
            ]
          },
          "execution_count": 66,
          "metadata": {},
          "output_type": "execute_result"
        }
      ],
      "source": [
        "upworthy_packages_ctr=upworthy_packages.copy()\n",
        "upworthy_packages_ctr['ctr']=upworthy_packages_ctr.clicks/upworthy_packages_ctr.impressions\n",
        "upworthy_packages_ctr.head()"
      ]
    },
    {
      "cell_type": "markdown",
      "id": "2ee7835d",
      "metadata": {
        "id": "2ee7835d"
      },
      "source": [
        "## 1.4"
      ]
    },
    {
      "cell_type": "code",
      "execution_count": 67,
      "id": "c0c2eb80",
      "metadata": {
        "colab": {
          "base_uri": "https://localhost:8080/",
          "height": 0
        },
        "id": "c0c2eb80",
        "outputId": "ea7f39d9-adc9-4768-d11e-3b3927df3576",
        "scrolled": true
      },
      "outputs": [
        {
          "data": {
            "text/html": [
              "<div>\n",
              "<style scoped>\n",
              "    .dataframe tbody tr th:only-of-type {\n",
              "        vertical-align: middle;\n",
              "    }\n",
              "\n",
              "    .dataframe tbody tr th {\n",
              "        vertical-align: top;\n",
              "    }\n",
              "\n",
              "    .dataframe thead th {\n",
              "        text-align: right;\n",
              "    }\n",
              "</style>\n",
              "<table border=\"1\" class=\"dataframe\">\n",
              "  <thead>\n",
              "    <tr style=\"text-align: right;\">\n",
              "      <th></th>\n",
              "      <th>created_at</th>\n",
              "      <th>updated_at</th>\n",
              "      <th>clickability_test_id</th>\n",
              "      <th>excerpt</th>\n",
              "      <th>headline</th>\n",
              "      <th>lede</th>\n",
              "      <th>slug</th>\n",
              "      <th>eyecatcher_id</th>\n",
              "      <th>impressions</th>\n",
              "      <th>clicks</th>\n",
              "      <th>significance</th>\n",
              "      <th>first_place</th>\n",
              "      <th>winner</th>\n",
              "      <th>share_text</th>\n",
              "      <th>square</th>\n",
              "      <th>test_week</th>\n",
              "    </tr>\n",
              "  </thead>\n",
              "  <tbody>\n",
              "    <tr>\n",
              "      <th>10</th>\n",
              "      <td>2014-11-20 14:57:52.478</td>\n",
              "      <td>2016-04-02 16:25:54.161</td>\n",
              "      <td>546e009a9ad54ec65b00004b</td>\n",
              "      <td>Things that matter. Pass 'em on.</td>\n",
              "      <td>What They Learned From The Scientist Was Terri...</td>\n",
              "      <td>&lt;p&gt;Some decent guys fighting for an important ...</td>\n",
              "      <td>what-they-learned-from-the-scientist-was-terri...</td>\n",
              "      <td>546c7f2dbadeb5788700000a</td>\n",
              "      <td>4594</td>\n",
              "      <td>51</td>\n",
              "      <td>20.7</td>\n",
              "      <td>False</td>\n",
              "      <td>False</td>\n",
              "      <td>NaN</td>\n",
              "      <td>NaN</td>\n",
              "      <td>201446</td>\n",
              "    </tr>\n",
              "    <tr>\n",
              "      <th>20</th>\n",
              "      <td>2014-11-20 14:54:18.78</td>\n",
              "      <td>2016-04-02 16:25:54.159</td>\n",
              "      <td>546e009a9ad54ec65b00004b</td>\n",
              "      <td>Things that matter. Pass 'em on.</td>\n",
              "      <td>A Science Guy Helps 3 Dudes From America Under...</td>\n",
              "      <td>&lt;p&gt;Some decent guys fighting for an important ...</td>\n",
              "      <td>a-science-guy-helps-3-dudes-from-america-under...</td>\n",
              "      <td>546c7f2dbadeb5788700000a</td>\n",
              "      <td>4571</td>\n",
              "      <td>58</td>\n",
              "      <td>57.6</td>\n",
              "      <td>False</td>\n",
              "      <td>False</td>\n",
              "      <td>NaN</td>\n",
              "      <td>NaN</td>\n",
              "      <td>201446</td>\n",
              "    </tr>\n",
              "    <tr>\n",
              "      <th>21</th>\n",
              "      <td>2014-11-20 15:04:49.517</td>\n",
              "      <td>2016-04-02 16:25:54.112</td>\n",
              "      <td>546e009a9ad54ec65b00004b</td>\n",
              "      <td>Things that matter. Pass 'em on.</td>\n",
              "      <td>He Sat Them Down And Told Them About An Immine...</td>\n",
              "      <td>&lt;p&gt;Some decent guys fighting for an important ...</td>\n",
              "      <td>he-sat-them-down-and-told-them-about-an-immine...</td>\n",
              "      <td>546c7f2dbadeb5788700000a</td>\n",
              "      <td>4601</td>\n",
              "      <td>27</td>\n",
              "      <td>0.0</td>\n",
              "      <td>False</td>\n",
              "      <td>False</td>\n",
              "      <td>NaN</td>\n",
              "      <td>NaN</td>\n",
              "      <td>201446</td>\n",
              "    </tr>\n",
              "    <tr>\n",
              "      <th>22</th>\n",
              "      <td>2014-11-20 15:13:36.266</td>\n",
              "      <td>2016-04-02 16:31:47.52</td>\n",
              "      <td>546e009a9ad54ec65b00004b</td>\n",
              "      <td>Things that matter. Pass 'em on.</td>\n",
              "      <td>The 3 Of Them Needed To See It In Person, And ...</td>\n",
              "      <td>&lt;p&gt;Some decent guys fighting for an important ...</td>\n",
              "      <td>the-3-of-them-needed-to-see-it-in-person-and-t...</td>\n",
              "      <td>546c7f2dbadeb5788700000a</td>\n",
              "      <td>4567</td>\n",
              "      <td>63</td>\n",
              "      <td>100.0</td>\n",
              "      <td>True</td>\n",
              "      <td>False</td>\n",
              "      <td>NaN</td>\n",
              "      <td>NaN</td>\n",
              "      <td>201446</td>\n",
              "    </tr>\n",
              "    <tr>\n",
              "      <th>23</th>\n",
              "      <td>2014-11-20 15:15:25.697</td>\n",
              "      <td>2016-04-02 16:25:54.117</td>\n",
              "      <td>546e009a9ad54ec65b00004b</td>\n",
              "      <td>Things that matter. Pass 'em on.</td>\n",
              "      <td>They May Not Be The Most Handsome Dudes, But T...</td>\n",
              "      <td>&lt;p&gt;Some decent guys fighting for an important ...</td>\n",
              "      <td>they-may-not-be-the-most-handsome-dudes-but-th...</td>\n",
              "      <td>546c7f2dbadeb5788700000a</td>\n",
              "      <td>4524</td>\n",
              "      <td>44</td>\n",
              "      <td>4.5</td>\n",
              "      <td>False</td>\n",
              "      <td>False</td>\n",
              "      <td>NaN</td>\n",
              "      <td>NaN</td>\n",
              "      <td>201446</td>\n",
              "    </tr>\n",
              "  </tbody>\n",
              "</table>\n",
              "</div>"
            ],
            "text/plain": [
              "                 created_at               updated_at  \\\n",
              "10  2014-11-20 14:57:52.478  2016-04-02 16:25:54.161   \n",
              "20   2014-11-20 14:54:18.78  2016-04-02 16:25:54.159   \n",
              "21  2014-11-20 15:04:49.517  2016-04-02 16:25:54.112   \n",
              "22  2014-11-20 15:13:36.266   2016-04-02 16:31:47.52   \n",
              "23  2014-11-20 15:15:25.697  2016-04-02 16:25:54.117   \n",
              "\n",
              "        clickability_test_id                           excerpt  \\\n",
              "10  546e009a9ad54ec65b00004b  Things that matter. Pass 'em on.   \n",
              "20  546e009a9ad54ec65b00004b  Things that matter. Pass 'em on.   \n",
              "21  546e009a9ad54ec65b00004b  Things that matter. Pass 'em on.   \n",
              "22  546e009a9ad54ec65b00004b  Things that matter. Pass 'em on.   \n",
              "23  546e009a9ad54ec65b00004b  Things that matter. Pass 'em on.   \n",
              "\n",
              "                                             headline  \\\n",
              "10  What They Learned From The Scientist Was Terri...   \n",
              "20  A Science Guy Helps 3 Dudes From America Under...   \n",
              "21  He Sat Them Down And Told Them About An Immine...   \n",
              "22  The 3 Of Them Needed To See It In Person, And ...   \n",
              "23  They May Not Be The Most Handsome Dudes, But T...   \n",
              "\n",
              "                                                 lede  \\\n",
              "10  <p>Some decent guys fighting for an important ...   \n",
              "20  <p>Some decent guys fighting for an important ...   \n",
              "21  <p>Some decent guys fighting for an important ...   \n",
              "22  <p>Some decent guys fighting for an important ...   \n",
              "23  <p>Some decent guys fighting for an important ...   \n",
              "\n",
              "                                                 slug  \\\n",
              "10  what-they-learned-from-the-scientist-was-terri...   \n",
              "20  a-science-guy-helps-3-dudes-from-america-under...   \n",
              "21  he-sat-them-down-and-told-them-about-an-immine...   \n",
              "22  the-3-of-them-needed-to-see-it-in-person-and-t...   \n",
              "23  they-may-not-be-the-most-handsome-dudes-but-th...   \n",
              "\n",
              "               eyecatcher_id  impressions  clicks  significance  first_place  \\\n",
              "10  546c7f2dbadeb5788700000a         4594      51          20.7        False   \n",
              "20  546c7f2dbadeb5788700000a         4571      58          57.6        False   \n",
              "21  546c7f2dbadeb5788700000a         4601      27           0.0        False   \n",
              "22  546c7f2dbadeb5788700000a         4567      63         100.0         True   \n",
              "23  546c7f2dbadeb5788700000a         4524      44           4.5        False   \n",
              "\n",
              "    winner share_text square  test_week  \n",
              "10   False        NaN    NaN     201446  \n",
              "20   False        NaN    NaN     201446  \n",
              "21   False        NaN    NaN     201446  \n",
              "22   False        NaN    NaN     201446  \n",
              "23   False        NaN    NaN     201446  "
            ]
          },
          "execution_count": 67,
          "metadata": {},
          "output_type": "execute_result"
        }
      ],
      "source": [
        "mult_headlines_df=upworthy_packages.groupby('clickability_test_id').filter(lambda x: \n",
        "                                        len(x['headline'].unique())> 1)\n",
        "mult_headlines_df.head()"
      ]
    },
    {
      "cell_type": "code",
      "execution_count": 68,
      "id": "573c2201",
      "metadata": {
        "colab": {
          "base_uri": "https://localhost:8080/"
        },
        "id": "573c2201",
        "outputId": "d0258747-591b-4014-f6d5-10b45b1b37bf"
      },
      "outputs": [
        {
          "name": "stdout",
          "output_type": "stream",
          "text": [
            "length of filtered dataframe with unique headline: 11600\n"
          ]
        }
      ],
      "source": [
        "print(f'length of filtered dataframe with unique headline: {len(mult_headlines_df.index)}')"
      ]
    },
    {
      "cell_type": "code",
      "execution_count": 69,
      "id": "9234e5e8",
      "metadata": {
        "colab": {
          "base_uri": "https://localhost:8080/"
        },
        "id": "9234e5e8",
        "outputId": "13cb2df5-4b37-47f8-cdc3-b45da57ab66d"
      },
      "outputs": [
        {
          "name": "stdout",
          "output_type": "stream",
          "text": [
            "number of discarded experiments after filter with unique headline: 2236\n"
          ]
        }
      ],
      "source": [
        "nb_discarded_exps=len(experiments.index)-len(mult_headlines_df.clickability_test_id.unique())\n",
        "nb_discarded_exps\n",
        "print(f'number of discarded experiments after filter with unique headline: {nb_discarded_exps}')"
      ]
    },
    {
      "cell_type": "markdown",
      "id": "1932225d",
      "metadata": {
        "id": "1932225d"
      },
      "source": [
        "## 1.5"
      ]
    },
    {
      "cell_type": "code",
      "execution_count": 70,
      "id": "00758e92",
      "metadata": {
        "colab": {
          "base_uri": "https://localhost:8080/",
          "height": 572
        },
        "id": "00758e92",
        "outputId": "cad326a3-d42e-42eb-cb2e-6ca7a476ac8a"
      },
      "outputs": [
        {
          "data": {
            "text/html": [
              "<div>\n",
              "<style scoped>\n",
              "    .dataframe tbody tr th:only-of-type {\n",
              "        vertical-align: middle;\n",
              "    }\n",
              "\n",
              "    .dataframe tbody tr th {\n",
              "        vertical-align: top;\n",
              "    }\n",
              "\n",
              "    .dataframe thead th {\n",
              "        text-align: right;\n",
              "    }\n",
              "</style>\n",
              "<table border=\"1\" class=\"dataframe\">\n",
              "  <thead>\n",
              "    <tr style=\"text-align: right;\">\n",
              "      <th></th>\n",
              "      <th>created_at</th>\n",
              "      <th>updated_at</th>\n",
              "      <th>clickability_test_id</th>\n",
              "      <th>excerpt</th>\n",
              "      <th>headline</th>\n",
              "      <th>lede</th>\n",
              "      <th>slug</th>\n",
              "      <th>eyecatcher_id</th>\n",
              "      <th>impressions</th>\n",
              "      <th>clicks</th>\n",
              "      <th>significance</th>\n",
              "      <th>first_place</th>\n",
              "      <th>winner</th>\n",
              "      <th>share_text</th>\n",
              "      <th>square</th>\n",
              "      <th>test_week</th>\n",
              "    </tr>\n",
              "  </thead>\n",
              "  <tbody>\n",
              "    <tr>\n",
              "      <th>1</th>\n",
              "      <td>2014-11-20 06:54:36.335</td>\n",
              "      <td>2016-04-02 16:25:54.027</td>\n",
              "      <td>546d902c26714c6c44000039</td>\n",
              "      <td>Things that matter. Pass 'em on.</td>\n",
              "      <td>This Is What Sexism Against Men Sounds Like</td>\n",
              "      <td>&lt;p&gt;DISCLOSURE: I'm a dude. I have cried on mul...</td>\n",
              "      <td>this-is-what-sexism-against-men-sounds-like-am...</td>\n",
              "      <td>546bc55335992b86c8000043</td>\n",
              "      <td>3526</td>\n",
              "      <td>90</td>\n",
              "      <td>4.1</td>\n",
              "      <td>False</td>\n",
              "      <td>False</td>\n",
              "      <td>If you ever wondered, \"but what about the men?...</td>\n",
              "      <td>NaN</td>\n",
              "      <td>201446</td>\n",
              "    </tr>\n",
              "    <tr>\n",
              "      <th>2</th>\n",
              "      <td>2014-11-20 06:54:57.878</td>\n",
              "      <td>2016-04-02 16:31:45.671</td>\n",
              "      <td>546d902c26714c6c44000039</td>\n",
              "      <td>Things that matter. Pass 'em on.</td>\n",
              "      <td>This Is What Sexism Against Men Sounds Like</td>\n",
              "      <td>&lt;p&gt;DISCLOSURE: I'm a dude. I have cried on mul...</td>\n",
              "      <td>this-is-what-sexism-against-men-sounds-like-am...</td>\n",
              "      <td>546d900426714cd2dd00002e</td>\n",
              "      <td>3506</td>\n",
              "      <td>120</td>\n",
              "      <td>100.0</td>\n",
              "      <td>True</td>\n",
              "      <td>False</td>\n",
              "      <td>If you ever wondered, \"but what about the men?...</td>\n",
              "      <td>NaN</td>\n",
              "      <td>201446</td>\n",
              "    </tr>\n",
              "    <tr>\n",
              "      <th>3</th>\n",
              "      <td>2014-11-20 06:55:07.212</td>\n",
              "      <td>2016-04-02 16:25:54.029</td>\n",
              "      <td>546d902c26714c6c44000039</td>\n",
              "      <td>Things that matter. Pass 'em on.</td>\n",
              "      <td>This Is What Sexism Against Men Sounds Like</td>\n",
              "      <td>&lt;p&gt;DISCLOSURE: I'm a dude. I have cried on mul...</td>\n",
              "      <td>this-is-what-sexism-against-men-sounds-like-am...</td>\n",
              "      <td>546d900426714c6c44000038</td>\n",
              "      <td>3380</td>\n",
              "      <td>98</td>\n",
              "      <td>25.3</td>\n",
              "      <td>False</td>\n",
              "      <td>False</td>\n",
              "      <td>If you ever wondered, \"but what about the men?...</td>\n",
              "      <td>NaN</td>\n",
              "      <td>201446</td>\n",
              "    </tr>\n",
              "  </tbody>\n",
              "</table>\n",
              "</div>"
            ],
            "text/plain": [
              "                created_at               updated_at      clickability_test_id  \\\n",
              "1  2014-11-20 06:54:36.335  2016-04-02 16:25:54.027  546d902c26714c6c44000039   \n",
              "2  2014-11-20 06:54:57.878  2016-04-02 16:31:45.671  546d902c26714c6c44000039   \n",
              "3  2014-11-20 06:55:07.212  2016-04-02 16:25:54.029  546d902c26714c6c44000039   \n",
              "\n",
              "                            excerpt  \\\n",
              "1  Things that matter. Pass 'em on.   \n",
              "2  Things that matter. Pass 'em on.   \n",
              "3  Things that matter. Pass 'em on.   \n",
              "\n",
              "                                      headline  \\\n",
              "1  This Is What Sexism Against Men Sounds Like   \n",
              "2  This Is What Sexism Against Men Sounds Like   \n",
              "3  This Is What Sexism Against Men Sounds Like   \n",
              "\n",
              "                                                lede  \\\n",
              "1  <p>DISCLOSURE: I'm a dude. I have cried on mul...   \n",
              "2  <p>DISCLOSURE: I'm a dude. I have cried on mul...   \n",
              "3  <p>DISCLOSURE: I'm a dude. I have cried on mul...   \n",
              "\n",
              "                                                slug  \\\n",
              "1  this-is-what-sexism-against-men-sounds-like-am...   \n",
              "2  this-is-what-sexism-against-men-sounds-like-am...   \n",
              "3  this-is-what-sexism-against-men-sounds-like-am...   \n",
              "\n",
              "              eyecatcher_id  impressions  clicks  significance  first_place  \\\n",
              "1  546bc55335992b86c8000043         3526      90           4.1        False   \n",
              "2  546d900426714cd2dd00002e         3506     120         100.0         True   \n",
              "3  546d900426714c6c44000038         3380      98          25.3        False   \n",
              "\n",
              "   winner                                         share_text square  test_week  \n",
              "1   False  If you ever wondered, \"but what about the men?...    NaN     201446  \n",
              "2   False  If you ever wondered, \"but what about the men?...    NaN     201446  \n",
              "3   False  If you ever wondered, \"but what about the men?...    NaN     201446  "
            ]
          },
          "execution_count": 70,
          "metadata": {},
          "output_type": "execute_result"
        }
      ],
      "source": [
        "mult_image_df=upworthy_packages.groupby('clickability_test_id').filter(lambda x: \n",
        "                                        len(x['eyecatcher_id'].unique())> 1)\n",
        "mult_image_df.head(3)"
      ]
    },
    {
      "cell_type": "code",
      "execution_count": 71,
      "id": "01bd4e35",
      "metadata": {
        "colab": {
          "base_uri": "https://localhost:8080/"
        },
        "id": "01bd4e35",
        "outputId": "57e99e32-add1-4777-cf56-f76d9333fb23"
      },
      "outputs": [
        {
          "name": "stdout",
          "output_type": "stream",
          "text": [
            "length of filtered dataframe with unique eyecatcher_id: 7930\n"
          ]
        }
      ],
      "source": [
        "print(f'length of filtered dataframe with unique eyecatcher_id: {len(mult_image_df.index)}')"
      ]
    },
    {
      "cell_type": "code",
      "execution_count": 72,
      "id": "b9a15fad",
      "metadata": {
        "colab": {
          "base_uri": "https://localhost:8080/"
        },
        "id": "b9a15fad",
        "outputId": "3f6a27b4-1f41-4348-e7b0-cdd130dc7c85"
      },
      "outputs": [
        {
          "name": "stdout",
          "output_type": "stream",
          "text": [
            "number of discarded experiments after filter with unique eyecatcher_id: 3108\n"
          ]
        }
      ],
      "source": [
        "nb_discarded_exps=len(experiments.index)-len(mult_image_df.clickability_test_id.unique())\n",
        "nb_discarded_exps\n",
        "print(f'number of discarded experiments after filter with unique eyecatcher_id: {nb_discarded_exps}')"
      ]
    },
    {
      "cell_type": "markdown",
      "id": "423e6fd0",
      "metadata": {
        "id": "423e6fd0"
      },
      "source": [
        "## 1.6"
      ]
    },
    {
      "cell_type": "markdown",
      "id": "df9c75b5",
      "metadata": {
        "id": "df9c75b5"
      },
      "source": [
        "When analyzing the effect of the headline and eyecatcher variables, we notice that the number of the tests that has been discarded due to varying the eyecatchers (3108) is higher than those discarded due to varying the headline (2236). This leads us to think that during the experiments, the different versions tested by Upworthy had more varied headlines than eyecatchers. This could be because it is harder to come up with new images than new headlines."
      ]
    },
    {
      "cell_type": "markdown",
      "id": "a8a887b3",
      "metadata": {
        "id": "a8a887b3"
      },
      "source": [
        "## 1.7"
      ]
    },
    {
      "cell_type": "code",
      "execution_count": 73,
      "id": "18b28373",
      "metadata": {
        "colab": {
          "base_uri": "https://localhost:8080/",
          "height": 449
        },
        "id": "18b28373",
        "outputId": "479a75d3-5678-42bd-8bf1-23c4a6337264"
      },
      "outputs": [
        {
          "data": {
            "text/html": [
              "<div>\n",
              "<style scoped>\n",
              "    .dataframe tbody tr th:only-of-type {\n",
              "        vertical-align: middle;\n",
              "    }\n",
              "\n",
              "    .dataframe tbody tr th {\n",
              "        vertical-align: top;\n",
              "    }\n",
              "\n",
              "    .dataframe thead th {\n",
              "        text-align: right;\n",
              "    }\n",
              "</style>\n",
              "<table border=\"1\" class=\"dataframe\">\n",
              "  <thead>\n",
              "    <tr style=\"text-align: right;\">\n",
              "      <th></th>\n",
              "      <th>created_at_x</th>\n",
              "      <th>updated_at_x</th>\n",
              "      <th>clickability_test_id</th>\n",
              "      <th>excerpt</th>\n",
              "      <th>headline_x</th>\n",
              "      <th>lede</th>\n",
              "      <th>slug_x</th>\n",
              "      <th>eyecatcher_id</th>\n",
              "      <th>impressions_x</th>\n",
              "      <th>clicks_x</th>\n",
              "      <th>...</th>\n",
              "      <th>headline_y</th>\n",
              "      <th>slug_y</th>\n",
              "      <th>impressions_y</th>\n",
              "      <th>clicks_y</th>\n",
              "      <th>significance_y</th>\n",
              "      <th>first_place_y</th>\n",
              "      <th>winner_y</th>\n",
              "      <th>share_text_y</th>\n",
              "      <th>square_y</th>\n",
              "      <th>test_week_y</th>\n",
              "    </tr>\n",
              "  </thead>\n",
              "  <tbody>\n",
              "    <tr>\n",
              "      <th>1</th>\n",
              "      <td>2014-11-20 14:57:52.478</td>\n",
              "      <td>2016-04-02 16:25:54.161</td>\n",
              "      <td>546e009a9ad54ec65b00004b</td>\n",
              "      <td>Things that matter. Pass 'em on.</td>\n",
              "      <td>What They Learned From The Scientist Was Terri...</td>\n",
              "      <td>&lt;p&gt;Some decent guys fighting for an important ...</td>\n",
              "      <td>what-they-learned-from-the-scientist-was-terri...</td>\n",
              "      <td>546c7f2dbadeb5788700000a</td>\n",
              "      <td>4594</td>\n",
              "      <td>51</td>\n",
              "      <td>...</td>\n",
              "      <td>A Science Guy Helps 3 Dudes From America Under...</td>\n",
              "      <td>a-science-guy-helps-3-dudes-from-america-under...</td>\n",
              "      <td>4571</td>\n",
              "      <td>58</td>\n",
              "      <td>57.6</td>\n",
              "      <td>False</td>\n",
              "      <td>False</td>\n",
              "      <td>NaN</td>\n",
              "      <td>NaN</td>\n",
              "      <td>201446</td>\n",
              "    </tr>\n",
              "    <tr>\n",
              "      <th>2</th>\n",
              "      <td>2014-11-20 14:57:52.478</td>\n",
              "      <td>2016-04-02 16:25:54.161</td>\n",
              "      <td>546e009a9ad54ec65b00004b</td>\n",
              "      <td>Things that matter. Pass 'em on.</td>\n",
              "      <td>What They Learned From The Scientist Was Terri...</td>\n",
              "      <td>&lt;p&gt;Some decent guys fighting for an important ...</td>\n",
              "      <td>what-they-learned-from-the-scientist-was-terri...</td>\n",
              "      <td>546c7f2dbadeb5788700000a</td>\n",
              "      <td>4594</td>\n",
              "      <td>51</td>\n",
              "      <td>...</td>\n",
              "      <td>He Sat Them Down And Told Them About An Immine...</td>\n",
              "      <td>he-sat-them-down-and-told-them-about-an-immine...</td>\n",
              "      <td>4601</td>\n",
              "      <td>27</td>\n",
              "      <td>0.0</td>\n",
              "      <td>False</td>\n",
              "      <td>False</td>\n",
              "      <td>NaN</td>\n",
              "      <td>NaN</td>\n",
              "      <td>201446</td>\n",
              "    </tr>\n",
              "  </tbody>\n",
              "</table>\n",
              "<p>2 rows × 28 columns</p>\n",
              "</div>"
            ],
            "text/plain": [
              "              created_at_x             updated_at_x      clickability_test_id  \\\n",
              "1  2014-11-20 14:57:52.478  2016-04-02 16:25:54.161  546e009a9ad54ec65b00004b   \n",
              "2  2014-11-20 14:57:52.478  2016-04-02 16:25:54.161  546e009a9ad54ec65b00004b   \n",
              "\n",
              "                            excerpt  \\\n",
              "1  Things that matter. Pass 'em on.   \n",
              "2  Things that matter. Pass 'em on.   \n",
              "\n",
              "                                          headline_x  \\\n",
              "1  What They Learned From The Scientist Was Terri...   \n",
              "2  What They Learned From The Scientist Was Terri...   \n",
              "\n",
              "                                                lede  \\\n",
              "1  <p>Some decent guys fighting for an important ...   \n",
              "2  <p>Some decent guys fighting for an important ...   \n",
              "\n",
              "                                              slug_x  \\\n",
              "1  what-they-learned-from-the-scientist-was-terri...   \n",
              "2  what-they-learned-from-the-scientist-was-terri...   \n",
              "\n",
              "              eyecatcher_id  impressions_x  clicks_x  ...  \\\n",
              "1  546c7f2dbadeb5788700000a           4594        51  ...   \n",
              "2  546c7f2dbadeb5788700000a           4594        51  ...   \n",
              "\n",
              "                                          headline_y  \\\n",
              "1  A Science Guy Helps 3 Dudes From America Under...   \n",
              "2  He Sat Them Down And Told Them About An Immine...   \n",
              "\n",
              "                                              slug_y  impressions_y clicks_y  \\\n",
              "1  a-science-guy-helps-3-dudes-from-america-under...           4571       58   \n",
              "2  he-sat-them-down-and-told-them-about-an-immine...           4601       27   \n",
              "\n",
              "  significance_y  first_place_y winner_y share_text_y square_y test_week_y  \n",
              "1           57.6          False    False          NaN      NaN      201446  \n",
              "2            0.0          False    False          NaN      NaN      201446  \n",
              "\n",
              "[2 rows x 28 columns]"
            ]
          },
          "execution_count": 73,
          "metadata": {},
          "output_type": "execute_result"
        }
      ],
      "source": [
        "df_catsompare_headline_1= mult_headlines_df \n",
        "df_catsompare_headline_2= df_catsompare_headline_1.copy()\n",
        "df_catsompare_headline= df_catsompare_headline_2.merge(df_catsompare_headline_1, \n",
        "                                                 on=['excerpt','lede','eyecatcher_id','clickability_test_id'])\n",
        "df_catsompare_headline= df_catsompare_headline[df_catsompare_headline.headline_x != df_catsompare_headline.headline_y]\n",
        "df_catsompare_headline.head(2)"
      ]
    },
    {
      "cell_type": "code",
      "execution_count": 74,
      "id": "e986e75e",
      "metadata": {
        "colab": {
          "base_uri": "https://localhost:8080/",
          "height": 449
        },
        "id": "e986e75e",
        "outputId": "5f734caa-955c-4c86-f71b-6e51282a55d1"
      },
      "outputs": [
        {
          "data": {
            "text/html": [
              "<div>\n",
              "<style scoped>\n",
              "    .dataframe tbody tr th:only-of-type {\n",
              "        vertical-align: middle;\n",
              "    }\n",
              "\n",
              "    .dataframe tbody tr th {\n",
              "        vertical-align: top;\n",
              "    }\n",
              "\n",
              "    .dataframe thead th {\n",
              "        text-align: right;\n",
              "    }\n",
              "</style>\n",
              "<table border=\"1\" class=\"dataframe\">\n",
              "  <thead>\n",
              "    <tr style=\"text-align: right;\">\n",
              "      <th></th>\n",
              "      <th>created_at_x</th>\n",
              "      <th>updated_at_x</th>\n",
              "      <th>clickability_test_id</th>\n",
              "      <th>excerpt</th>\n",
              "      <th>headline_x</th>\n",
              "      <th>lede</th>\n",
              "      <th>slug_x</th>\n",
              "      <th>eyecatcher_id</th>\n",
              "      <th>impressions_x</th>\n",
              "      <th>clicks_x</th>\n",
              "      <th>...</th>\n",
              "      <th>impressions_y</th>\n",
              "      <th>clicks_y</th>\n",
              "      <th>significance_y</th>\n",
              "      <th>first_place_y</th>\n",
              "      <th>winner_y</th>\n",
              "      <th>share_text_y</th>\n",
              "      <th>square_y</th>\n",
              "      <th>test_week_y</th>\n",
              "      <th>ctr_x</th>\n",
              "      <th>ctr_y</th>\n",
              "    </tr>\n",
              "  </thead>\n",
              "  <tbody>\n",
              "    <tr>\n",
              "      <th>1</th>\n",
              "      <td>2014-11-20 14:57:52.478</td>\n",
              "      <td>2016-04-02 16:25:54.161</td>\n",
              "      <td>546e009a9ad54ec65b00004b</td>\n",
              "      <td>Things that matter. Pass 'em on.</td>\n",
              "      <td>What They Learned From The Scientist Was Terri...</td>\n",
              "      <td>&lt;p&gt;Some decent guys fighting for an important ...</td>\n",
              "      <td>what-they-learned-from-the-scientist-was-terri...</td>\n",
              "      <td>546c7f2dbadeb5788700000a</td>\n",
              "      <td>4594</td>\n",
              "      <td>51</td>\n",
              "      <td>...</td>\n",
              "      <td>4571</td>\n",
              "      <td>58</td>\n",
              "      <td>57.6</td>\n",
              "      <td>False</td>\n",
              "      <td>False</td>\n",
              "      <td>NaN</td>\n",
              "      <td>NaN</td>\n",
              "      <td>201446</td>\n",
              "      <td>0.0111</td>\n",
              "      <td>0.01269</td>\n",
              "    </tr>\n",
              "    <tr>\n",
              "      <th>2</th>\n",
              "      <td>2014-11-20 14:57:52.478</td>\n",
              "      <td>2016-04-02 16:25:54.161</td>\n",
              "      <td>546e009a9ad54ec65b00004b</td>\n",
              "      <td>Things that matter. Pass 'em on.</td>\n",
              "      <td>What They Learned From The Scientist Was Terri...</td>\n",
              "      <td>&lt;p&gt;Some decent guys fighting for an important ...</td>\n",
              "      <td>what-they-learned-from-the-scientist-was-terri...</td>\n",
              "      <td>546c7f2dbadeb5788700000a</td>\n",
              "      <td>4594</td>\n",
              "      <td>51</td>\n",
              "      <td>...</td>\n",
              "      <td>4601</td>\n",
              "      <td>27</td>\n",
              "      <td>0.0</td>\n",
              "      <td>False</td>\n",
              "      <td>False</td>\n",
              "      <td>NaN</td>\n",
              "      <td>NaN</td>\n",
              "      <td>201446</td>\n",
              "      <td>0.0111</td>\n",
              "      <td>0.005868</td>\n",
              "    </tr>\n",
              "  </tbody>\n",
              "</table>\n",
              "<p>2 rows × 30 columns</p>\n",
              "</div>"
            ],
            "text/plain": [
              "              created_at_x             updated_at_x      clickability_test_id  \\\n",
              "1  2014-11-20 14:57:52.478  2016-04-02 16:25:54.161  546e009a9ad54ec65b00004b   \n",
              "2  2014-11-20 14:57:52.478  2016-04-02 16:25:54.161  546e009a9ad54ec65b00004b   \n",
              "\n",
              "                            excerpt  \\\n",
              "1  Things that matter. Pass 'em on.   \n",
              "2  Things that matter. Pass 'em on.   \n",
              "\n",
              "                                          headline_x  \\\n",
              "1  What They Learned From The Scientist Was Terri...   \n",
              "2  What They Learned From The Scientist Was Terri...   \n",
              "\n",
              "                                                lede  \\\n",
              "1  <p>Some decent guys fighting for an important ...   \n",
              "2  <p>Some decent guys fighting for an important ...   \n",
              "\n",
              "                                              slug_x  \\\n",
              "1  what-they-learned-from-the-scientist-was-terri...   \n",
              "2  what-they-learned-from-the-scientist-was-terri...   \n",
              "\n",
              "              eyecatcher_id  impressions_x  clicks_x  ...  impressions_y  \\\n",
              "1  546c7f2dbadeb5788700000a           4594        51  ...           4571   \n",
              "2  546c7f2dbadeb5788700000a           4594        51  ...           4601   \n",
              "\n",
              "   clicks_y  significance_y first_place_y winner_y  share_text_y square_y  \\\n",
              "1        58            57.6         False    False           NaN      NaN   \n",
              "2        27             0.0         False    False           NaN      NaN   \n",
              "\n",
              "  test_week_y   ctr_x     ctr_y  \n",
              "1      201446  0.0111   0.01269  \n",
              "2      201446  0.0111  0.005868  \n",
              "\n",
              "[2 rows x 30 columns]"
            ]
          },
          "execution_count": 74,
          "metadata": {},
          "output_type": "execute_result"
        }
      ],
      "source": [
        "df_catsompare_headline['ctr_x']=['{:.4}'.format(x) for x in\n",
        "                     df_catsompare_headline.clicks_x/df_catsompare_headline.impressions_x]\n",
        "df_catsompare_headline['ctr_y']=['{:.4}'.format(x) for x in\n",
        "                     df_catsompare_headline.clicks_y/df_catsompare_headline.impressions_y]\n",
        "df_catsompare_headline.head(2)\n"
      ]
    },
    {
      "cell_type": "code",
      "execution_count": 75,
      "id": "061ffb70",
      "metadata": {
        "colab": {
          "base_uri": "https://localhost:8080/",
          "height": 449
        },
        "id": "061ffb70",
        "outputId": "b4db5f12-12a1-4cd6-ba53-c398a65ae4de"
      },
      "outputs": [
        {
          "data": {
            "text/html": [
              "<div>\n",
              "<style scoped>\n",
              "    .dataframe tbody tr th:only-of-type {\n",
              "        vertical-align: middle;\n",
              "    }\n",
              "\n",
              "    .dataframe tbody tr th {\n",
              "        vertical-align: top;\n",
              "    }\n",
              "\n",
              "    .dataframe thead th {\n",
              "        text-align: right;\n",
              "    }\n",
              "</style>\n",
              "<table border=\"1\" class=\"dataframe\">\n",
              "  <thead>\n",
              "    <tr style=\"text-align: right;\">\n",
              "      <th></th>\n",
              "      <th>created_at_x</th>\n",
              "      <th>updated_at_x</th>\n",
              "      <th>clickability_test_id</th>\n",
              "      <th>excerpt</th>\n",
              "      <th>headline_x</th>\n",
              "      <th>lede</th>\n",
              "      <th>slug_x</th>\n",
              "      <th>eyecatcher_id</th>\n",
              "      <th>impressions_x</th>\n",
              "      <th>clicks_x</th>\n",
              "      <th>...</th>\n",
              "      <th>winner_y</th>\n",
              "      <th>share_text_y</th>\n",
              "      <th>square_y</th>\n",
              "      <th>test_week_y</th>\n",
              "      <th>ctr_x</th>\n",
              "      <th>ctr_y</th>\n",
              "      <th>ctr1</th>\n",
              "      <th>ctr2</th>\n",
              "      <th>headline1</th>\n",
              "      <th>headline2</th>\n",
              "    </tr>\n",
              "  </thead>\n",
              "  <tbody>\n",
              "    <tr>\n",
              "      <th>1</th>\n",
              "      <td>2014-11-20 14:57:52.478</td>\n",
              "      <td>2016-04-02 16:25:54.161</td>\n",
              "      <td>546e009a9ad54ec65b00004b</td>\n",
              "      <td>Things that matter. Pass 'em on.</td>\n",
              "      <td>What They Learned From The Scientist Was Terri...</td>\n",
              "      <td>&lt;p&gt;Some decent guys fighting for an important ...</td>\n",
              "      <td>what-they-learned-from-the-scientist-was-terri...</td>\n",
              "      <td>546c7f2dbadeb5788700000a</td>\n",
              "      <td>4594</td>\n",
              "      <td>51</td>\n",
              "      <td>...</td>\n",
              "      <td>False</td>\n",
              "      <td>NaN</td>\n",
              "      <td>NaN</td>\n",
              "      <td>201446</td>\n",
              "      <td>0.0111</td>\n",
              "      <td>0.01269</td>\n",
              "      <td>0.01269</td>\n",
              "      <td>0.011100</td>\n",
              "      <td>A Science Guy Helps 3 Dudes From America Under...</td>\n",
              "      <td>What They Learned From The Scientist Was Terri...</td>\n",
              "    </tr>\n",
              "    <tr>\n",
              "      <th>2</th>\n",
              "      <td>2014-11-20 14:57:52.478</td>\n",
              "      <td>2016-04-02 16:25:54.161</td>\n",
              "      <td>546e009a9ad54ec65b00004b</td>\n",
              "      <td>Things that matter. Pass 'em on.</td>\n",
              "      <td>What They Learned From The Scientist Was Terri...</td>\n",
              "      <td>&lt;p&gt;Some decent guys fighting for an important ...</td>\n",
              "      <td>what-they-learned-from-the-scientist-was-terri...</td>\n",
              "      <td>546c7f2dbadeb5788700000a</td>\n",
              "      <td>4594</td>\n",
              "      <td>51</td>\n",
              "      <td>...</td>\n",
              "      <td>False</td>\n",
              "      <td>NaN</td>\n",
              "      <td>NaN</td>\n",
              "      <td>201446</td>\n",
              "      <td>0.0111</td>\n",
              "      <td>0.005868</td>\n",
              "      <td>0.01110</td>\n",
              "      <td>0.005868</td>\n",
              "      <td>What They Learned From The Scientist Was Terri...</td>\n",
              "      <td>He Sat Them Down And Told Them About An Immine...</td>\n",
              "    </tr>\n",
              "  </tbody>\n",
              "</table>\n",
              "<p>2 rows × 34 columns</p>\n",
              "</div>"
            ],
            "text/plain": [
              "              created_at_x             updated_at_x      clickability_test_id  \\\n",
              "1  2014-11-20 14:57:52.478  2016-04-02 16:25:54.161  546e009a9ad54ec65b00004b   \n",
              "2  2014-11-20 14:57:52.478  2016-04-02 16:25:54.161  546e009a9ad54ec65b00004b   \n",
              "\n",
              "                            excerpt  \\\n",
              "1  Things that matter. Pass 'em on.   \n",
              "2  Things that matter. Pass 'em on.   \n",
              "\n",
              "                                          headline_x  \\\n",
              "1  What They Learned From The Scientist Was Terri...   \n",
              "2  What They Learned From The Scientist Was Terri...   \n",
              "\n",
              "                                                lede  \\\n",
              "1  <p>Some decent guys fighting for an important ...   \n",
              "2  <p>Some decent guys fighting for an important ...   \n",
              "\n",
              "                                              slug_x  \\\n",
              "1  what-they-learned-from-the-scientist-was-terri...   \n",
              "2  what-they-learned-from-the-scientist-was-terri...   \n",
              "\n",
              "              eyecatcher_id  impressions_x  clicks_x  ...  winner_y  \\\n",
              "1  546c7f2dbadeb5788700000a           4594        51  ...     False   \n",
              "2  546c7f2dbadeb5788700000a           4594        51  ...     False   \n",
              "\n",
              "   share_text_y  square_y test_week_y   ctr_x     ctr_y     ctr1      ctr2  \\\n",
              "1           NaN       NaN      201446  0.0111   0.01269  0.01269  0.011100   \n",
              "2           NaN       NaN      201446  0.0111  0.005868  0.01110  0.005868   \n",
              "\n",
              "                                           headline1  \\\n",
              "1  A Science Guy Helps 3 Dudes From America Under...   \n",
              "2  What They Learned From The Scientist Was Terri...   \n",
              "\n",
              "                                           headline2  \n",
              "1  What They Learned From The Scientist Was Terri...  \n",
              "2  He Sat Them Down And Told Them About An Immine...  \n",
              "\n",
              "[2 rows x 34 columns]"
            ]
          },
          "execution_count": 75,
          "metadata": {},
          "output_type": "execute_result"
        }
      ],
      "source": [
        "df_catsompare_headline['ctr1']= df_catsompare_headline.apply(lambda x: \n",
        "                                                           max(x.ctr_x,x.ctr_y), axis=1).astype(float)\n",
        "df_catsompare_headline['ctr2']= df_catsompare_headline.apply(lambda x: \n",
        "                                                           min(x.ctr_x,x.ctr_y), axis=1).astype(float)\n",
        "df_catsompare_headline['headline1']= df_catsompare_headline.apply(lambda x:\n",
        "                                                            x.headline_x if x.ctr_x>x.ctr_y else x.headline_y, axis=1)\n",
        "df_catsompare_headline['headline2']= df_catsompare_headline.apply(lambda x:\n",
        "                                                            x.headline_x if x.ctr_x<x.ctr_y else x.headline_y, axis=1)\n",
        "\n",
        "df_catsompare_headline.head(2)"
      ]
    },
    {
      "cell_type": "code",
      "execution_count": 76,
      "id": "728b3015",
      "metadata": {
        "colab": {
          "base_uri": "https://localhost:8080/"
        },
        "id": "728b3015",
        "outputId": "1b2aebba-63b4-42ab-d658-4355b737e8da"
      },
      "outputs": [
        {
          "name": "stdout",
          "output_type": "stream",
          "text": [
            "length of new dataframe with distinct headlines: 17721\n"
          ]
        }
      ],
      "source": [
        "df_catsompare_headline= df_catsompare_headline[df_catsompare_headline.ctr_x > df_catsompare_headline.ctr_y]\n",
        "len(df_catsompare_headline)\n",
        "print(f'length of new dataframe with distinct headlines: {len(df_catsompare_headline)}')"
      ]
    },
    {
      "cell_type": "code",
      "execution_count": 77,
      "id": "80f880ec",
      "metadata": {
        "colab": {
          "base_uri": "https://localhost:8080/",
          "height": 240
        },
        "id": "80f880ec",
        "outputId": "f8ea492e-8319-43be-81c2-cfbcc0a41339"
      },
      "outputs": [
        {
          "data": {
            "text/html": [
              "<div>\n",
              "<style scoped>\n",
              "    .dataframe tbody tr th:only-of-type {\n",
              "        vertical-align: middle;\n",
              "    }\n",
              "\n",
              "    .dataframe tbody tr th {\n",
              "        vertical-align: top;\n",
              "    }\n",
              "\n",
              "    .dataframe thead th {\n",
              "        text-align: right;\n",
              "    }\n",
              "</style>\n",
              "<table border=\"1\" class=\"dataframe\">\n",
              "  <thead>\n",
              "    <tr style=\"text-align: right;\">\n",
              "      <th></th>\n",
              "      <th>clickability_test_id</th>\n",
              "      <th>excerpt</th>\n",
              "      <th>lede</th>\n",
              "      <th>eyecatcher_id</th>\n",
              "      <th>headline1</th>\n",
              "      <th>headline2</th>\n",
              "      <th>ctr1</th>\n",
              "      <th>ctr2</th>\n",
              "      <th>date_created</th>\n",
              "    </tr>\n",
              "  </thead>\n",
              "  <tbody>\n",
              "    <tr>\n",
              "      <th>2</th>\n",
              "      <td>546e009a9ad54ec65b00004b</td>\n",
              "      <td>Things that matter. Pass 'em on.</td>\n",
              "      <td>&lt;p&gt;Some decent guys fighting for an important ...</td>\n",
              "      <td>546c7f2dbadeb5788700000a</td>\n",
              "      <td>What They Learned From The Scientist Was Terri...</td>\n",
              "      <td>He Sat Them Down And Told Them About An Immine...</td>\n",
              "      <td>0.01110</td>\n",
              "      <td>0.005868</td>\n",
              "      <td>2014-11-20 14:57:52.478</td>\n",
              "    </tr>\n",
              "    <tr>\n",
              "      <th>4</th>\n",
              "      <td>546e009a9ad54ec65b00004b</td>\n",
              "      <td>Things that matter. Pass 'em on.</td>\n",
              "      <td>&lt;p&gt;Some decent guys fighting for an important ...</td>\n",
              "      <td>546c7f2dbadeb5788700000a</td>\n",
              "      <td>What They Learned From The Scientist Was Terri...</td>\n",
              "      <td>They May Not Be The Most Handsome Dudes, But T...</td>\n",
              "      <td>0.01110</td>\n",
              "      <td>0.009726</td>\n",
              "      <td>2014-11-20 14:57:52.478</td>\n",
              "    </tr>\n",
              "    <tr>\n",
              "      <th>6</th>\n",
              "      <td>546e009a9ad54ec65b00004b</td>\n",
              "      <td>Things that matter. Pass 'em on.</td>\n",
              "      <td>&lt;p&gt;Some decent guys fighting for an important ...</td>\n",
              "      <td>546c7f2dbadeb5788700000a</td>\n",
              "      <td>A Science Guy Helps 3 Dudes From America Under...</td>\n",
              "      <td>What They Learned From The Scientist Was Terri...</td>\n",
              "      <td>0.01269</td>\n",
              "      <td>0.011100</td>\n",
              "      <td>2014-11-20 14:54:18.78</td>\n",
              "    </tr>\n",
              "  </tbody>\n",
              "</table>\n",
              "</div>"
            ],
            "text/plain": [
              "       clickability_test_id                           excerpt  \\\n",
              "2  546e009a9ad54ec65b00004b  Things that matter. Pass 'em on.   \n",
              "4  546e009a9ad54ec65b00004b  Things that matter. Pass 'em on.   \n",
              "6  546e009a9ad54ec65b00004b  Things that matter. Pass 'em on.   \n",
              "\n",
              "                                                lede  \\\n",
              "2  <p>Some decent guys fighting for an important ...   \n",
              "4  <p>Some decent guys fighting for an important ...   \n",
              "6  <p>Some decent guys fighting for an important ...   \n",
              "\n",
              "              eyecatcher_id  \\\n",
              "2  546c7f2dbadeb5788700000a   \n",
              "4  546c7f2dbadeb5788700000a   \n",
              "6  546c7f2dbadeb5788700000a   \n",
              "\n",
              "                                           headline1  \\\n",
              "2  What They Learned From The Scientist Was Terri...   \n",
              "4  What They Learned From The Scientist Was Terri...   \n",
              "6  A Science Guy Helps 3 Dudes From America Under...   \n",
              "\n",
              "                                           headline2     ctr1      ctr2  \\\n",
              "2  He Sat Them Down And Told Them About An Immine...  0.01110  0.005868   \n",
              "4  They May Not Be The Most Handsome Dudes, But T...  0.01110  0.009726   \n",
              "6  What They Learned From The Scientist Was Terri...  0.01269  0.011100   \n",
              "\n",
              "              date_created  \n",
              "2  2014-11-20 14:57:52.478  \n",
              "4  2014-11-20 14:57:52.478  \n",
              "6   2014-11-20 14:54:18.78  "
            ]
          },
          "execution_count": 77,
          "metadata": {},
          "output_type": "execute_result"
        }
      ],
      "source": [
        "df_catsompare_headline['date_created']= df_catsompare_headline.apply(lambda x:\n",
        "                                                            x.created_at_x if x.ctr_x>x.ctr_y else x.created_at_y, axis=1)\n",
        "df_final_headline= df_catsompare_headline[['clickability_test_id','excerpt','lede','eyecatcher_id',\n",
        "                                         'headline1','headline2','ctr1','ctr2','date_created']]\n",
        "df_final_headline.head(3)"
      ]
    },
    {
      "cell_type": "markdown",
      "id": "e0426933",
      "metadata": {
        "id": "e0426933"
      },
      "source": [
        "## 1.8"
      ]
    },
    {
      "cell_type": "code",
      "execution_count": 78,
      "id": "e15903f1",
      "metadata": {
        "colab": {
          "base_uri": "https://localhost:8080/"
        },
        "id": "e15903f1",
        "outputId": "13064b66-b775-47f9-b37b-48264884de21"
      },
      "outputs": [
        {
          "name": "stdout",
          "output_type": "stream",
          "text": [
            "average difference per pair between ctr1 and ctr2: 0.004117822984030236\n"
          ]
        }
      ],
      "source": [
        "avg_diff_ctr= df_final_headline.apply(lambda x:\n",
        "                                        x.ctr1-x.ctr2, axis=1).mean()\n",
        "print(f'average difference per pair between ctr1 and ctr2: {avg_diff_ctr}')"
      ]
    },
    {
      "cell_type": "code",
      "execution_count": 79,
      "id": "a95b9902",
      "metadata": {
        "colab": {
          "base_uri": "https://localhost:8080/"
        },
        "id": "a95b9902",
        "outputId": "77788817-d934-4962-e335-7f4d20b40394"
      },
      "outputs": [
        {
          "name": "stdout",
          "output_type": "stream",
          "text": [
            "average clickthrough rate for the least clicked through headline: 0.010690873923593552\n"
          ]
        }
      ],
      "source": [
        "avg_ctr2= df_final_headline.ctr2.mean()\n",
        "print(f'average clickthrough rate for the least clicked through headline: {avg_ctr2}')\n"
      ]
    },
    {
      "cell_type": "markdown",
      "id": "dae2d2fc",
      "metadata": {
        "id": "dae2d2fc"
      },
      "source": [
        "## 1.9\n",
        " When varying the headlines, we can see a significant relative effect on the clickthrough rates of the pair of packages. Since the average difference is 0.0041, modifying the headline will increase/decrease the chances of choosing a specific package by 0.411 % in average, which does not seem as much. But considering that the average loser clickthrough rate is of 1.069 %, changing the headline to the winner headline increases the average clickthrough rate almost by 40 %."
      ]
    },
    {
      "cell_type": "markdown",
      "id": "a34edbf0",
      "metadata": {
        "id": "a34edbf0"
      },
      "source": [
        "# Task 2: Extracting signals from the data\n",
        "\n",
        "Your second task is to extract meaningful signals from the data. \n",
        "We start this task from the dataset obtained in **T1.7**. \n",
        "Recall that we have one A/B test per row with the clickthrough rate of two news pieces that differ only in their headline. \n",
        "We refer to the version with the higher clickthrough rate as the \"winner\" and the version with the lower as the \"loser.\" \n",
        "(Note that this is not the same as the column `winner` in the original data, which captures a similar concept but considering the original experiments, where multiple comparisons were made!)\n",
        " \n",
        "2.1 Using the function provided below, count the number of words in each headline, creating columns `numwords1` and `numwords2` corresponding to the number of words in the winner and loser headlines.\n",
        "\n",
        "2.2 Using the dictionary of pronouns provided below, create indicator variables corresponding to each set of pronouns (e.g., first-person singular may yield columns `first_person_singular1` and `first_person_singular2` for the headlines in each A/B test). \n",
        "Each indicator variable in the dataframe should equal 1 if the corresponding headline uses the corresponding type of pronoun and 0 otherwise. \n",
        "Your code should be agnostic to lower/upper case.\n",
        "\n",
        "2.3 One easy way to classify sentiment is simply to match negative or positive words. \n",
        "Use the linked lists of words ([positive][1], [negative][2]) to obtain \"positive sentiment\" and \"negative sentiment\" scores for each headline. Create columns `positive1`/`positive2` and `negative1`/`negative2` containing indicator variables for positive and negative sentiment, i.e., A headline has a \"positive sentiment\" (or negative) score equal 1 if it contains at least one positive (or negative) sentiment word on the list. Otherwise, its \"positive sentiment\" (or negative) score equals 0.\n",
        "    \n",
        "[1]: https://ptrckprry.com/course/ssd/data/positive-words.txt\n",
        "[2]: https://ptrckprry.com/course/ssd/data/negative-words.txt\n",
        "\n",
        "--- \n",
        "\n",
        "**Comments**\n",
        "\n",
        "- For **T2.3**, beware of encodings!"
      ]
    },
    {
      "cell_type": "markdown",
      "id": "8d548b4f",
      "metadata": {
        "id": "8d548b4f"
      },
      "source": [
        "## 2.1"
      ]
    },
    {
      "cell_type": "code",
      "execution_count": 80,
      "id": "41fbea38",
      "metadata": {
        "colab": {
          "base_uri": "https://localhost:8080/"
        },
        "id": "41fbea38",
        "outputId": "0a88e966-2f5e-4413-dd8c-2bd45e1049b8"
      },
      "outputs": [
        {
          "name": "stdout",
          "output_type": "stream",
          "text": [
            "How many words are here? 5\n"
          ]
        }
      ],
      "source": [
        "# 2.1 (provided code)\n",
        "def count_words_simple(x):\n",
        "    return len(x.split(\" \"))\n",
        "str_test = \"How many words are here?\"\n",
        "print(str_test, count_words_simple(str_test))"
      ]
    },
    {
      "cell_type": "code",
      "execution_count": 81,
      "id": "bccba6c3",
      "metadata": {
        "colab": {
          "base_uri": "https://localhost:8080/",
          "height": 292
        },
        "id": "bccba6c3",
        "outputId": "0eb05d35-87de-483d-f99c-95a2742278db"
      },
      "outputs": [
        {
          "data": {
            "text/html": [
              "<div>\n",
              "<style scoped>\n",
              "    .dataframe tbody tr th:only-of-type {\n",
              "        vertical-align: middle;\n",
              "    }\n",
              "\n",
              "    .dataframe tbody tr th {\n",
              "        vertical-align: top;\n",
              "    }\n",
              "\n",
              "    .dataframe thead th {\n",
              "        text-align: right;\n",
              "    }\n",
              "</style>\n",
              "<table border=\"1\" class=\"dataframe\">\n",
              "  <thead>\n",
              "    <tr style=\"text-align: right;\">\n",
              "      <th></th>\n",
              "      <th>clickability_test_id</th>\n",
              "      <th>excerpt</th>\n",
              "      <th>lede</th>\n",
              "      <th>eyecatcher_id</th>\n",
              "      <th>headline1</th>\n",
              "      <th>headline2</th>\n",
              "      <th>ctr1</th>\n",
              "      <th>ctr2</th>\n",
              "      <th>date_created</th>\n",
              "      <th>numwords1</th>\n",
              "      <th>numwords2</th>\n",
              "    </tr>\n",
              "  </thead>\n",
              "  <tbody>\n",
              "    <tr>\n",
              "      <th>2</th>\n",
              "      <td>546e009a9ad54ec65b00004b</td>\n",
              "      <td>Things that matter. Pass 'em on.</td>\n",
              "      <td>&lt;p&gt;Some decent guys fighting for an important ...</td>\n",
              "      <td>546c7f2dbadeb5788700000a</td>\n",
              "      <td>What They Learned From The Scientist Was Terri...</td>\n",
              "      <td>He Sat Them Down And Told Them About An Immine...</td>\n",
              "      <td>0.01110</td>\n",
              "      <td>0.005868</td>\n",
              "      <td>2014-11-20 14:57:52.478</td>\n",
              "      <td>15</td>\n",
              "      <td>19</td>\n",
              "    </tr>\n",
              "    <tr>\n",
              "      <th>4</th>\n",
              "      <td>546e009a9ad54ec65b00004b</td>\n",
              "      <td>Things that matter. Pass 'em on.</td>\n",
              "      <td>&lt;p&gt;Some decent guys fighting for an important ...</td>\n",
              "      <td>546c7f2dbadeb5788700000a</td>\n",
              "      <td>What They Learned From The Scientist Was Terri...</td>\n",
              "      <td>They May Not Be The Most Handsome Dudes, But T...</td>\n",
              "      <td>0.01110</td>\n",
              "      <td>0.009726</td>\n",
              "      <td>2014-11-20 14:57:52.478</td>\n",
              "      <td>15</td>\n",
              "      <td>16</td>\n",
              "    </tr>\n",
              "    <tr>\n",
              "      <th>6</th>\n",
              "      <td>546e009a9ad54ec65b00004b</td>\n",
              "      <td>Things that matter. Pass 'em on.</td>\n",
              "      <td>&lt;p&gt;Some decent guys fighting for an important ...</td>\n",
              "      <td>546c7f2dbadeb5788700000a</td>\n",
              "      <td>A Science Guy Helps 3 Dudes From America Under...</td>\n",
              "      <td>What They Learned From The Scientist Was Terri...</td>\n",
              "      <td>0.01269</td>\n",
              "      <td>0.011100</td>\n",
              "      <td>2014-11-20 14:54:18.78</td>\n",
              "      <td>14</td>\n",
              "      <td>15</td>\n",
              "    </tr>\n",
              "  </tbody>\n",
              "</table>\n",
              "</div>"
            ],
            "text/plain": [
              "       clickability_test_id                           excerpt  \\\n",
              "2  546e009a9ad54ec65b00004b  Things that matter. Pass 'em on.   \n",
              "4  546e009a9ad54ec65b00004b  Things that matter. Pass 'em on.   \n",
              "6  546e009a9ad54ec65b00004b  Things that matter. Pass 'em on.   \n",
              "\n",
              "                                                lede  \\\n",
              "2  <p>Some decent guys fighting for an important ...   \n",
              "4  <p>Some decent guys fighting for an important ...   \n",
              "6  <p>Some decent guys fighting for an important ...   \n",
              "\n",
              "              eyecatcher_id  \\\n",
              "2  546c7f2dbadeb5788700000a   \n",
              "4  546c7f2dbadeb5788700000a   \n",
              "6  546c7f2dbadeb5788700000a   \n",
              "\n",
              "                                           headline1  \\\n",
              "2  What They Learned From The Scientist Was Terri...   \n",
              "4  What They Learned From The Scientist Was Terri...   \n",
              "6  A Science Guy Helps 3 Dudes From America Under...   \n",
              "\n",
              "                                           headline2     ctr1      ctr2  \\\n",
              "2  He Sat Them Down And Told Them About An Immine...  0.01110  0.005868   \n",
              "4  They May Not Be The Most Handsome Dudes, But T...  0.01110  0.009726   \n",
              "6  What They Learned From The Scientist Was Terri...  0.01269  0.011100   \n",
              "\n",
              "              date_created  numwords1  numwords2  \n",
              "2  2014-11-20 14:57:52.478         15         19  \n",
              "4  2014-11-20 14:57:52.478         15         16  \n",
              "6   2014-11-20 14:54:18.78         14         15  "
            ]
          },
          "execution_count": 81,
          "metadata": {},
          "output_type": "execute_result"
        }
      ],
      "source": [
        "df_with_count= df_final_headline.copy()\n",
        "df_with_count['numwords1']= df_with_count.apply(lambda x: count_words_simple(x.headline1), axis=1)\n",
        "df_with_count['numwords2']= df_with_count.apply(lambda x: count_words_simple(x.headline2), axis=1)\n",
        "df_with_count.head(3)"
      ]
    },
    {
      "cell_type": "markdown",
      "id": "f1878610",
      "metadata": {
        "id": "f1878610"
      },
      "source": [
        "## 2.2"
      ]
    },
    {
      "cell_type": "code",
      "execution_count": 82,
      "id": "d22a1824",
      "metadata": {
        "id": "d22a1824"
      },
      "outputs": [],
      "source": [
        "# 2.2 (provided code)\n",
        "feature_wordsets = dict([\n",
        "    # https://en.wikipedia.org/wiki/English_personal_pronouns\n",
        "    ('first_person_singular', ['i', 'me', 'my', 'mine', 'myself',\n",
        "                               \"i'd\", \"i'll\", \"i'm\", \"i've\", 'id', 'im', 'ive']),\n",
        "    ('first_person_plural', ['we', 'us', 'our', 'ours', 'ourselves',\n",
        "                              \"we'd\", \"we'll\", \"we're\", \"we've\",]),\n",
        "    ('second_person', ['you','your','yours','yourself',\n",
        "                              \"ya\", \"you'd\", \"you'll\", \"you're\", \"you've\", 'youll', 'youre', 'youve', \n",
        "                              'yourselves']),\n",
        "    ('third_person_singular', ['he','him','his','himself',\n",
        "                               \"he'd\", \"he's\", 'hes',\n",
        "                               'she','her','hers','herself', \n",
        "                               \"she'll\", \"she's\", 'shes',\n",
        "                               'it','its','itself',\n",
        "                               'themself']),\n",
        "    ('third_person_plural', ['they','them','their','theirs','themselves',\n",
        "                              \"they'd\", \"they'll\", \"they've\", 'theyll', 'theyve'])\n",
        "])"
      ]
    },
    {
      "cell_type": "code",
      "execution_count": 83,
      "id": "47acc671",
      "metadata": {
        "id": "47acc671"
      },
      "outputs": [],
      "source": [
        "def fn_indicator(x,value):\n",
        "    check =  any(item in value for item in x.lower().split(\" \"))\n",
        "    return int(check)"
      ]
    },
    {
      "cell_type": "code",
      "execution_count": 84,
      "id": "6cc27656",
      "metadata": {
        "id": "6cc27656"
      },
      "outputs": [],
      "source": [
        "for key,value in feature_wordsets.items():\n",
        "    column_name_1= key+'1'\n",
        "    column_name_2= key+'2'\n",
        "    df_with_count[column_name_1]= df_with_count.apply(lambda x: \n",
        "                                                      fn_indicator(x.headline1,value), axis=1 )\n",
        "    df_with_count[column_name_2]= df_with_count.apply(lambda x: \n",
        "                                                      fn_indicator(x.headline2,value), axis=1 )"
      ]
    },
    {
      "cell_type": "code",
      "execution_count": 85,
      "id": "d542a95e",
      "metadata": {
        "colab": {
          "base_uri": "https://localhost:8080/",
          "height": 550
        },
        "id": "d542a95e",
        "outputId": "b9201f98-70c0-4386-aa8c-b545d51c1d92"
      },
      "outputs": [
        {
          "data": {
            "text/html": [
              "<div>\n",
              "<style scoped>\n",
              "    .dataframe tbody tr th:only-of-type {\n",
              "        vertical-align: middle;\n",
              "    }\n",
              "\n",
              "    .dataframe tbody tr th {\n",
              "        vertical-align: top;\n",
              "    }\n",
              "\n",
              "    .dataframe thead th {\n",
              "        text-align: right;\n",
              "    }\n",
              "</style>\n",
              "<table border=\"1\" class=\"dataframe\">\n",
              "  <thead>\n",
              "    <tr style=\"text-align: right;\">\n",
              "      <th></th>\n",
              "      <th>clickability_test_id</th>\n",
              "      <th>excerpt</th>\n",
              "      <th>lede</th>\n",
              "      <th>eyecatcher_id</th>\n",
              "      <th>headline1</th>\n",
              "      <th>headline2</th>\n",
              "      <th>ctr1</th>\n",
              "      <th>ctr2</th>\n",
              "      <th>date_created</th>\n",
              "      <th>numwords1</th>\n",
              "      <th>...</th>\n",
              "      <th>first_person_singular1</th>\n",
              "      <th>first_person_singular2</th>\n",
              "      <th>first_person_plural1</th>\n",
              "      <th>first_person_plural2</th>\n",
              "      <th>second_person1</th>\n",
              "      <th>second_person2</th>\n",
              "      <th>third_person_singular1</th>\n",
              "      <th>third_person_singular2</th>\n",
              "      <th>third_person_plural1</th>\n",
              "      <th>third_person_plural2</th>\n",
              "    </tr>\n",
              "  </thead>\n",
              "  <tbody>\n",
              "    <tr>\n",
              "      <th>2</th>\n",
              "      <td>546e009a9ad54ec65b00004b</td>\n",
              "      <td>Things that matter. Pass 'em on.</td>\n",
              "      <td>&lt;p&gt;Some decent guys fighting for an important ...</td>\n",
              "      <td>546c7f2dbadeb5788700000a</td>\n",
              "      <td>What They Learned From The Scientist Was Terri...</td>\n",
              "      <td>He Sat Them Down And Told Them About An Immine...</td>\n",
              "      <td>0.01110</td>\n",
              "      <td>0.005868</td>\n",
              "      <td>2014-11-20 14:57:52.478</td>\n",
              "      <td>15</td>\n",
              "      <td>...</td>\n",
              "      <td>0</td>\n",
              "      <td>0</td>\n",
              "      <td>0</td>\n",
              "      <td>0</td>\n",
              "      <td>0</td>\n",
              "      <td>0</td>\n",
              "      <td>0</td>\n",
              "      <td>1</td>\n",
              "      <td>1</td>\n",
              "      <td>1</td>\n",
              "    </tr>\n",
              "    <tr>\n",
              "      <th>4</th>\n",
              "      <td>546e009a9ad54ec65b00004b</td>\n",
              "      <td>Things that matter. Pass 'em on.</td>\n",
              "      <td>&lt;p&gt;Some decent guys fighting for an important ...</td>\n",
              "      <td>546c7f2dbadeb5788700000a</td>\n",
              "      <td>What They Learned From The Scientist Was Terri...</td>\n",
              "      <td>They May Not Be The Most Handsome Dudes, But T...</td>\n",
              "      <td>0.01110</td>\n",
              "      <td>0.009726</td>\n",
              "      <td>2014-11-20 14:57:52.478</td>\n",
              "      <td>15</td>\n",
              "      <td>...</td>\n",
              "      <td>0</td>\n",
              "      <td>0</td>\n",
              "      <td>0</td>\n",
              "      <td>0</td>\n",
              "      <td>0</td>\n",
              "      <td>0</td>\n",
              "      <td>0</td>\n",
              "      <td>0</td>\n",
              "      <td>1</td>\n",
              "      <td>1</td>\n",
              "    </tr>\n",
              "    <tr>\n",
              "      <th>6</th>\n",
              "      <td>546e009a9ad54ec65b00004b</td>\n",
              "      <td>Things that matter. Pass 'em on.</td>\n",
              "      <td>&lt;p&gt;Some decent guys fighting for an important ...</td>\n",
              "      <td>546c7f2dbadeb5788700000a</td>\n",
              "      <td>A Science Guy Helps 3 Dudes From America Under...</td>\n",
              "      <td>What They Learned From The Scientist Was Terri...</td>\n",
              "      <td>0.01269</td>\n",
              "      <td>0.011100</td>\n",
              "      <td>2014-11-20 14:54:18.78</td>\n",
              "      <td>14</td>\n",
              "      <td>...</td>\n",
              "      <td>0</td>\n",
              "      <td>0</td>\n",
              "      <td>0</td>\n",
              "      <td>0</td>\n",
              "      <td>0</td>\n",
              "      <td>0</td>\n",
              "      <td>0</td>\n",
              "      <td>0</td>\n",
              "      <td>0</td>\n",
              "      <td>1</td>\n",
              "    </tr>\n",
              "  </tbody>\n",
              "</table>\n",
              "<p>3 rows × 21 columns</p>\n",
              "</div>"
            ],
            "text/plain": [
              "       clickability_test_id                           excerpt  \\\n",
              "2  546e009a9ad54ec65b00004b  Things that matter. Pass 'em on.   \n",
              "4  546e009a9ad54ec65b00004b  Things that matter. Pass 'em on.   \n",
              "6  546e009a9ad54ec65b00004b  Things that matter. Pass 'em on.   \n",
              "\n",
              "                                                lede  \\\n",
              "2  <p>Some decent guys fighting for an important ...   \n",
              "4  <p>Some decent guys fighting for an important ...   \n",
              "6  <p>Some decent guys fighting for an important ...   \n",
              "\n",
              "              eyecatcher_id  \\\n",
              "2  546c7f2dbadeb5788700000a   \n",
              "4  546c7f2dbadeb5788700000a   \n",
              "6  546c7f2dbadeb5788700000a   \n",
              "\n",
              "                                           headline1  \\\n",
              "2  What They Learned From The Scientist Was Terri...   \n",
              "4  What They Learned From The Scientist Was Terri...   \n",
              "6  A Science Guy Helps 3 Dudes From America Under...   \n",
              "\n",
              "                                           headline2     ctr1      ctr2  \\\n",
              "2  He Sat Them Down And Told Them About An Immine...  0.01110  0.005868   \n",
              "4  They May Not Be The Most Handsome Dudes, But T...  0.01110  0.009726   \n",
              "6  What They Learned From The Scientist Was Terri...  0.01269  0.011100   \n",
              "\n",
              "              date_created  numwords1  ...  first_person_singular1  \\\n",
              "2  2014-11-20 14:57:52.478         15  ...                       0   \n",
              "4  2014-11-20 14:57:52.478         15  ...                       0   \n",
              "6   2014-11-20 14:54:18.78         14  ...                       0   \n",
              "\n",
              "   first_person_singular2  first_person_plural1  first_person_plural2  \\\n",
              "2                       0                     0                     0   \n",
              "4                       0                     0                     0   \n",
              "6                       0                     0                     0   \n",
              "\n",
              "   second_person1  second_person2  third_person_singular1  \\\n",
              "2               0               0                       0   \n",
              "4               0               0                       0   \n",
              "6               0               0                       0   \n",
              "\n",
              "   third_person_singular2  third_person_plural1  third_person_plural2  \n",
              "2                       1                     1                     1  \n",
              "4                       0                     1                     1  \n",
              "6                       0                     0                     1  \n",
              "\n",
              "[3 rows x 21 columns]"
            ]
          },
          "execution_count": 85,
          "metadata": {},
          "output_type": "execute_result"
        }
      ],
      "source": [
        "df_with_count.head(3)"
      ]
    },
    {
      "cell_type": "markdown",
      "id": "bc455c0d",
      "metadata": {
        "id": "bc455c0d"
      },
      "source": [
        "## 2.3"
      ]
    },
    {
      "cell_type": "code",
      "execution_count": 86,
      "id": "32da9c4f",
      "metadata": {
        "colab": {
          "base_uri": "https://localhost:8080/"
        },
        "id": "32da9c4f",
        "outputId": "7360f9df-9e56-4afb-d3c9-a1f56df5f5b8"
      },
      "outputs": [
        {
          "name": "stdout",
          "output_type": "stream",
          "text": [
            "original text file with semicolon separators: \n",
            "\n"
          ]
        },
        {
          "data": {
            "text/plain": [
              "[';;;;;;;;;;;;;;;;;;;;;;;;;;;;;;;;;;;;;;;;;;;;;;;;;;;;;;;;;;;;;;;;;;;;;;;;;;;;;;',\n",
              " '; ',\n",
              " '; Opinion Lexicon: Negative',\n",
              " ';',\n",
              " '; This file contains a list of NEGATIVE opinion words (or sentiment words).',\n",
              " ';',\n",
              " '; This file and the papers can all be downloaded from ',\n",
              " ';    http://www.cs.uic.edu/~liub/FBS/sentiment-analysis.html',\n",
              " ';',\n",
              " '; If you use this list, please cite the following paper:',\n",
              " ';',\n",
              " ';   Minqing Hu and Bing Liu. \"Mining and Summarizing Customer Reviews.\" ',\n",
              " ';       Proceedings of the ACM SIGKDD International Conference on Knowledge ',\n",
              " ';       Discovery and Data Mining (KDD-2004), Aug 22-25, 2004, Seattle, ',\n",
              " ';       Washington, USA, ',\n",
              " ';',\n",
              " '; Notes: ',\n",
              " ';    1. The appearance of an opinion word in a sentence does not necessarily  ',\n",
              " ';       mean that the sentence expresses a positive or negative opinion. ',\n",
              " ';       See the paper below:',\n",
              " ';',\n",
              " ';       Bing Liu. \"Sentiment Analysis and Subjectivity.\" An chapter in ',\n",
              " ';          Handbook of Natural Language Processing, Second Edition, ',\n",
              " ';          (editors: N. Indurkhya and F. J. Damerau), 2010.',\n",
              " ';',\n",
              " ';    2. You will notice many misspelled words in the list. They are not ',\n",
              " ';       mistakes. They are included as these misspelled words appear ',\n",
              " ';       frequently in social media content. ',\n",
              " ';',\n",
              " ';;;;;;;;;;;;;;;;;;;;;;;;;;;;;;;;;;;;;;;;;;;;;;;;;;;;;;;;;;;;;;;;;;;;;;;;;;;;;;',\n",
              " '',\n",
              " '2-faced',\n",
              " '2-faces',\n",
              " 'abnormal',\n",
              " 'abolish',\n",
              " 'abominable',\n",
              " 'abominably',\n",
              " 'abominate',\n",
              " 'abomination',\n",
              " 'abort']"
            ]
          },
          "execution_count": 86,
          "metadata": {},
          "output_type": "execute_result"
        }
      ],
      "source": [
        "with open(data_folder+'positive-words.txt', encoding = \"ISO-8859-1\")as file:\n",
        "    file_contents = file.read()\n",
        "    positive_content = file_contents.splitlines()\n",
        "\n",
        "with open(data_folder+'negative-words.txt', encoding = \"ISO-8859-1\") as file:\n",
        "    file_contents = file.read()\n",
        "    negative_content = file_contents.splitlines()\n",
        "print(f'original text file with semicolon separators: \\n')    \n",
        "negative_content[:40]"
      ]
    },
    {
      "cell_type": "code",
      "execution_count": 87,
      "id": "0e374870",
      "metadata": {
        "id": "0e374870"
      },
      "outputs": [],
      "source": [
        "positive_content = [line for line in positive_content if line and not line.startswith(';')]\n",
        "negative_content = [line for line in negative_content if line and not line.startswith(';')]"
      ]
    },
    {
      "cell_type": "code",
      "execution_count": 88,
      "id": "c62c5b7a",
      "metadata": {
        "colab": {
          "base_uri": "https://localhost:8080/"
        },
        "id": "c62c5b7a",
        "outputId": "61917776-a238-412a-8bc8-dda179b29b85"
      },
      "outputs": [
        {
          "name": "stdout",
          "output_type": "stream",
          "text": [
            "positive content words: \n",
            " \n"
          ]
        },
        {
          "data": {
            "text/plain": [
              "['a+',\n",
              " 'abound',\n",
              " 'abounds',\n",
              " 'abundance',\n",
              " 'abundant',\n",
              " 'accessable',\n",
              " 'accessible',\n",
              " 'acclaim',\n",
              " 'acclaimed',\n",
              " 'acclamation']"
            ]
          },
          "execution_count": 88,
          "metadata": {},
          "output_type": "execute_result"
        }
      ],
      "source": [
        "print(f'positive content words: \\n ')\n",
        "positive_content[:10]"
      ]
    },
    {
      "cell_type": "code",
      "execution_count": 89,
      "id": "6ALQpFvvF0aZ",
      "metadata": {
        "colab": {
          "base_uri": "https://localhost:8080/"
        },
        "id": "6ALQpFvvF0aZ",
        "outputId": "bbce2968-bbcd-404d-97d5-9e7581705195"
      },
      "outputs": [
        {
          "name": "stdout",
          "output_type": "stream",
          "text": [
            "negative content words: \n",
            " \n"
          ]
        },
        {
          "data": {
            "text/plain": [
              "['2-faced',\n",
              " '2-faces',\n",
              " 'abnormal',\n",
              " 'abolish',\n",
              " 'abominable',\n",
              " 'abominably',\n",
              " 'abominate',\n",
              " 'abomination',\n",
              " 'abort',\n",
              " 'aborted']"
            ]
          },
          "execution_count": 89,
          "metadata": {},
          "output_type": "execute_result"
        }
      ],
      "source": [
        "print(f'negative content words: \\n ')\n",
        "negative_content[:10]"
      ]
    },
    {
      "cell_type": "code",
      "execution_count": 90,
      "id": "a90d79fa",
      "metadata": {
        "id": "a90d79fa"
      },
      "outputs": [],
      "source": [
        "df_with_count['positive1']= df_with_count.apply(lambda x: \n",
        "                                                fn_indicator(x.headline1,positive_content), axis=1 )\n",
        "df_with_count['positive2']= df_with_count.apply(lambda x: \n",
        "                                                fn_indicator(x.headline2,positive_content), axis=1 )\n",
        "df_with_count['negative1']= df_with_count.apply(lambda x: \n",
        "                                                fn_indicator(x.headline1,negative_content), axis=1 )\n",
        "df_with_count['negative2']= df_with_count.apply(lambda x: \n",
        "                                                fn_indicator(x.headline2,negative_content), axis=1 )"
      ]
    },
    {
      "cell_type": "code",
      "execution_count": 91,
      "id": "38e516c4",
      "metadata": {
        "colab": {
          "base_uri": "https://localhost:8080/",
          "height": 550
        },
        "id": "38e516c4",
        "outputId": "d279c27e-22bd-4e61-e852-ce4bd2310701"
      },
      "outputs": [
        {
          "data": {
            "text/html": [
              "<div>\n",
              "<style scoped>\n",
              "    .dataframe tbody tr th:only-of-type {\n",
              "        vertical-align: middle;\n",
              "    }\n",
              "\n",
              "    .dataframe tbody tr th {\n",
              "        vertical-align: top;\n",
              "    }\n",
              "\n",
              "    .dataframe thead th {\n",
              "        text-align: right;\n",
              "    }\n",
              "</style>\n",
              "<table border=\"1\" class=\"dataframe\">\n",
              "  <thead>\n",
              "    <tr style=\"text-align: right;\">\n",
              "      <th></th>\n",
              "      <th>clickability_test_id</th>\n",
              "      <th>excerpt</th>\n",
              "      <th>lede</th>\n",
              "      <th>eyecatcher_id</th>\n",
              "      <th>headline1</th>\n",
              "      <th>headline2</th>\n",
              "      <th>ctr1</th>\n",
              "      <th>ctr2</th>\n",
              "      <th>date_created</th>\n",
              "      <th>numwords1</th>\n",
              "      <th>...</th>\n",
              "      <th>second_person1</th>\n",
              "      <th>second_person2</th>\n",
              "      <th>third_person_singular1</th>\n",
              "      <th>third_person_singular2</th>\n",
              "      <th>third_person_plural1</th>\n",
              "      <th>third_person_plural2</th>\n",
              "      <th>positive1</th>\n",
              "      <th>positive2</th>\n",
              "      <th>negative1</th>\n",
              "      <th>negative2</th>\n",
              "    </tr>\n",
              "  </thead>\n",
              "  <tbody>\n",
              "    <tr>\n",
              "      <th>2</th>\n",
              "      <td>546e009a9ad54ec65b00004b</td>\n",
              "      <td>Things that matter. Pass 'em on.</td>\n",
              "      <td>&lt;p&gt;Some decent guys fighting for an important ...</td>\n",
              "      <td>546c7f2dbadeb5788700000a</td>\n",
              "      <td>What They Learned From The Scientist Was Terri...</td>\n",
              "      <td>He Sat Them Down And Told Them About An Immine...</td>\n",
              "      <td>0.01110</td>\n",
              "      <td>0.005868</td>\n",
              "      <td>2014-11-20 14:57:52.478</td>\n",
              "      <td>15</td>\n",
              "      <td>...</td>\n",
              "      <td>0</td>\n",
              "      <td>0</td>\n",
              "      <td>0</td>\n",
              "      <td>1</td>\n",
              "      <td>1</td>\n",
              "      <td>1</td>\n",
              "      <td>0</td>\n",
              "      <td>0</td>\n",
              "      <td>0</td>\n",
              "      <td>1</td>\n",
              "    </tr>\n",
              "    <tr>\n",
              "      <th>4</th>\n",
              "      <td>546e009a9ad54ec65b00004b</td>\n",
              "      <td>Things that matter. Pass 'em on.</td>\n",
              "      <td>&lt;p&gt;Some decent guys fighting for an important ...</td>\n",
              "      <td>546c7f2dbadeb5788700000a</td>\n",
              "      <td>What They Learned From The Scientist Was Terri...</td>\n",
              "      <td>They May Not Be The Most Handsome Dudes, But T...</td>\n",
              "      <td>0.01110</td>\n",
              "      <td>0.009726</td>\n",
              "      <td>2014-11-20 14:57:52.478</td>\n",
              "      <td>15</td>\n",
              "      <td>...</td>\n",
              "      <td>0</td>\n",
              "      <td>0</td>\n",
              "      <td>0</td>\n",
              "      <td>0</td>\n",
              "      <td>1</td>\n",
              "      <td>1</td>\n",
              "      <td>0</td>\n",
              "      <td>1</td>\n",
              "      <td>0</td>\n",
              "      <td>0</td>\n",
              "    </tr>\n",
              "    <tr>\n",
              "      <th>6</th>\n",
              "      <td>546e009a9ad54ec65b00004b</td>\n",
              "      <td>Things that matter. Pass 'em on.</td>\n",
              "      <td>&lt;p&gt;Some decent guys fighting for an important ...</td>\n",
              "      <td>546c7f2dbadeb5788700000a</td>\n",
              "      <td>A Science Guy Helps 3 Dudes From America Under...</td>\n",
              "      <td>What They Learned From The Scientist Was Terri...</td>\n",
              "      <td>0.01269</td>\n",
              "      <td>0.011100</td>\n",
              "      <td>2014-11-20 14:54:18.78</td>\n",
              "      <td>14</td>\n",
              "      <td>...</td>\n",
              "      <td>0</td>\n",
              "      <td>0</td>\n",
              "      <td>0</td>\n",
              "      <td>0</td>\n",
              "      <td>0</td>\n",
              "      <td>1</td>\n",
              "      <td>0</td>\n",
              "      <td>0</td>\n",
              "      <td>0</td>\n",
              "      <td>0</td>\n",
              "    </tr>\n",
              "  </tbody>\n",
              "</table>\n",
              "<p>3 rows × 25 columns</p>\n",
              "</div>"
            ],
            "text/plain": [
              "       clickability_test_id                           excerpt  \\\n",
              "2  546e009a9ad54ec65b00004b  Things that matter. Pass 'em on.   \n",
              "4  546e009a9ad54ec65b00004b  Things that matter. Pass 'em on.   \n",
              "6  546e009a9ad54ec65b00004b  Things that matter. Pass 'em on.   \n",
              "\n",
              "                                                lede  \\\n",
              "2  <p>Some decent guys fighting for an important ...   \n",
              "4  <p>Some decent guys fighting for an important ...   \n",
              "6  <p>Some decent guys fighting for an important ...   \n",
              "\n",
              "              eyecatcher_id  \\\n",
              "2  546c7f2dbadeb5788700000a   \n",
              "4  546c7f2dbadeb5788700000a   \n",
              "6  546c7f2dbadeb5788700000a   \n",
              "\n",
              "                                           headline1  \\\n",
              "2  What They Learned From The Scientist Was Terri...   \n",
              "4  What They Learned From The Scientist Was Terri...   \n",
              "6  A Science Guy Helps 3 Dudes From America Under...   \n",
              "\n",
              "                                           headline2     ctr1      ctr2  \\\n",
              "2  He Sat Them Down And Told Them About An Immine...  0.01110  0.005868   \n",
              "4  They May Not Be The Most Handsome Dudes, But T...  0.01110  0.009726   \n",
              "6  What They Learned From The Scientist Was Terri...  0.01269  0.011100   \n",
              "\n",
              "              date_created  numwords1  ...  second_person1  second_person2  \\\n",
              "2  2014-11-20 14:57:52.478         15  ...               0               0   \n",
              "4  2014-11-20 14:57:52.478         15  ...               0               0   \n",
              "6   2014-11-20 14:54:18.78         14  ...               0               0   \n",
              "\n",
              "   third_person_singular1  third_person_singular2  third_person_plural1  \\\n",
              "2                       0                       1                     1   \n",
              "4                       0                       0                     1   \n",
              "6                       0                       0                     0   \n",
              "\n",
              "   third_person_plural2  positive1  positive2  negative1  negative2  \n",
              "2                     1          0          0          0          1  \n",
              "4                     1          0          1          0          0  \n",
              "6                     1          0          0          0          0  \n",
              "\n",
              "[3 rows x 25 columns]"
            ]
          },
          "execution_count": 91,
          "metadata": {},
          "output_type": "execute_result"
        }
      ],
      "source": [
        "df_with_count.head(3)"
      ]
    },
    {
      "cell_type": "markdown",
      "id": "ad63e3c3",
      "metadata": {
        "id": "ad63e3c3"
      },
      "source": [
        "# Task 3: Estimating the effect of language on headline success\n",
        "\n",
        "Your third task revolves around the question *how does language impact headlines' success?*\n",
        "\n",
        "3.1 First, we examine whether the winner headlines have more or fewer words than the loser headline. Conduct an independent sample t-test and paired t-test (see [scipy.stats](https://docs.scipy.org/doc/scipy/reference/generated/scipy.stats.ttest_ind.html#scipy.stats.ttest_ind); for the independent sample t-test, assume equal variance). Also, calculate and print the mean difference between the number of words in the winner and the loser headlines.\n",
        "\n",
        "3.2 **Discuss:** Are longer headlines more successful? Justify.\n",
        "\n",
        "3.3 The [t-statistic](https://en.wikipedia.org/wiki/T-statistic) is the ratio of the departure of the estimated value of a parameter from its hypothesized value to its standard error. In a t-test, the higher the t-statistic, the more confidently we can reject the null hypothesis. Use `numpy.random` to create four samples, each of size 30:\n",
        "- $X \\sim Uniform(0,1)$\n",
        "- $Y \\sim Uniform(0,1)$\n",
        "- $Z = X/2 + Y/2 + 0.1$\n",
        "- $K = Y + 0.1$\n",
        "    \n",
        "3.4 **Discuss:** What are the expected values and the variance of $X$, $Y$, $Z$, and $K$? (You don't need to justify them!)\n",
        "\n",
        "3.5 Run the following simulation 10000 times, storing the $p$-values for the tests at each run:\n",
        "- Sample new values  for $X$, $Y$, $Z$ and $K$ ($n=30$ each). \n",
        "- Run independent sample t-test (assuming equal variance) and paired t-test comparing $X$ and $Z$.\n",
        "-  Run independent sample t-test (assuming equal variance) and paired t-test comparing $X$ and $K$.\n",
        "\n",
        "3.6 Recall that the power of a binary hypothesis test is the probability that the test correctly rejects the null hypothesis when the alternative hypothesis is true. Using the p-values and assuming that we reject the null hypothesis if $p < 0.05$, calculate the statistical power of:\n",
        "- The independent sample t-test comparing $X$ and $Z$.\n",
        "- The paired t-test comparing $X$ and $Z$.\n",
        "- The independent sample t-test comparing $X$ and $K$.\n",
        "- The paired t-test comparing $X$ and $K$.\n",
        "    \n",
        "3.7 **Discuss:** When are paired t-tests helpful? Justify.\n",
        "\n",
        "3.8 With a bootstrapping approach (implemented by yourself, you should not use existing bootstrapping functions), estimate the average difference and 95% confidence intervals for:\n",
        "- the mean ratio between the number of words in the winner headline and the loser headline (i.e., the number of words in the winner headline divided by the number of words in the loser headlines).\n",
        "- the difference in usage of positive words between winner and loser headlines.\n",
        "- the difference in usage of negative words between winner and loser headlines.\n",
        "- The difference in usage of each type of pronoun between winner and loser headlines.\n",
        "\n",
        "3.9 **Discuss:** According to the results obtained in **T3.8**, what headlines grab people's attention the most? Justify your answer.\n",
        "    \n",
        "---\n",
        "**Comments:**\n",
        "\n",
        "- Paired t-test formula: $t = \\frac{\\overline{x}_{\\mathrm{diff}}}{s_{\\mathrm{diff}} / \\sqrt n }$ where:\n",
        "    - $\\overline{x}_{\\mathrm{diff}}$ is the sample difference between the means of the matched sample; and\n",
        "    - $s_{\\mathrm{diff}}$ is the sample variance of the matched sample; and\n",
        "    - $n$ is the number of matched samples.\n",
        "    \n",
        "- Independent samples t-test formula: $t = \\frac{\\overline{x}_{1} - \\overline{x}_{2}}{\\sqrt{\\frac{s_{1}^{2}}{n_{1}} + \\frac{s_{2}^{2}}{n_{2}}}}$ where:\n",
        "    - $\\overline{x}_{\\mathrm{1}}$ is the sample mean of the first group; and\n",
        "    - $s_{\\mathrm{1}}$ is the sample variance of the first group; and\n",
        "    - $n_1$ is the number of samples in the first group;\n",
        "    \n",
        "     \n",
        "- t-tests are valid for samples of non-normal distribution for large enough samples (a rule of thumb used is: n$\\geq$30)!"
      ]
    },
    {
      "cell_type": "markdown",
      "id": "a16f89f1",
      "metadata": {
        "id": "a16f89f1"
      },
      "source": [
        "## 3.1"
      ]
    },
    {
      "cell_type": "code",
      "execution_count": 92,
      "id": "62f844e9",
      "metadata": {
        "colab": {
          "base_uri": "https://localhost:8080/"
        },
        "id": "62f844e9",
        "outputId": "4ed5aaf3-b60b-4b48-cc5b-addfa47dffb1"
      },
      "outputs": [
        {
          "name": "stdout",
          "output_type": "stream",
          "text": [
            "Headline 1 mean word count: 15.0929405789741\n",
            "Headline 2 mean word count: 14.815473167428475\n",
            "The difference between Headline 1 and Headline 2 mean word count: 0.27746741154562393\n"
          ]
        }
      ],
      "source": [
        "h1_words_count_mean = df_with_count['numwords1'].mean()\n",
        "h2_words_count_mean = df_with_count['numwords2'].mean()\n",
        "print(f'Headline 1 mean word count: {h1_words_count_mean}')\n",
        "print(f'Headline 2 mean word count: {h2_words_count_mean}')\n",
        "print(f'The difference between Headline 1 and Headline 2 mean word count: {h1_words_count_mean-h2_words_count_mean}')"
      ]
    },
    {
      "cell_type": "code",
      "execution_count": 93,
      "id": "9c329eac",
      "metadata": {
        "colab": {
          "base_uri": "https://localhost:8080/"
        },
        "id": "9c329eac",
        "outputId": "150b5fa2-722d-4336-ef34-e477d2843975"
      },
      "outputs": [
        {
          "data": {
            "text/plain": [
              "Ttest_relResult(statistic=10.19936144630902, pvalue=2.330401293050431e-24)"
            ]
          },
          "execution_count": 93,
          "metadata": {},
          "output_type": "execute_result"
        }
      ],
      "source": [
        "# Dependent (paired) t-test\n",
        "from scipy.stats import ttest_rel\n",
        "# Test 1\n",
        "ttest_rel(df_with_count['numwords1'], df_with_count['numwords2'])"
      ]
    },
    {
      "cell_type": "code",
      "execution_count": 94,
      "id": "916bcefc",
      "metadata": {
        "colab": {
          "base_uri": "https://localhost:8080/"
        },
        "id": "916bcefc",
        "outputId": "6cafb5d8-ff6a-4369-ba60-37d78d10fa77"
      },
      "outputs": [
        {
          "data": {
            "text/plain": [
              "Ttest_relResult(statistic=10.19936144630902, pvalue=1.1652006465252156e-24)"
            ]
          },
          "execution_count": 94,
          "metadata": {},
          "output_type": "execute_result"
        }
      ],
      "source": [
        "# Test 2\n",
        "ttest_rel(df_with_count['numwords1'], df_with_count['numwords2'], alternative=\"greater\")"
      ]
    },
    {
      "cell_type": "code",
      "execution_count": 95,
      "id": "a0469e8a",
      "metadata": {
        "colab": {
          "base_uri": "https://localhost:8080/"
        },
        "id": "a0469e8a",
        "outputId": "30b4f79c-6e86-428e-fee8-6e6b13afcc31"
      },
      "outputs": [
        {
          "data": {
            "text/plain": [
              "Ttest_indResult(statistic=8.466751018939988, pvalue=2.6189771671052275e-17)"
            ]
          },
          "execution_count": 95,
          "metadata": {},
          "output_type": "execute_result"
        }
      ],
      "source": [
        "# Independent (unpaired) t-test \n",
        "from scipy.stats import ttest_ind\n",
        "# Test 1\n",
        "ttest_ind(df_with_count['numwords1'], df_with_count['numwords2'], equal_var=True)"
      ]
    },
    {
      "cell_type": "markdown",
      "id": "d6994642",
      "metadata": {
        "id": "d6994642"
      },
      "source": [
        "Very small p-value (2.618...e-17) tells us, that we should reject null hypothesis. The samples are not drawn from the same distributions."
      ]
    },
    {
      "cell_type": "code",
      "execution_count": 96,
      "id": "acbbbf9e",
      "metadata": {
        "colab": {
          "base_uri": "https://localhost:8080/"
        },
        "id": "acbbbf9e",
        "outputId": "34cfdcd4-1d47-41dd-e905-f053b04fa5ba"
      },
      "outputs": [
        {
          "data": {
            "text/plain": [
              "Ttest_indResult(statistic=8.466751018939988, pvalue=1.3094885835526138e-17)"
            ]
          },
          "execution_count": 96,
          "metadata": {},
          "output_type": "execute_result"
        }
      ],
      "source": [
        "# Test 2\n",
        "ttest_ind(df_with_count['numwords1'], df_with_count['numwords2'], equal_var=True, alternative='greater')"
      ]
    },
    {
      "cell_type": "markdown",
      "id": "864bb6ee",
      "metadata": {
        "id": "864bb6ee"
      },
      "source": [
        "From Unpaired Test 2 we can infere that the mean for first sample is greater than for the second. It means that headlines which were the winners have greater mean than losers. "
      ]
    },
    {
      "cell_type": "markdown",
      "id": "460332e6",
      "metadata": {
        "id": "460332e6"
      },
      "source": [
        "## 3.2"
      ]
    },
    {
      "cell_type": "markdown",
      "id": "f9c2c657",
      "metadata": {
        "id": "f9c2c657"
      },
      "source": [
        "Even though the mean difference between winner and loser number of words is not even one whole word, we can infere from the tests that longer headlines are generally more successful."
      ]
    },
    {
      "cell_type": "markdown",
      "id": "2ce8e465",
      "metadata": {
        "id": "2ce8e465"
      },
      "source": [
        "## 3.3"
      ]
    },
    {
      "cell_type": "code",
      "execution_count": 97,
      "id": "99d2a503",
      "metadata": {
        "id": "99d2a503"
      },
      "outputs": [],
      "source": [
        "def sample_xyzk(n=30, seed=12345):\n",
        "    #np.random.seed(seed)\n",
        "    X = np.random.uniform(size=n)\n",
        "    Y = np.random.uniform(size=n)\n",
        "    Z = X/2 + Y/2 + 0.1\n",
        "    K = Y + 0.1\n",
        "    return X, Y, Z, K\n",
        "X, Y, Z, K = sample_xyzk()"
      ]
    },
    {
      "cell_type": "markdown",
      "id": "428231e0",
      "metadata": {
        "id": "428231e0"
      },
      "source": [
        "## 3.4"
      ]
    },
    {
      "cell_type": "markdown",
      "id": "dd395708",
      "metadata": {
        "id": "dd395708"
      },
      "source": [
        "For uniform distribution, from definition, we compute the expected value resulting in\n",
        "$ E[X] = E[Y] = 0.5, E[Z] = E[K] = 0.6 $ and variance yielding $V[X] = V[Y] = V[K] = \\frac{1}{12}, V[Z] = \\frac{1}{24}.$ <br>\n",
        "Below are the estimates from samples of given sample size."
      ]
    },
    {
      "cell_type": "code",
      "execution_count": 98,
      "id": "385888d1",
      "metadata": {
        "colab": {
          "base_uri": "https://localhost:8080/"
        },
        "id": "385888d1",
        "outputId": "0e774e31-e350-4798-b0f5-ca867369da08"
      },
      "outputs": [
        {
          "name": "stdout",
          "output_type": "stream",
          "text": [
            "Expected value estimate is: 0.4887022627669266; Variance estimate is: 0.095672121717272\n",
            "Expected value estimate of Y is: 0.4918051000459888; Variance estimate is: 0.08383175776646329\n",
            "Expected value estimate of Z is: 0.5902536814064578; Variance estimate is: 0.04885711125214454\n",
            "Expected value estimate of K is: 0.591805100045989; Variance estimate is: 0.08383175776646329\n"
          ]
        }
      ],
      "source": [
        "EX = X.mean()\n",
        "EY = Y.mean()\n",
        "EZ = Z.mean()\n",
        "EK = K.mean()\n",
        "VX = X.var()\n",
        "VY = Y.var()\n",
        "VZ = Z.var()\n",
        "VK = K.var()\n",
        "print(f\"Expected value estimate is: {EX}; Variance estimate is: {VX}\")\n",
        "print(f\"Expected value estimate of Y is: {EY}; Variance estimate is: {VY}\")\n",
        "print(f\"Expected value estimate of Z is: {EZ}; Variance estimate is: {VZ}\")\n",
        "print(f\"Expected value estimate of K is: {EK}; Variance estimate is: {VK}\")"
      ]
    },
    {
      "cell_type": "markdown",
      "id": "e888d260",
      "metadata": {
        "id": "e888d260"
      },
      "source": [
        "## 3.5"
      ]
    },
    {
      "cell_type": "code",
      "execution_count": 99,
      "id": "57ff8b96",
      "metadata": {
        "id": "57ff8b96"
      },
      "outputs": [],
      "source": [
        "N = 10000 # Number of experiments/samples\n",
        "p_vals_up_xz = []\n",
        "p_vals_up_xk = []\n",
        "p_vals_p_xz = []\n",
        "p_vals_p_xk = []\n",
        "for i in range(N):\n",
        "    X, Y, Z, K = sample_xyzk(seed=i)\n",
        "    _, p_up_xz = ttest_ind(X, Z, equal_var=False)\n",
        "    _, p_up_xk = ttest_ind(X, K, equal_var=False)\n",
        "    p_vals_up_xz.append(p_up_xz)\n",
        "    p_vals_up_xk.append(p_up_xk)\n",
        "    _, p_p_xz = ttest_rel(X, Z)\n",
        "    _, p_p_xk = ttest_rel(X, K)\n",
        "    p_vals_p_xz.append(p_p_xz)\n",
        "    p_vals_p_xk.append(p_p_xk)"
      ]
    },
    {
      "cell_type": "markdown",
      "id": "3019dfbf",
      "metadata": {
        "id": "3019dfbf"
      },
      "source": [
        "## 3.6"
      ]
    },
    {
      "cell_type": "code",
      "execution_count": 100,
      "id": "ca795a25",
      "metadata": {
        "colab": {
          "base_uri": "https://localhost:8080/"
        },
        "id": "ca795a25",
        "outputId": "2f5f8f98-5e7c-4157-9343-dc7dae33adf1"
      },
      "outputs": [
        {
          "name": "stdout",
          "output_type": "stream",
          "text": [
            "Statistical power of unpaired test comparing X and Z:0.219\n",
            "Statistical power of unpaired test comparing X and K:0.2556\n",
            "Statistical power of paired test comparing X and Z:0.7355\n",
            "Statistical power of paired test comparing X and K:0.2503\n"
          ]
        }
      ],
      "source": [
        "print(f\"Statistical power of unpaired test comparing X and Z:\\\n",
        "{sum(i < 0.05 for i in p_vals_up_xz)/N}\")\n",
        "print(f\"Statistical power of unpaired test comparing X and K:\\\n",
        "{sum(i < 0.05 for i in p_vals_up_xk)/N}\")\n",
        "print(f\"Statistical power of paired test comparing X and Z:\\\n",
        "{sum(i < 0.05 for i in p_vals_p_xz)/N}\")\n",
        "print(f\"Statistical power of paired test comparing X and K:\\\n",
        "{sum(i < 0.05 for i in p_vals_p_xk)/N}\")"
      ]
    },
    {
      "cell_type": "markdown",
      "id": "838365af",
      "metadata": {
        "id": "838365af"
      },
      "source": [
        "## 3.7\n",
        "Paired t-tests are helpful when dealing with realted samples and when we are not assuming equal variances.\n",
        "\n",
        "When it comes to results, we can say that they are aligned with the expectation - we can see that X with respect to K is just shifted, that is why the percentage of rejections is low. Whereas for X with respect to Z there is mean shift, different variance and another distribution included, which results in higher rejection rate. We can observe much higher rate for paired test, which assumes that samples are related, which is not the case. That is why it is over 70 %."
      ]
    },
    {
      "cell_type": "markdown",
      "id": "bd689bd7",
      "metadata": {
        "id": "bd689bd7"
      },
      "source": [
        "## 3.8"
      ]
    },
    {
      "cell_type": "code",
      "execution_count": 101,
      "id": "d06f5015",
      "metadata": {
        "colab": {
          "base_uri": "https://localhost:8080/"
        },
        "id": "d06f5015",
        "outputId": "9753a4da-c598-49df-f919-5745535283a9"
      },
      "outputs": [
        {
          "name": "stdout",
          "output_type": "stream",
          "text": [
            "Mean ratio between the number of words in the winner headline and the loser headline: average difference: 1.0620588155252706, confidence intervals: [1.05737264 1.06675641]\n",
            "The difference in usage of positive words between winner and loser headlines: average difference: -0.007352079453755431, confidence intervals: [-0.01653406  0.00174934]\n",
            "The difference in usage of negative words between winner and loser headlines: average difference: 0.01632256644658879, confidence intervals: [0.00795666 0.02477287]\n",
            "The difference in usage of first_person_singular pronoun between winner and loser headlines: average difference: 0.015181970543423058, confidence intervals: [0.00942385 0.02093561]\n",
            "The difference in usage of first_person_plural pronoun between winner and loser headlines: average difference: -0.011185209638282264, confidence intervals: [-0.01687264 -0.00564302]\n",
            "The difference in usage of second_person pronoun between winner and loser headlines: average difference: 0.004488482591275887, confidence intervals: [-0.00321652  0.01218893]\n",
            "The difference in usage of third_person_singular pronoun between winner and loser headlines: average difference: 0.03778983691665257, confidence intervals: [0.02990661 0.04559562]\n",
            "The difference in usage of third_person_plural pronoun between winner and loser headlines: average difference: 0.0029927769313244173, confidence intervals: [-0.00310366  0.00919813]\n"
          ]
        }
      ],
      "source": [
        "def bootstrap(samples, seed):\n",
        "    np.random.seed(seed)\n",
        "    return np.random.choice(samples, size=len(samples), replace=True)\n",
        "\n",
        "\n",
        "def calculate_avg_diff_and_conf_interval_means(series, n_samples=10000, confidence=0.95):\n",
        "    means = np.zeros(n_samples)\n",
        "    for i in range(n_samples):\n",
        "        sample = bootstrap(series, seed=i)\n",
        "        means[i] = (sample.mean())\n",
        "\n",
        "    mean_means = means.mean() \n",
        "\n",
        "    conf_interval = np.nanpercentile(means,[100*(1-confidence)/2, 100*(1-(1-confidence)/2)])\n",
        "    return mean_means, conf_interval\n",
        "\n",
        "\n",
        "# The mean ratio between the number of words in the winner headline and the loser headline \n",
        "# (i.e., the number of words in the winner headline divided by the number of words in the loser headlines).\n",
        "df_with_count[\"words_ratio\"] = df_with_count[\"numwords1\"]/df_with_count[\"numwords2\"]\n",
        "words_ratio = calculate_avg_diff_and_conf_interval_means(df_with_count[\"words_ratio\"])\n",
        "print(f\"Mean ratio between the number of words in the winner headline and the loser headline: average difference: {words_ratio[0]}, confidence intervals: {words_ratio[1]}\")\n",
        "\n",
        "\n",
        "# The difference in usage of positive words between winner and loser headlines.\n",
        "positive_words = calculate_avg_diff_and_conf_interval_means(df_with_count[\"positive1\"] - df_with_count[\"positive2\"])\n",
        "print(f\"The difference in usage of positive words between winner and loser headlines: average difference: {positive_words[0]}, confidence intervals: {positive_words[1]}\")\n",
        "\n",
        "# The difference in usage of negative words between winner and loser headlines.\n",
        "negative_words = calculate_avg_diff_and_conf_interval_means(df_with_count[\"negative1\"] - df_with_count[\"negative2\"])\n",
        "print(f\"The difference in usage of negative words between winner and loser headlines: average difference: {negative_words[0]}, confidence intervals: {negative_words[1]}\")\n",
        "\n",
        "# The difference in usage of each type of pronoun between winner and loser headlines.\n",
        "for pronoun in list(feature_wordsets.keys()):\n",
        "    pronoun_result = calculate_avg_diff_and_conf_interval_means(df_with_count[pronoun+\"1\"] - df_with_count[pronoun+\"2\"])\n",
        "    print(f\"The difference in usage of {pronoun} pronoun between winner and loser headlines: average difference: {pronoun_result[0]}, confidence intervals: {pronoun_result[1]}\")"
      ]
    },
    {
      "cell_type": "markdown",
      "id": "303c0b4c",
      "metadata": {
        "id": "303c0b4c"
      },
      "source": [
        "## 3.9\n",
        "We can say that usually the winner headline is longer. However, we did not find any significance in the fact whether winner headlines are more positive or not, as the values are very small and confidence interval includes negative and positive values. On the other hand in the case of negative sentiment, value is positive as well as both 95 % confidence bounds. That leads to a conclusion that winner headlines are averagely more negative.\n",
        "Similarly, we could say that preferably people read headlines containing first person singular and third_person_singular and avoid reading first_person_plural."
      ]
    },
    {
      "cell_type": "markdown",
      "id": "fdf7369b",
      "metadata": {
        "id": "fdf7369b"
      },
      "source": [
        "## Task 4: Temporal validity and heterogeneity of the effect.\n",
        "\n",
        "Last, we investigate how the effects studied in **T3** change with time and how they might be heterogeneous across different types of news.\n",
        "\n",
        "4.1 Create a plot where you depict the monthly average number of words in winner and loser headlines. Consider only headlines created after April 2013 (the month of April inclusive). Include also bootstrapped 95% confidence intervals; here, you can use a third-party implementation if you want. Finally, recall that we created a column `date_created` which captures the creation of the winner headline; you can consider this date to correspond to the date of the creation of the A/B test.\n",
        "\n",
        "4.2 Produce similar plots to each pronoun category, as well as for positive and negative sentiment. Here, unlike in **T4.1**, depict the month averages pooled across winner and loser headlines (i.e., for each month, you calculate the average across both winners and loser headlines).\n",
        "Create all these plots in a single figure with no more than 11 inches of width and 11 inches of height. Again, consider only headlines created after April 2013 (the month of April inclusive).\n",
        "\n",
        "4.3 **Discuss:** Has the type of headline Upworthy used in their A/B tests changed with time? Are these changes likely to be producing more or less engaging headlines? Justify.\n",
        "\n",
        "4.4 Divide your data into two periods, $t_1$, which goes from  April 2013 (inclusive) to March 2014 (inclusive), and $t_2$, which goes from April 2014 (inclusive) to the latest A/B test in the data. Create a dataframe for A/B tests in each period.\n",
        "\n",
        "4.5 Let's examine if the effects observed remained the same throughout the study period. Use an appropriate methodology  of your choice to determine if the effects observed in **T3.8** (length, each category of pronouns, positive words, and negative words) were different in $t_1$ and $t_2$. Here, note that we are considering \"at least one positive outcome\" to be the manifestation of an underlying effect, thus significance level must be adjusted down when performing multiple hypothesis tests!\n",
        "\n",
        "4.6 **Discuss:** Hypothesize two reasons that could have led to a change in the observed effects. According to the analysis done in **T4.5**, have the effects observed remained the same across the study period? \n",
        "\n",
        "4.7 The features we are studying may interact with each other. For instance, people may like first person singular pronouns in headlines containing positive words (you are amazing!), but dislike headlines with negative words and first person pronouns (you are awful!). To help answer this question, create:\n",
        "- a dataframe containing all A/B tests where both winner and loser headlines include a positive word; and\n",
        "- a dataframe containing all A/B tests where both winner and loser headlines include a negative word;\n",
        "\n",
        "4.8 Using an appropriate methodology of your choice, determine if the effect of the use of first person singular pronouns in the headline is heterogeneous across headlines with positive words and negative words, i.e., is the effect significantly stronger for one of the dataframes created in **T4.7**? \n",
        "\n",
        "4.9 **Discuss:** Considering the analyses you did throughout Tasks 3 and 4, write a short text (no more than 250 words) giving advice to Upworthy employees on how they should try to write engaging headlines. \n",
        "You can reference images present in the notebook by indicating a task (e.g., image plotted in **T3.3**) or a cell number. Note that you do not need to conduct any additional analysis to write this text. \n"
      ]
    },
    {
      "cell_type": "markdown",
      "id": "36ba5c68",
      "metadata": {
        "id": "36ba5c68"
      },
      "source": [
        "## 4.1"
      ]
    },
    {
      "cell_type": "code",
      "execution_count": 102,
      "id": "d48f33b3",
      "metadata": {
        "id": "d48f33b3"
      },
      "outputs": [],
      "source": [
        "def bootstrap_CI(data, n_samples=1000, confidence=0.95):\n",
        "    means = np.zeros(n_samples)\n",
        "    data = np.array(data)\n",
        "    for i in range(n_samples):\n",
        "        sample = np.random.choice(data, size=len(data), replace=True)\n",
        "        means[i] = sample.mean()\n",
        "    \n",
        "    conf_interval = np.nanpercentile(means,[100*(1-confidence)/2, 100*(1-(1-confidence)/2)])\n",
        "    return conf_interval"
      ]
    },
    {
      "cell_type": "code",
      "execution_count": 103,
      "id": "2012bab6",
      "metadata": {
        "colab": {
          "base_uri": "https://localhost:8080/",
          "height": 206
        },
        "id": "2012bab6",
        "outputId": "a81e02ba-638d-40a0-ebdd-201cb6371a79"
      },
      "outputs": [
        {
          "data": {
            "text/html": [
              "<div>\n",
              "<style scoped>\n",
              "    .dataframe tbody tr th:only-of-type {\n",
              "        vertical-align: middle;\n",
              "    }\n",
              "\n",
              "    .dataframe tbody tr th {\n",
              "        vertical-align: top;\n",
              "    }\n",
              "\n",
              "    .dataframe thead th {\n",
              "        text-align: right;\n",
              "    }\n",
              "</style>\n",
              "<table border=\"1\" class=\"dataframe\">\n",
              "  <thead>\n",
              "    <tr style=\"text-align: right;\">\n",
              "      <th></th>\n",
              "      <th>year</th>\n",
              "      <th>month</th>\n",
              "      <th>numwords1_vals</th>\n",
              "      <th>numwords1_bounds</th>\n",
              "      <th>numwords2_vals</th>\n",
              "      <th>numwords2_bounds</th>\n",
              "    </tr>\n",
              "  </thead>\n",
              "  <tbody>\n",
              "    <tr>\n",
              "      <th>4/2013</th>\n",
              "      <td>2013</td>\n",
              "      <td>4</td>\n",
              "      <td>[4, 4, 7, 14, 14, 9, 11, 11, 8, 18, 12, 15, 15...</td>\n",
              "      <td>[13.13407960199005, 14.03495024875622]</td>\n",
              "      <td>[7, 12, 12, 9, 12, 12, 13, 8, 13, 7, 14, 13, 9...</td>\n",
              "      <td>[12.621517412935324, 13.517537313432836]</td>\n",
              "    </tr>\n",
              "    <tr>\n",
              "      <th>5/2013</th>\n",
              "      <td>2013</td>\n",
              "      <td>5</td>\n",
              "      <td>[12, 14, 14, 9, 13, 14, 14, 14, 14, 14, 10, 9,...</td>\n",
              "      <td>[13.339181286549708, 14.526461988304094]</td>\n",
              "      <td>[11, 12, 11, 17, 13, 13, 13, 13, 14, 13, 15, 1...</td>\n",
              "      <td>[13.760087719298246, 14.83640350877193]</td>\n",
              "    </tr>\n",
              "    <tr>\n",
              "      <th>6/2013</th>\n",
              "      <td>2013</td>\n",
              "      <td>6</td>\n",
              "      <td>[10, 10, 11, 10, 10, 10, 11, 14, 14, 10, 10, 1...</td>\n",
              "      <td>[14.127600472813238, 14.633628841607566]</td>\n",
              "      <td>[11, 15, 15, 11, 14, 10, 10, 11, 10, 13, 11, 1...</td>\n",
              "      <td>[13.763593380614656, 14.279078014184398]</td>\n",
              "    </tr>\n",
              "    <tr>\n",
              "      <th>7/2013</th>\n",
              "      <td>2013</td>\n",
              "      <td>7</td>\n",
              "      <td>[12, 12, 15, 15, 15, 17, 4, 4, 15, 15, 15, 12,...</td>\n",
              "      <td>[14.899742930591259, 15.521915167095116]</td>\n",
              "      <td>[10, 17, 12, 10, 17, 10, 12, 14, 4, 12, 14, 14...</td>\n",
              "      <td>[14.619537275064268, 15.249421593830334]</td>\n",
              "    </tr>\n",
              "    <tr>\n",
              "      <th>8/2013</th>\n",
              "      <td>2013</td>\n",
              "      <td>8</td>\n",
              "      <td>[9, 9, 15, 10, 13, 7, 8, 8, 8, 14, 14, 15, 15,...</td>\n",
              "      <td>[13.786054913294798, 14.390245664739885]</td>\n",
              "      <td>[13, 15, 13, 12, 9, 9, 7, 14, 9, 7, 9, 15, 16,...</td>\n",
              "      <td>[13.144508670520231, 13.832514450867052]</td>\n",
              "    </tr>\n",
              "  </tbody>\n",
              "</table>\n",
              "</div>"
            ],
            "text/plain": [
              "        year  month                                     numwords1_vals  \\\n",
              "4/2013  2013      4  [4, 4, 7, 14, 14, 9, 11, 11, 8, 18, 12, 15, 15...   \n",
              "5/2013  2013      5  [12, 14, 14, 9, 13, 14, 14, 14, 14, 14, 10, 9,...   \n",
              "6/2013  2013      6  [10, 10, 11, 10, 10, 10, 11, 14, 14, 10, 10, 1...   \n",
              "7/2013  2013      7  [12, 12, 15, 15, 15, 17, 4, 4, 15, 15, 15, 12,...   \n",
              "8/2013  2013      8  [9, 9, 15, 10, 13, 7, 8, 8, 8, 14, 14, 15, 15,...   \n",
              "\n",
              "                                numwords1_bounds  \\\n",
              "4/2013    [13.13407960199005, 14.03495024875622]   \n",
              "5/2013  [13.339181286549708, 14.526461988304094]   \n",
              "6/2013  [14.127600472813238, 14.633628841607566]   \n",
              "7/2013  [14.899742930591259, 15.521915167095116]   \n",
              "8/2013  [13.786054913294798, 14.390245664739885]   \n",
              "\n",
              "                                           numwords2_vals  \\\n",
              "4/2013  [7, 12, 12, 9, 12, 12, 13, 8, 13, 7, 14, 13, 9...   \n",
              "5/2013  [11, 12, 11, 17, 13, 13, 13, 13, 14, 13, 15, 1...   \n",
              "6/2013  [11, 15, 15, 11, 14, 10, 10, 11, 10, 13, 11, 1...   \n",
              "7/2013  [10, 17, 12, 10, 17, 10, 12, 14, 4, 12, 14, 14...   \n",
              "8/2013  [13, 15, 13, 12, 9, 9, 7, 14, 9, 7, 9, 15, 16,...   \n",
              "\n",
              "                                numwords2_bounds  \n",
              "4/2013  [12.621517412935324, 13.517537313432836]  \n",
              "5/2013   [13.760087719298246, 14.83640350877193]  \n",
              "6/2013  [13.763593380614656, 14.279078014184398]  \n",
              "7/2013  [14.619537275064268, 15.249421593830334]  \n",
              "8/2013  [13.144508670520231, 13.832514450867052]  "
            ]
          },
          "execution_count": 103,
          "metadata": {},
          "output_type": "execute_result"
        }
      ],
      "source": [
        "df_with_months = df_with_count.copy() # df created for additional month  and year column\n",
        "df_with_months[\"date_created\"] = pd.to_datetime(df_with_months[\"date_created\"])\n",
        "\n",
        "df_with_months[\"month\"] = df_with_months[\"date_created\"].dt.month\n",
        "df_with_months[\"year\"] = df_with_months[\"date_created\"].dt.year\n",
        "\n",
        "# create df grouped by months containing mean numbers of words (nw) and CIs\n",
        "df_nw = df_with_months.query('year>2013 or (year==2013 and month > 3)').groupby([\"year\",\"month\"]).apply(lambda x: pd.Series({ \n",
        "        'numwords1_vals': x['numwords1'].values,\n",
        "        'numwords1_bounds': bootstrap_CI(x['numwords1'].values),\n",
        "        'numwords2_vals': x['numwords2'].values,\n",
        "        'numwords2_bounds':bootstrap_CI(x['numwords2'].values),\n",
        "        \n",
        "    }))\n",
        "\n",
        "df_nw.reset_index(inplace=True)\n",
        "df_nw.index = df_nw.apply(lambda x: f'{x.month}/{x.year}',axis=1) # sed unique selfexplanatory index for the plotting\n",
        "df_nw.head()"
      ]
    },
    {
      "cell_type": "code",
      "execution_count": 104,
      "id": "8a69ed9d",
      "metadata": {
        "colab": {
          "base_uri": "https://localhost:8080/",
          "height": 311
        },
        "id": "8a69ed9d",
        "outputId": "78dfd0ea-30dc-40dc-ba82-b48c0d607deb"
      },
      "outputs": [
        {
          "data": {
            "image/png": "[encoded data removed]",
            "text/plain": [
              "<Figure size 640x480 with 1 Axes>"
            ]
          },
          "metadata": {},
          "output_type": "display_data"
        }
      ],
      "source": [
        "\n",
        "#plot errorbars from previously obtained filtered df\n",
        "p = plt.plot(df_nw.index, df_nw['numwords1_vals'].apply(np.mean), label='Winner avg.')\n",
        "plt.errorbar(df_nw.index, df_nw['numwords1_bounds'].apply(lambda x: x[0]), yerr=df_nw['numwords1_bounds'].apply(lambda x: x[1]-x[0]), fmt=\"none\", ecolor=p[0].get_color(), capsize=2)\n",
        "p = plt.plot(df_nw.index, df_nw['numwords2_vals'].apply(np.mean), label='Loser avg.')\n",
        "plt.errorbar(df_nw.index, df_nw['numwords2_bounds'].apply(lambda x: x[0]), yerr=df_nw['numwords2_bounds'].apply(lambda x: x[1]-x[0]), fmt=\"none\", ecolor=p[0].get_color() ,capsize=2)\n",
        "plt.xticks(rotation=90)\n",
        "plt.legend()\n",
        "plt.xlabel('Date')\n",
        "plt.ylabel('Avg. num words')\n",
        "plt.show()"
      ]
    },
    {
      "cell_type": "markdown",
      "id": "29c8891b",
      "metadata": {
        "id": "29c8891b"
      },
      "source": [
        "## 4.2"
      ]
    },
    {
      "cell_type": "code",
      "execution_count": 105,
      "id": "5f685057",
      "metadata": {
        "colab": {
          "base_uri": "https://localhost:8080/",
          "height": 444
        },
        "id": "5f685057",
        "outputId": "ec276f00-cf2f-4c23-fe71-8f1a604683d3"
      },
      "outputs": [
        {
          "data": {
            "text/html": [
              "<div>\n",
              "<style scoped>\n",
              "    .dataframe tbody tr th:only-of-type {\n",
              "        vertical-align: middle;\n",
              "    }\n",
              "\n",
              "    .dataframe tbody tr th {\n",
              "        vertical-align: top;\n",
              "    }\n",
              "\n",
              "    .dataframe thead th {\n",
              "        text-align: right;\n",
              "    }\n",
              "</style>\n",
              "<table border=\"1\" class=\"dataframe\">\n",
              "  <thead>\n",
              "    <tr style=\"text-align: right;\">\n",
              "      <th></th>\n",
              "      <th>year</th>\n",
              "      <th>month</th>\n",
              "      <th>positive_vals</th>\n",
              "      <th>positive_bounds</th>\n",
              "      <th>negative_vals</th>\n",
              "      <th>negative_bounds</th>\n",
              "      <th>first_person_singular_vals</th>\n",
              "      <th>first_person_singular_bounds</th>\n",
              "      <th>first_person_plural_vals</th>\n",
              "      <th>first_person_plural_bounds</th>\n",
              "      <th>third_person_singular_vals</th>\n",
              "      <th>third_person_singular_bounds</th>\n",
              "      <th>third_person_plural_vals</th>\n",
              "      <th>third_person_plural_bounds</th>\n",
              "      <th>second_person_vals</th>\n",
              "      <th>second_person_bounds</th>\n",
              "    </tr>\n",
              "  </thead>\n",
              "  <tbody>\n",
              "    <tr>\n",
              "      <th>4/2013</th>\n",
              "      <td>2013</td>\n",
              "      <td>4</td>\n",
              "      <td>[0.0, 0.5, 0.5, 0.0, 0.0, 0.0, 1.0, 0.5, 0.5, ...</td>\n",
              "      <td>[0.3656716417910448, 0.4626865671641791]</td>\n",
              "      <td>[0.0, 0.0, 0.0, 0.5, 1.0, 0.5, 0.0, 0.5, 0.5, ...</td>\n",
              "      <td>[0.25870646766169153, 0.35572139303482586]</td>\n",
              "      <td>[0.0, 0.0, 0.0, 0.0, 0.0, 0.0, 0.0, 0.0, 0.0, ...</td>\n",
              "      <td>[0.08208955223880597, 0.16666666666666666]</td>\n",
              "      <td>[0.0, 0.0, 0.0, 0.0, 0.0, 0.0, 0.0, 0.0, 0.0, ...</td>\n",
              "      <td>[0.024875621890547265, 0.06716417910447761]</td>\n",
              "      <td>[0.0, 0.0, 0.0, 0.0, 0.0, 0.0, 0.0, 0.0, 0.0, ...</td>\n",
              "      <td>[0.18407960199004975, 0.26616915422885573]</td>\n",
              "      <td>[0.0, 0.0, 0.0, 0.0, 0.0, 0.0, 0.0, 0.0, 0.0, ...</td>\n",
              "      <td>[0.06965174129353234, 0.12686567164179105]</td>\n",
              "      <td>[0.0, 0.0, 0.0, 0.0, 0.0, 0.0, 0.0, 0.0, 0.0, ...</td>\n",
              "      <td>[0.23880597014925373, 0.3358208955223881]</td>\n",
              "    </tr>\n",
              "    <tr>\n",
              "      <th>5/2013</th>\n",
              "      <td>2013</td>\n",
              "      <td>5</td>\n",
              "      <td>[0.0, 0.0, 0.0, 0.0, 1.0, 1.0, 1.0, 0.5, 0.5, ...</td>\n",
              "      <td>[0.3391812865497076, 0.45614035087719296]</td>\n",
              "      <td>[0.5, 0.0, 0.5, 0.5, 0.0, 0.0, 0.0, 0.0, 0.0, ...</td>\n",
              "      <td>[0.2543859649122807, 0.3654970760233918]</td>\n",
              "      <td>[0.0, 0.0, 0.0, 0.0, 0.0, 0.0, 0.0, 0.0, 0.0, ...</td>\n",
              "      <td>[0.07017543859649122, 0.13157894736842105]</td>\n",
              "      <td>[0.0, 0.0, 0.0, 0.0, 0.0, 0.0, 0.0, 0.0, 0.0, ...</td>\n",
              "      <td>[0.023318713450292464, 0.07317251461988297]</td>\n",
              "      <td>[0.0, 0.0, 0.0, 0.0, 0.5, 1.0, 0.5, 1.0, 1.0, ...</td>\n",
              "      <td>[0.2222222222222222, 0.3362573099415205]</td>\n",
              "      <td>[0.0, 0.0, 0.0, 0.0, 0.0, 0.0, 0.0, 0.0, 0.0, ...</td>\n",
              "      <td>[0.07602339181286549, 0.1433479532163742]</td>\n",
              "      <td>[0.5, 0.5, 1.0, 1.0, 0.0, 0.0, 0.0, 0.0, 0.0, ...</td>\n",
              "      <td>[0.15497076023391812, 0.25146198830409355]</td>\n",
              "    </tr>\n",
              "    <tr>\n",
              "      <th>6/2013</th>\n",
              "      <td>2013</td>\n",
              "      <td>6</td>\n",
              "      <td>[0.5, 0.0, 0.5, 0.5, 0.5, 0.5, 1.0, 1.0, 1.0, ...</td>\n",
              "      <td>[0.4101654846335697, 0.4858156028368794]</td>\n",
              "      <td>[1.0, 1.0, 1.0, 1.0, 0.5, 0.5, 0.5, 0.5, 0.0, ...</td>\n",
              "      <td>[0.3888888888888889, 0.4657210401891253]</td>\n",
              "      <td>[0.0, 0.5, 0.5, 0.0, 0.0, 0.0, 0.0, 0.0, 0.0, ...</td>\n",
              "      <td>[0.12647754137115838, 0.18439716312056736]</td>\n",
              "      <td>[0.0, 0.0, 0.0, 0.0, 0.0, 0.0, 0.0, 0.0, 0.0, ...</td>\n",
              "      <td>[0.08156028368794327, 0.12887115839243496]</td>\n",
              "      <td>[0.0, 0.0, 0.0, 0.0, 0.0, 0.0, 0.0, 0.0, 0.0, ...</td>\n",
              "      <td>[0.18085106382978725, 0.24113475177304963]</td>\n",
              "      <td>[0.0, 0.0, 0.0, 0.0, 0.0, 0.0, 0.0, 0.0, 0.0, ...</td>\n",
              "      <td>[0.10635342789598111, 0.15602836879432624]</td>\n",
              "      <td>[0.5, 0.0, 0.5, 0.0, 0.0, 0.0, 0.0, 0.0, 0.0, ...</td>\n",
              "      <td>[0.17375886524822695, 0.23167848699763594]</td>\n",
              "    </tr>\n",
              "    <tr>\n",
              "      <th>7/2013</th>\n",
              "      <td>2013</td>\n",
              "      <td>7</td>\n",
              "      <td>[0.5, 0.5, 0.0, 0.5, 0.5, 1.0, 0.0, 0.5, 0.5, ...</td>\n",
              "      <td>[0.2866323907455013, 0.3560411311053985]</td>\n",
              "      <td>[0.0, 0.5, 0.5, 0.5, 1.0, 0.5, 0.5, 0.0, 0.0, ...</td>\n",
              "      <td>[0.29048843187660667, 0.36503856041131105]</td>\n",
              "      <td>[0.0, 0.0, 0.0, 0.0, 0.0, 0.0, 0.0, 0.0, 0.0, ...</td>\n",
              "      <td>[0.14781491002570693, 0.2095437017994858]</td>\n",
              "      <td>[0.5, 0.0, 0.0, 0.5, 0.0, 0.5, 0.0, 0.0, 0.0, ...</td>\n",
              "      <td>[0.14906812339331624, 0.2120822622107969]</td>\n",
              "      <td>[0.5, 0.0, 0.0, 0.5, 0.0, 0.5, 0.5, 0.5, 1.0, ...</td>\n",
              "      <td>[0.2442159383033419, 0.3149100257069409]</td>\n",
              "      <td>[0.0, 0.0, 0.0, 0.0, 0.0, 0.0, 0.0, 0.0, 0.0, ...</td>\n",
              "      <td>[0.09640102827763496, 0.15038560411311053]</td>\n",
              "      <td>[0.0, 0.0, 0.5, 0.5, 0.5, 0.0, 0.0, 0.0, 0.0, ...</td>\n",
              "      <td>[0.14652956298200515, 0.2043701799485861]</td>\n",
              "    </tr>\n",
              "    <tr>\n",
              "      <th>8/2013</th>\n",
              "      <td>2013</td>\n",
              "      <td>8</td>\n",
              "      <td>[0.5, 0.0, 0.5, 0.0, 0.5, 0.0, 0.5, 1.0, 0.5, ...</td>\n",
              "      <td>[0.33959537572254334, 0.4190751445086705]</td>\n",
              "      <td>[0.5, 0.5, 0.0, 1.0, 0.5, 0.0, 0.0, 0.0, 0.0, ...</td>\n",
              "      <td>[0.29335260115606937, 0.37427745664739887]</td>\n",
              "      <td>[0.0, 0.0, 0.0, 1.0, 0.0, 0.0, 0.0, 0.0, 0.0, ...</td>\n",
              "      <td>[0.13583815028901733, 0.203757225433526]</td>\n",
              "      <td>[0.0, 0.0, 0.0, 0.0, 0.0, 0.0, 0.0, 0.0, 0.0, ...</td>\n",
              "      <td>[0.07947976878612717, 0.1329479768786127]</td>\n",
              "      <td>[0.0, 0.5, 0.5, 0.0, 0.0, 0.0, 0.0, 0.0, 0.0, ...</td>\n",
              "      <td>[0.1893063583815029, 0.25722543352601157]</td>\n",
              "      <td>[0.5, 0.5, 1.0, 0.0, 0.0, 0.5, 0.0, 0.0, 0.5, ...</td>\n",
              "      <td>[0.11849710982658959, 0.18067196531791904]</td>\n",
              "      <td>[0.0, 0.0, 0.0, 0.0, 0.0, 0.0, 0.0, 0.5, 0.0, ...</td>\n",
              "      <td>[0.19797687861271676, 0.2658959537572254]</td>\n",
              "    </tr>\n",
              "  </tbody>\n",
              "</table>\n",
              "</div>"
            ],
            "text/plain": [
              "        year  month                                      positive_vals  \\\n",
              "4/2013  2013      4  [0.0, 0.5, 0.5, 0.0, 0.0, 0.0, 1.0, 0.5, 0.5, ...   \n",
              "5/2013  2013      5  [0.0, 0.0, 0.0, 0.0, 1.0, 1.0, 1.0, 0.5, 0.5, ...   \n",
              "6/2013  2013      6  [0.5, 0.0, 0.5, 0.5, 0.5, 0.5, 1.0, 1.0, 1.0, ...   \n",
              "7/2013  2013      7  [0.5, 0.5, 0.0, 0.5, 0.5, 1.0, 0.0, 0.5, 0.5, ...   \n",
              "8/2013  2013      8  [0.5, 0.0, 0.5, 0.0, 0.5, 0.0, 0.5, 1.0, 0.5, ...   \n",
              "\n",
              "                                  positive_bounds  \\\n",
              "4/2013   [0.3656716417910448, 0.4626865671641791]   \n",
              "5/2013  [0.3391812865497076, 0.45614035087719296]   \n",
              "6/2013   [0.4101654846335697, 0.4858156028368794]   \n",
              "7/2013   [0.2866323907455013, 0.3560411311053985]   \n",
              "8/2013  [0.33959537572254334, 0.4190751445086705]   \n",
              "\n",
              "                                            negative_vals  \\\n",
              "4/2013  [0.0, 0.0, 0.0, 0.5, 1.0, 0.5, 0.0, 0.5, 0.5, ...   \n",
              "5/2013  [0.5, 0.0, 0.5, 0.5, 0.0, 0.0, 0.0, 0.0, 0.0, ...   \n",
              "6/2013  [1.0, 1.0, 1.0, 1.0, 0.5, 0.5, 0.5, 0.5, 0.0, ...   \n",
              "7/2013  [0.0, 0.5, 0.5, 0.5, 1.0, 0.5, 0.5, 0.0, 0.0, ...   \n",
              "8/2013  [0.5, 0.5, 0.0, 1.0, 0.5, 0.0, 0.0, 0.0, 0.0, ...   \n",
              "\n",
              "                                   negative_bounds  \\\n",
              "4/2013  [0.25870646766169153, 0.35572139303482586]   \n",
              "5/2013    [0.2543859649122807, 0.3654970760233918]   \n",
              "6/2013    [0.3888888888888889, 0.4657210401891253]   \n",
              "7/2013  [0.29048843187660667, 0.36503856041131105]   \n",
              "8/2013  [0.29335260115606937, 0.37427745664739887]   \n",
              "\n",
              "                               first_person_singular_vals  \\\n",
              "4/2013  [0.0, 0.0, 0.0, 0.0, 0.0, 0.0, 0.0, 0.0, 0.0, ...   \n",
              "5/2013  [0.0, 0.0, 0.0, 0.0, 0.0, 0.0, 0.0, 0.0, 0.0, ...   \n",
              "6/2013  [0.0, 0.5, 0.5, 0.0, 0.0, 0.0, 0.0, 0.0, 0.0, ...   \n",
              "7/2013  [0.0, 0.0, 0.0, 0.0, 0.0, 0.0, 0.0, 0.0, 0.0, ...   \n",
              "8/2013  [0.0, 0.0, 0.0, 1.0, 0.0, 0.0, 0.0, 0.0, 0.0, ...   \n",
              "\n",
              "                      first_person_singular_bounds  \\\n",
              "4/2013  [0.08208955223880597, 0.16666666666666666]   \n",
              "5/2013  [0.07017543859649122, 0.13157894736842105]   \n",
              "6/2013  [0.12647754137115838, 0.18439716312056736]   \n",
              "7/2013   [0.14781491002570693, 0.2095437017994858]   \n",
              "8/2013    [0.13583815028901733, 0.203757225433526]   \n",
              "\n",
              "                                 first_person_plural_vals  \\\n",
              "4/2013  [0.0, 0.0, 0.0, 0.0, 0.0, 0.0, 0.0, 0.0, 0.0, ...   \n",
              "5/2013  [0.0, 0.0, 0.0, 0.0, 0.0, 0.0, 0.0, 0.0, 0.0, ...   \n",
              "6/2013  [0.0, 0.0, 0.0, 0.0, 0.0, 0.0, 0.0, 0.0, 0.0, ...   \n",
              "7/2013  [0.5, 0.0, 0.0, 0.5, 0.0, 0.5, 0.0, 0.0, 0.0, ...   \n",
              "8/2013  [0.0, 0.0, 0.0, 0.0, 0.0, 0.0, 0.0, 0.0, 0.0, ...   \n",
              "\n",
              "                         first_person_plural_bounds  \\\n",
              "4/2013  [0.024875621890547265, 0.06716417910447761]   \n",
              "5/2013  [0.023318713450292464, 0.07317251461988297]   \n",
              "6/2013   [0.08156028368794327, 0.12887115839243496]   \n",
              "7/2013    [0.14906812339331624, 0.2120822622107969]   \n",
              "8/2013    [0.07947976878612717, 0.1329479768786127]   \n",
              "\n",
              "                               third_person_singular_vals  \\\n",
              "4/2013  [0.0, 0.0, 0.0, 0.0, 0.0, 0.0, 0.0, 0.0, 0.0, ...   \n",
              "5/2013  [0.0, 0.0, 0.0, 0.0, 0.5, 1.0, 0.5, 1.0, 1.0, ...   \n",
              "6/2013  [0.0, 0.0, 0.0, 0.0, 0.0, 0.0, 0.0, 0.0, 0.0, ...   \n",
              "7/2013  [0.5, 0.0, 0.0, 0.5, 0.0, 0.5, 0.5, 0.5, 1.0, ...   \n",
              "8/2013  [0.0, 0.5, 0.5, 0.0, 0.0, 0.0, 0.0, 0.0, 0.0, ...   \n",
              "\n",
              "                      third_person_singular_bounds  \\\n",
              "4/2013  [0.18407960199004975, 0.26616915422885573]   \n",
              "5/2013    [0.2222222222222222, 0.3362573099415205]   \n",
              "6/2013  [0.18085106382978725, 0.24113475177304963]   \n",
              "7/2013    [0.2442159383033419, 0.3149100257069409]   \n",
              "8/2013   [0.1893063583815029, 0.25722543352601157]   \n",
              "\n",
              "                                 third_person_plural_vals  \\\n",
              "4/2013  [0.0, 0.0, 0.0, 0.0, 0.0, 0.0, 0.0, 0.0, 0.0, ...   \n",
              "5/2013  [0.0, 0.0, 0.0, 0.0, 0.0, 0.0, 0.0, 0.0, 0.0, ...   \n",
              "6/2013  [0.0, 0.0, 0.0, 0.0, 0.0, 0.0, 0.0, 0.0, 0.0, ...   \n",
              "7/2013  [0.0, 0.0, 0.0, 0.0, 0.0, 0.0, 0.0, 0.0, 0.0, ...   \n",
              "8/2013  [0.5, 0.5, 1.0, 0.0, 0.0, 0.5, 0.0, 0.0, 0.5, ...   \n",
              "\n",
              "                        third_person_plural_bounds  \\\n",
              "4/2013  [0.06965174129353234, 0.12686567164179105]   \n",
              "5/2013   [0.07602339181286549, 0.1433479532163742]   \n",
              "6/2013  [0.10635342789598111, 0.15602836879432624]   \n",
              "7/2013  [0.09640102827763496, 0.15038560411311053]   \n",
              "8/2013  [0.11849710982658959, 0.18067196531791904]   \n",
              "\n",
              "                                       second_person_vals  \\\n",
              "4/2013  [0.0, 0.0, 0.0, 0.0, 0.0, 0.0, 0.0, 0.0, 0.0, ...   \n",
              "5/2013  [0.5, 0.5, 1.0, 1.0, 0.0, 0.0, 0.0, 0.0, 0.0, ...   \n",
              "6/2013  [0.5, 0.0, 0.5, 0.0, 0.0, 0.0, 0.0, 0.0, 0.0, ...   \n",
              "7/2013  [0.0, 0.0, 0.5, 0.5, 0.5, 0.0, 0.0, 0.0, 0.0, ...   \n",
              "8/2013  [0.0, 0.0, 0.0, 0.0, 0.0, 0.0, 0.0, 0.5, 0.0, ...   \n",
              "\n",
              "                              second_person_bounds  \n",
              "4/2013   [0.23880597014925373, 0.3358208955223881]  \n",
              "5/2013  [0.15497076023391812, 0.25146198830409355]  \n",
              "6/2013  [0.17375886524822695, 0.23167848699763594]  \n",
              "7/2013   [0.14652956298200515, 0.2043701799485861]  \n",
              "8/2013   [0.19797687861271676, 0.2658959537572254]  "
            ]
          },
          "execution_count": 105,
          "metadata": {},
          "output_type": "execute_result"
        }
      ],
      "source": [
        "# create df contanining the means and CIs for all categories (cats) \n",
        "df_cats = df_with_months.query('year>2013 or (year==2013 and month > 3)').groupby([\"year\",\"month\"]).apply(lambda x: pd.Series({\n",
        "        'positive_vals': (x['positive1'].values + x['positive2'].values)/2,\n",
        "        'positive_bounds': bootstrap_CI((x['positive1'].values + x['positive2'].values)/2),\n",
        "        'negative_vals': (x['negative1'].values + x['negative2'].values)/2,\n",
        "        'negative_bounds':bootstrap_CI((x['negative1'].values + x['negative2'].values)/2),\n",
        "        'first_person_singular_vals': (x['first_person_singular1'].values + x['first_person_singular2'].values)/2,\n",
        "        'first_person_singular_bounds': bootstrap_CI((x['first_person_singular1'].values + x['first_person_singular2'].values)/2),\n",
        "        'first_person_plural_vals': (x['first_person_plural1'].values + x['first_person_plural2'].values)/2,\n",
        "        'first_person_plural_bounds': bootstrap_CI((x['first_person_plural1'].values + x['first_person_plural2'].values)/2),\n",
        "        'third_person_singular_vals': (x['third_person_singular1'].values + x['third_person_singular2'].values)/2,\n",
        "        'third_person_singular_bounds': bootstrap_CI((x['third_person_singular1'].values + x['third_person_singular2'].values)/2),\n",
        "        'third_person_plural_vals': (x['third_person_plural1'].values + x['third_person_plural2'].values)/2,\n",
        "        'third_person_plural_bounds': bootstrap_CI((x['third_person_plural1'].values + x['third_person_plural2'].values)/2),\n",
        "        'second_person_vals': (x['second_person1'].values + x['second_person2'].values)/2,\n",
        "        'second_person_bounds': bootstrap_CI((x['second_person1'].values + x['second_person2'].values)/2),\n",
        "    }))\n",
        "\n",
        "\n",
        "df_cats.reset_index(inplace=True)\n",
        "df_cats.index = df_cats.apply(lambda x: f'{x.month}/{x.year}',axis=1)\n",
        "df_cats.head()"
      ]
    },
    {
      "cell_type": "code",
      "execution_count": 106,
      "id": "b2fa1672",
      "metadata": {
        "colab": {
          "base_uri": "https://localhost:8080/",
          "height": 471
        },
        "id": "b2fa1672",
        "outputId": "4342d24e-0d74-4238-afd5-1094c796f1f4"
      },
      "outputs": [
        {
          "data": {
            "text/plain": [
              "Text(0, 0.3, 'Avg. number of occurences per A/B test')"
            ]
          },
          "execution_count": 106,
          "metadata": {},
          "output_type": "execute_result"
        },
        {
          "data": {
            "image/png": "[encoded data removed]",
            "text/plain": [
              "<Figure size 800x600 with 7 Axes>"
            ]
          },
          "metadata": {},
          "output_type": "display_data"
        }
      ],
      "source": [
        "fig, ax = plt.subplots(3,3,figsize= (8,6), sharey = True, sharex = True)\n",
        "fig.delaxes(ax[2,2])\n",
        "fig.delaxes(ax[2,1])\n",
        "axs = fig.get_axes() # axes flat list\n",
        "\n",
        "i = 0\n",
        "for i in range(len(axs)): # plot corresponding errorbarplot for each axes = category\n",
        "    axs[i].plot(df_cats.index, df_cats[df_cats.columns[i*2+2]].apply(np.mean))\n",
        "    axs[i].errorbar(df_cats.index, df_cats[df_cats.columns[i*2+3]].apply(lambda x: x[0]), yerr=df_cats[df_cats.columns[i*2+3]].apply(lambda x: x[1]-x[0]), fmt='none', capsize=2)\n",
        "    axs[i].set_title(df_cats.columns[i*2+2])\n",
        "    i+=1\n",
        "\n",
        "fig.tight_layout()\n",
        "fig.axes[6].get_xaxis().set_ticks([])\n",
        "fig.text(0.5,0, \"Months since 4/2013 to 4/2015\", ha='center')\n",
        "fig.text(0,0.3, \"Avg. number of occurences per A/B test\", rotation = 90)"
      ]
    },
    {
      "cell_type": "markdown",
      "id": "573f0076",
      "metadata": {
        "id": "573f0076"
      },
      "source": [
        "## 4.3\n",
        "\n",
        "We can see a clear ascending trend in the headline length in both losers and winners of A/B tests throughout the time. However, avg. number of positive and negative words remains more or less the same, as well as most of the pronouns besides third person singular pronouns, where there can be seen a slight trend upwards, too."
      ]
    },
    {
      "cell_type": "markdown",
      "id": "977ab586",
      "metadata": {
        "id": "977ab586"
      },
      "source": [
        "## 4.4"
      ]
    },
    {
      "cell_type": "code",
      "execution_count": 107,
      "id": "089d7a1d",
      "metadata": {
        "id": "089d7a1d"
      },
      "outputs": [],
      "source": [
        "# split the dataframe as specified\n",
        "df_t1 = df_with_months.query('year<2014 or (year==2014 and month < 4)')\n",
        "df_t2 = df_with_months.query('year>2014 or (year==2014 and month > 3)')"
      ]
    },
    {
      "cell_type": "markdown",
      "id": "bf4fe62b",
      "metadata": {
        "id": "bf4fe62b"
      },
      "source": [
        "## 4.5"
      ]
    },
    {
      "cell_type": "code",
      "execution_count": 108,
      "id": "e6a8b9e5",
      "metadata": {
        "colab": {
          "base_uri": "https://localhost:8080/"
        },
        "id": "e6a8b9e5",
        "outputId": "fc70c996-fa35-4277-ed6d-887e43319d13"
      },
      "outputs": [
        {
          "name": "stdout",
          "output_type": "stream",
          "text": [
            "Lets start with mean values of differences for the two time periods\n",
            "Mean of difference of counts of positive words amng winners and losers is for t1 -0.0028 and for t2 is -0.0090, difference: 0.0061.\n",
            "Mean of difference of counts of neagtive words amng winners and losers is for t1 0.0404 and for t2 is 0.0072, difference: 0.0332.\n",
            "Mean of difference of counts of first_person_singular words amng winners and losers is for t1 0.0126 and for t2 is 0.0161, difference: -0.0035.\n",
            "Mean of difference of counts of first_person_plural words amng winners and losers is for t1 -0.0142 and for t2 is -0.0099, difference: -0.0043.\n",
            "Mean of difference of counts of second_person words amng winners and losers is for t1 0.0191 and for t2 is -0.0013, difference: 0.0203.\n",
            "Mean of difference of counts of third_person_singular words amng winners and losers is for t1 0.0309 and for t2 is 0.0405, difference: -0.0096.\n",
            "Mean of difference of counts of third_person_plural words amng winners and losers is for t1 0.0104 and for t2 is 0.0002, difference: 0.0102.\n"
          ]
        }
      ],
      "source": [
        "print(\"Lets start with mean values of differences for the two time periods\")\n",
        "\n",
        "c_pos_t1, c_pos_t2 = (df_t1[\"positive1\"]-df_t1[\"positive2\"]).mean(), (df_t2[\"positive1\"]-df_t2[\"positive2\"]).mean()\n",
        "print(f\"Mean of difference of counts of positive words amng winners and losers is for t1 {c_pos_t1:.4f} and for t2 is {c_pos_t2:.4f}, difference: {c_pos_t1-c_pos_t2:.4f}.\")\n",
        "c_neg_t1, c_neg_t2 = (df_t1[\"negative1\"]-df_t1[\"negative2\"]).mean(), (df_t2[\"negative1\"]-df_t2[\"negative2\"]).mean()\n",
        "print(f\"Mean of difference of counts of neagtive words amng winners and losers is for t1 {c_neg_t1:.4f} and for t2 is {c_neg_t2:.4f}, difference: {c_neg_t1-c_neg_t2:.4f}.\")\n",
        "\n",
        "\n",
        "for pronoun in list(feature_wordsets.keys()):   \n",
        "    c_pro_t1, c_pro_t2 = (df_t1[pronoun+\"1\"]-df_t1[pronoun+\"2\"]).mean(), (df_t2[pronoun+\"1\"]-df_t2[pronoun+\"2\"]).mean()\n",
        "    print(f\"Mean of difference of counts of {pronoun} words amng winners and losers is for t1 {c_pro_t1:.4f} and for t2 is {c_pro_t2:.4f}, difference: {c_pro_t1-c_pro_t2:.4f}.\")\n"
      ]
    },
    {
      "cell_type": "markdown",
      "id": "6kkAQhcXQhHZ",
      "metadata": {
        "id": "6kkAQhcXQhHZ"
      },
      "source": [
        "Here we can see the greatest change in the cases of negative words (0.0332) and second_person words (0.0203) – in both cases in the decreasing direction.\n",
        "\n",
        "Let's support previous observation with further testing."
      ]
    },
    {
      "cell_type": "code",
      "execution_count": 109,
      "id": "e5ecef8d",
      "metadata": {
        "colab": {
          "base_uri": "https://localhost:8080/"
        },
        "id": "e5ecef8d",
        "outputId": "623bc503-e2ac-4dd1-e1d8-b73f1e1dcc3c"
      },
      "outputs": [
        {
          "name": "stdout",
          "output_type": "stream",
          "text": [
            "For diference of positive words count means from periods t1 and t2 is the p-value is 0.5554\n",
            "For diference of negative words count means from periods t1 and t2 is the p-value is 0.0006\n",
            "For diference of first_person_singular words count means from periods t1 and t2 is the p-value is 0.5960\n",
            "For diference of first_person_plural words count means from periods t1 and t2 is the p-value is 0.5010\n",
            "For diference of second_person words count means from periods t1 and t2 is the p-value is 0.0195\n",
            "For diference of third_person_singular words count means from periods t1 and t2 is the p-value is 0.2825\n",
            "For diference of third_person_plural words count means from periods t1 and t2 is the p-value is 0.1399\n"
          ]
        }
      ],
      "source": [
        "_, p_pos = ttest_ind(df_t1[\"positive1\"]-df_t1[\"positive2\"], df_t2[\"positive1\"]-df_t2[\"positive2\"])\n",
        "print(f\"For diference of positive words count means from periods t1 and t2 is the p-value is {p_pos:.4f}\")\n",
        "_, p_neg = ttest_ind(df_t1[\"negative1\"]-df_t1[\"negative2\"], df_t2[\"negative1\"]-df_t2[\"negative2\"])\n",
        "print(f\"For diference of negative words count means from periods t1 and t2 is the p-value is {p_neg:.4f}\")\n",
        "\n",
        "for pronoun in list(feature_wordsets.keys()):   \n",
        "    _, p_pro = ttest_ind(df_t1[pronoun+\"1\"]-df_t1[pronoun+\"2\"], df_t2[pronoun+\"1\"]-df_t2[pronoun+\"2\"])\n",
        "    print(f\"For diference of {pronoun} words count means from periods t1 and t2 is the p-value is {p_pro:.4f}\")"
      ]
    },
    {
      "cell_type": "markdown",
      "id": "-0dt1djiRFPv",
      "metadata": {
        "id": "-0dt1djiRFPv"
      },
      "source": [
        "Here we can see similar results as in previous part – p-value is smaller than 0.05 only for negative words and second person pronouns. Let's confirm the observation with the 'greater' alternative hypothesis."
      ]
    },
    {
      "cell_type": "code",
      "execution_count": 110,
      "id": "kBUFs67_REvB",
      "metadata": {
        "colab": {
          "base_uri": "https://localhost:8080/"
        },
        "id": "kBUFs67_REvB",
        "outputId": "48371b5b-7ae3-4669-8e07-7f36b74f8341"
      },
      "outputs": [
        {
          "name": "stdout",
          "output_type": "stream",
          "text": [
            "For diference of negative words count means from periods t1 and t2 and the 'greater' alternative hyp. is the p-value is 0.0003\n",
            "For diference of second_person words count means from periods t1 and t2 and the 'greater' alternative hyp. is the p-value is 0.0098\n"
          ]
        }
      ],
      "source": [
        "_, p_neg = ttest_ind(df_t1[\"negative1\"]-df_t1[\"negative2\"], df_t2[\"negative1\"]-df_t2[\"negative2\"],  alternative=\"greater\")\n",
        "print(f\"For diference of negative words count means from periods t1 and t2 and the 'greater' alternative hyp. is the p-value is {p_neg:.4f}\")\n",
        "\n",
        "_, p_pro = ttest_ind(df_t1[\"second_person1\"]-df_t1[\"second_person2\"], df_t2[\"second_person1\"]-df_t2[\"second_person2\"], alternative=\"greater\")\n",
        "print(f\"For diference of second_person words count means from periods t1 and t2 and the 'greater' alternative hyp. is the p-value is {p_pro:.4f}\")"
      ]
    },
    {
      "cell_type": "markdown",
      "id": "d9c9073a",
      "metadata": {
        "id": "d9c9073a"
      },
      "source": [
        "## 4.6\n",
        "We can clearly see that the only case where p-value is below significance level $\\alpha = 0.05$ is for negative_words and second_person pronouns, which means, that the value of mean of differences in usage have demonstrably changed. We have further shown that it has decreased – the null hypothesis with 'greater' alternative hypothesis was rejected in both cases (i.e., means were greater in first period)."
      ]
    },
    {
      "cell_type": "markdown",
      "id": "b66cf57b",
      "metadata": {
        "id": "b66cf57b"
      },
      "source": [
        "## 4.7"
      ]
    },
    {
      "cell_type": "code",
      "execution_count": 111,
      "id": "ad56a6b2",
      "metadata": {
        "id": "ad56a6b2"
      },
      "outputs": [],
      "source": [
        "# create nuew dfs for positive and negative words\n",
        "df_positive = df_with_count.copy().query('positive1>0 and positive2>0')\n",
        "df_negative = df_with_count.copy().query('negative1>0 and negative2>0')\n",
        "df_both = df_with_count.copy().query('negative1>0 and negative2>0 and positive1>0 and positive2>0') # just for better view of the data\n"
      ]
    },
    {
      "cell_type": "markdown",
      "id": "c78a5a4e",
      "metadata": {
        "id": "c78a5a4e"
      },
      "source": [
        "## 4.8\n"
      ]
    },
    {
      "cell_type": "code",
      "execution_count": 112,
      "id": "_owIHtJ569_m",
      "metadata": {
        "colab": {
          "base_uri": "https://localhost:8080/"
        },
        "id": "_owIHtJ569_m",
        "outputId": "405e84cb-b2d1-4a6c-d904-e2f3a1ad1b80"
      },
      "outputs": [
        {
          "name": "stdout",
          "output_type": "stream",
          "text": [
            "Positive sentiment samples 3460, negative sentiment samples 3192, samples with both sentiments 564\n",
            "Number of positive sentiment A/B tests with winners containing first_person singular (and loser not) 287, and the other way round 233\n",
            "Number of negative sentiment A/B tests with winners containing first_person singular (and loser not) 212, and the other way round 198\n"
          ]
        }
      ],
      "source": [
        "print(f\"Positive sentiment samples {df_positive.shape[0]}, negative sentiment samples {df_negative.shape[0]}, samples with both sentiments {df_both.shape[0]}\")\n",
        "\n",
        "# positive sentiment dfs\n",
        "df_positive_wwp = df_positive.query('first_person_singular1 > 0 and first_person_singular2 == 0') # only winner contains the pronoun \n",
        "df_positive_lwp = df_positive.query('first_person_singular1 == 0 and first_person_singular2 > 0') # only loser contains the pronoun\n",
        "print(f\"Number of positive sentiment A/B tests with winners containing first_person singular (and loser not) {df_positive_wwp.shape[0]}, and the other way round {df_positive_lwp.shape[0]}\")\n",
        "# negative sentiment dfs\n",
        "df_negative_wwp = df_negative.query('first_person_singular1 > 0 and first_person_singular2 == 0') # only winner contains the pronoun \n",
        "df_negative_lwp = df_negative.query('first_person_singular1 == 0 and first_person_singular2 > 0') # only loser contains the pronoun\n",
        "print(f\"Number of negative sentiment A/B tests with winners containing first_person singular (and loser not) {df_negative_wwp.shape[0]}, and the other way round {df_negative_lwp.shape[0]}\")"
      ]
    },
    {
      "cell_type": "markdown",
      "id": "3am7qp6n8ekw",
      "metadata": {
        "id": "3am7qp6n8ekw"
      },
      "source": [
        "We have filtered only the options, where only one of the headlines uses the examined effector: first_person_singular. We can now see for both sentiments, that the first_person_singular usage was more prevalent for winner headlines."
      ]
    },
    {
      "cell_type": "code",
      "execution_count": 113,
      "id": "5IhSoYU0-peu",
      "metadata": {
        "id": "5IhSoYU0-peu"
      },
      "outputs": [],
      "source": [
        "def bootstrap_means(data, n_samples=1000):\n",
        "    data = np.array(data)\n",
        "    means = np.zeros(n_samples)\n",
        "    for i in range(n_samples):\n",
        "        sample = np.random.choice(data, size=len(data), replace=True)\n",
        "        means[i] = (sample.mean())\n",
        "    return means"
      ]
    },
    {
      "cell_type": "markdown",
      "id": "3MxWfz17TmEP",
      "metadata": {
        "id": "3MxWfz17TmEP"
      },
      "source": [
        "Let's start with an exploration for positive sentiment."
      ]
    },
    {
      "cell_type": "code",
      "execution_count": 114,
      "id": "4ccaa044",
      "metadata": {
        "colab": {
          "base_uri": "https://localhost:8080/"
        },
        "id": "4ccaa044",
        "outputId": "f02c8689-a598-433b-858c-8a4c5b3c26d2"
      },
      "outputs": [
        {
          "name": "stdout",
          "output_type": "stream",
          "text": [
            "Difference of means of differences of clickthroughs -5.047894004875332e-05\n",
            "P-value 0.8856380861303706 for statistical independence test of two arrays of ctr differences.\n",
            "But this is only one value, lets bootstrap.\n",
            "Mean of differences of bootstrapped means -5.462010416922143e-05, with CI [-0.00073116  0.00064095]\n"
          ]
        }
      ],
      "source": [
        "# as it is not exactly specified, what is the effect lets assume that the measured effect are ctrs\n",
        "pos_wwp_difs = df_positive_wwp['ctr1'] - df_positive_wwp['ctr2'] # difference of clickthroughs between winner and loser headline\n",
        "pos_lwp_difs = df_positive_lwp['ctr1'] - df_positive_lwp['ctr2']\n",
        "\n",
        "print(f\"Difference of means of differences of clickthroughs {pos_wwp_difs.mean() - pos_lwp_difs.mean()}\")\n",
        "\n",
        "_, p_val = ttest_ind(pos_wwp_difs, pos_lwp_difs)\n",
        "print(f\"P-value {p_val} for statistical independence test of two arrays of ctr differences.\")\n",
        "print(f\"But this is only one value, lets bootstrap.\")\n",
        "\n",
        "wwp_bst_means = bootstrap_means(pos_wwp_difs.values) # bootstrap differences and compute means for each sample\n",
        "lwp_bst_means = bootstrap_means(pos_lwp_difs.values)\n",
        "\n",
        "confidence = 0.95\n",
        "ci = np.nanpercentile(wwp_bst_means-lwp_bst_means,[100*(1-confidence)/2, 100*(1-(1-confidence)/2)])\n",
        "print(f\"Mean of differences of bootstrapped means {(wwp_bst_means - lwp_bst_means).mean()}, with CI {ci}\")\n"
      ]
    },
    {
      "cell_type": "code",
      "execution_count": 115,
      "id": "G8rOey2iU5BO",
      "metadata": {
        "colab": {
          "base_uri": "https://localhost:8080/"
        },
        "id": "G8rOey2iU5BO",
        "outputId": "37a896a4-d814-411d-e1a1-bb93a1fcf7a0"
      },
      "outputs": [
        {
          "name": "stdout",
          "output_type": "stream",
          "text": [
            "Difference of means of differences of clickthroughs 0.0009355464789403438\n",
            "P-value 0.013750150534791611 for statistical independence test of two arrays of ctr differences.\n",
            "But this is only one value, lets bootstrap.\n",
            "Mean of differences of bootstrapped means 0.0009319007141700018, with CI [0.00023185 0.0016481 ]\n",
            "As the difference is positive with positive CI bounds, lets run also statistical independent test with 'greater' alternative hypothese.\n",
            "P-value 0.006875075267395806 for statistical independence test of two arrays of ctr differences.\n"
          ]
        }
      ],
      "source": [
        "# as it is not exactly specified, what is the effect lets assume that the measured effect are ctrs\n",
        "neg_wwp_difs = df_negative_wwp['ctr1'] - df_negative_wwp['ctr2'] #difference of clickthroughs between winner and loser headline\n",
        "neg_lwp_difs = df_negative_lwp['ctr1'] - df_negative_lwp['ctr2']\n",
        "\n",
        "print(f\"Difference of means of differences of clickthroughs {neg_wwp_difs.mean() - neg_lwp_difs.mean()}\")\n",
        "\n",
        "_, p_val = ttest_ind(neg_wwp_difs, neg_lwp_difs) \n",
        "print(f\"P-value {p_val} for statistical independence test of two arrays of ctr differences.\")\n",
        "print(f\"But this is only one value, lets bootstrap.\")\n",
        "\n",
        "wwp_bst_means = bootstrap_means(neg_wwp_difs.values) # bootstrap differences and compute means for each sample\n",
        "lwp_bst_means = bootstrap_means(neg_lwp_difs.values)\n",
        "\n",
        "confidence = 0.95\n",
        "ci = np.nanpercentile(wwp_bst_means-lwp_bst_means,[100*(1-confidence)/2, 100*(1-(1-confidence)/2)])\n",
        "print(f\"Mean of differences of bootstrapped means {(wwp_bst_means - lwp_bst_means).mean()}, with CI {ci}\")\n",
        "\n",
        "print(f\"As the difference is positive with positive CI bounds, lets run also statistical independent test with 'greater' alternative hypothese.\")\n",
        "_, p_val = ttest_ind(neg_wwp_difs, neg_lwp_difs, alternative='greater') # run test on bootstrapped means\n",
        "print(f\"P-value {p_val} for statistical independence test of two arrays of ctr differences.\")"
      ]
    },
    {
      "cell_type": "markdown",
      "id": "tZ-pwmcbYlz6",
      "metadata": {
        "id": "tZ-pwmcbYlz6"
      },
      "source": [
        "Here we can conclude that use of the first_person_singular pronouns does not make any significant change in headlines with positive sentiment, as the difference of ctr winner-loser differences is very small and the confidence bounds are positive and negative, which conclusion is supported also by statistical test.\n",
        "\n",
        "On the other hand, in the case of negative sentiment the usage of first_person_singular does make a significant difference. The means and the confidence bounds speak in the favor of using these pronouns in combination with the negative sentiment of headline (in terms of clickthrough rate)."
      ]
    },
    {
      "cell_type": "markdown",
      "id": "a1dfe782",
      "metadata": {
        "id": "a1dfe782"
      },
      "source": [
        "## 4.9\n",
        "\n",
        "Significant trends we found during the analysis of Upworthy packages are outlined below. The first trend was found in headline length - longer headlines generally achieve higher click-through rates (ctr) [3.1]. Another important observation is that negative-sentiment words lead to higher ctrs as well [3.8], and when combined with first-person pronouns, negative words yield even more significant results [4.8]. However, in the case of positive words, we did not find any considerable preference either for positive sentiment alone [3.8] or in combination with first first-person pronouns [4.8].\n",
        "On the other hand, in the case of other pronouns, we could infer from the bootstrapped confidence bounds and means that people preferably read headlines containing first-person singular and third_person_singular and avoid reading first_person_plural [3.8]. "
      ]
    }
  ],
  "metadata": {
    "colab": {
      "collapsed_sections": [
        "IBrG2xlSk2cH",
        "8c251505",
        "0692c8d8",
        "6250ff3d",
        "2ee7835d",
        "1932225d",
        "423e6fd0",
        "a8a887b3",
        "e0426933",
        "dae2d2fc",
        "8d548b4f",
        "f1878610",
        "bc455c0d",
        "a16f89f1",
        "460332e6",
        "2ce8e465",
        "428231e0",
        "838365af",
        "303c0b4c",
        "fdf7369b",
        "573f0076",
        "d9c9073a",
        "a1dfe782"
      ],
      "provenance": []
    },
    "kernelspec": {
      "display_name": "Python 3.9.13 ('ada')",
      "language": "python",
      "name": "python3"
    },
    "language_info": {
      "codemirror_mode": {
        "name": "ipython",
        "version": 3
      },
      "file_extension": ".py",
      "mimetype": "text/x-python",
      "name": "python",
      "nbconvert_exporter": "python",
      "pygments_lexer": "ipython3",
      "version": "3.9.13"
    },
    "vscode": {
      "interpreter": {
        "hash": "6b32c9e5cab4528ac43eb7e6f756309b506408383eb007dcb0b92c0be27f7615"
      }
    }
  },
  "nbformat": 4,
  "nbformat_minor": 5
}
