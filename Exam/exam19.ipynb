{
 "cells": [
  {
   "cell_type": "markdown",
   "metadata": {},
   "source": [
    "# ADA final exam (winter semester 2019/2020)"
   ]
  },
  {
   "cell_type": "markdown",
   "metadata": {},
   "source": [
    "A friend of yours wants to start a YouTube channel and ideally earn some money via ads. However, there are so many channels and videos out there that your friend has no idea where to even start. Fortunately, they know that you have taken ADA and think you might help them out by analyzing the videos that are currently on YouTube."
   ]
  },
  {
   "cell_type": "markdown",
   "metadata": {},
   "source": [
    "The data you are provided with is a subset of YouTube videos, with videos from some of the giant channels in two categories: \"Gaming\" and \"How-to & Style\", which are the categories your friend is choosing between. The dataset contains a lot of videos, with data on those videos including their titles, their total number of views in 2019, their tags and descriptions, etc. The data is, in gzip-compressed format, contained in the `data/` folder, as the file `youtube.csv.gz`."
   ]
  },
  {
   "cell_type": "markdown",
   "metadata": {},
   "source": [
    "The three tasks A, B and C are **independent** of each other, and you can solve any combination of them. The exam is designed for more than 3 hours, so don't worry if you don't manage to solve everything; you can still score a 6."
   ]
  },
  {
   "cell_type": "markdown",
   "metadata": {},
   "source": [
    "You need to run the following two cells to read and prepare the dataset."
   ]
  },
  {
   "cell_type": "code",
   "execution_count": 1,
   "metadata": {},
   "outputs": [],
   "source": [
    "import pandas as pd\n",
    "import numpy as np"
   ]
  },
  {
   "cell_type": "code",
   "execution_count": 2,
   "metadata": {},
   "outputs": [],
   "source": [
    "youtube = pd.read_csv('data/youtube.csv.gz', compression='gzip')\n",
    "youtube.upload_date = pd.to_datetime(youtube.upload_date)"
   ]
  },
  {
   "cell_type": "markdown",
   "metadata": {},
   "source": [
    "## Dataset description"
   ]
  },
  {
   "cell_type": "markdown",
   "metadata": {},
   "source": [
    "Each row of the dataset corresponds to one video that was uploaded to YouTube. There are 11 columns:\n",
    "'channel', 'upload_date', 'title', 'categories', 'tags', 'duration',\n",
    "       'view_count', 'average_rating', 'height', 'width', 'channel_cat'.\n",
    "- `channel`: The channel (account) on which the video was uploaded.\n",
    "- `upload_date`: The date on which the video was uploaded (Pandas Timestamp object).\n",
    "- `title`: The title of the video.\n",
    "- `tags`: A list of words that describe the video.\n",
    "- `duration`: The duration of the video in seconds.\n",
    "- `view_count`: The number of times the video was watched.\n",
    "- `average_rating`: The average score with which the viewers rated the video (1-5).\n",
    "- `height`: The height of the video in pixels.\n",
    "- `width`: The width of the video in pixels.\n",
    "- `channel_cat`: The category of the channel on which this video was uploaded. This dataset only contains videos from channels from the 'Gaming' and the 'Howto & Style' category."
   ]
  },
  {
   "cell_type": "markdown",
   "metadata": {},
   "source": [
    "# Task A: Welcome to the exam!"
   ]
  },
  {
   "cell_type": "markdown",
   "metadata": {},
   "source": [
    "All of Task A refers to the videos that were published between and including 2010 and 2018."
   ]
  },
  {
   "cell_type": "markdown",
   "metadata": {},
   "source": [
    "## A1: A growing platform?"
   ]
  },
  {
   "cell_type": "markdown",
   "metadata": {},
   "source": [
    "You would first like to know whether YouTube in general is the right platform to invest time into."
   ]
  },
  {
   "cell_type": "markdown",
   "metadata": {},
   "source": [
    "1. Using the appropriate plot type, plot the number of videos published per year between and including 2010 and 2018."
   ]
  },
  {
   "cell_type": "code",
   "execution_count": 7,
   "metadata": {},
   "outputs": [
    {
     "data": {
      "text/plain": [
       "array([[<AxesSubplot:title={'center':'year'}>]], dtype=object)"
      ]
     },
     "execution_count": 7,
     "metadata": {},
     "output_type": "execute_result"
    },
    {
     "data": {
      "image/png": "[encoded data removed]",
      "text/plain": [
       "<Figure size 640x480 with 1 Axes>"
      ]
     },
     "metadata": {},
     "output_type": "display_data"
    }
   ],
   "source": [
    "youtube['year'] = youtube.upload_date.dt.year\n",
    "youtube.query('year>2009 and year<2019').hist('year', bins=9)"
   ]
  },
  {
   "cell_type": "markdown",
   "metadata": {},
   "source": [
    "2. Now for each year, plot the number of channels that have been created between the beginning of 2010 and the end of that year. A channel is considered to be created at the time at which they upload their first video."
   ]
  },
  {
   "cell_type": "code",
   "execution_count": 1,
   "metadata": {},
   "outputs": [
    {
     "ename": "NameError",
     "evalue": "name 'youtube' is not defined",
     "output_type": "error",
     "traceback": [
      "\u001b[0;31m---------------------------------------------------------------------------\u001b[0m",
      "\u001b[0;31mNameError\u001b[0m                                 Traceback (most recent call last)",
      "\u001b[1;32m/home/ondin/Dokumenty/EPFL/ADA/Exam/exam19.ipynb Buňka 17\u001b[0m in \u001b[0;36m<cell line: 1>\u001b[0;34m()\u001b[0m\n\u001b[0;32m----> <a href='vscode-notebook-cell:/home/ondin/Dokumenty/EPFL/ADA/Exam/exam19.ipynb#X22sZmlsZQ%3D%3D?line=0'>1</a>\u001b[0m channel_creations\u001b[39m=\u001b[39m youtube\u001b[39m.\u001b[39mgroupby(\u001b[39m'\u001b[39m\u001b[39mchannel\u001b[39m\u001b[39m'\u001b[39m)[[\u001b[39m'\u001b[39m\u001b[39myear\u001b[39m\u001b[39m'\u001b[39m]]\u001b[39m.\u001b[39mmin()\n",
      "\u001b[0;31mNameError\u001b[0m: name 'youtube' is not defined"
     ]
    }
   ],
   "source": [
    "channel_creations= youtube.groupby('channel')[['year']].min()"
   ]
  },
  {
   "cell_type": "code",
   "execution_count": 21,
   "metadata": {},
   "outputs": [
    {
     "name": "stdout",
     "output_type": "stream",
     "text": [
      "5-Minute Crafts <class 'pandas.core.frame.DataFrame'>\n",
      "5-Minute Crafts GIRLY <class 'pandas.core.frame.DataFrame'>\n",
      "5-Minute Crafts PLAY <class 'pandas.core.frame.DataFrame'>\n",
      "ATHLEAN-X™ <class 'pandas.core.frame.DataFrame'>\n",
      "Ali-A <class 'pandas.core.frame.DataFrame'>\n",
      "Anaysa <class 'pandas.core.frame.DataFrame'>\n",
      "Antonio Garza <class 'pandas.core.frame.DataFrame'>\n",
      "Aphmau <class 'pandas.core.frame.DataFrame'>\n",
      "Aspyn Ovard <class 'pandas.core.frame.DataFrame'>\n",
      "Azerrz <class 'pandas.core.frame.DataFrame'>\n",
      "BCC Trolling <class 'pandas.core.frame.DataFrame'>\n",
      "BRICO SYMPA <class 'pandas.core.frame.DataFrame'>\n",
      "BRIGHT SIDE <class 'pandas.core.frame.DataFrame'>\n",
      "Bajan Canadian <class 'pandas.core.frame.DataFrame'>\n",
      "Blossom <class 'pandas.core.frame.DataFrame'>\n",
      "Bodybuilding.com <class 'pandas.core.frame.DataFrame'>\n",
      "Bon Appétit <class 'pandas.core.frame.DataFrame'>\n",
      "Braille Skateboarding <class 'pandas.core.frame.DataFrame'>\n",
      "Call of Duty <class 'pandas.core.frame.DataFrame'>\n",
      "CaptainSparklez <class 'pandas.core.frame.DataFrame'>\n",
      "Carli Bybel <class 'pandas.core.frame.DataFrame'>\n",
      "Ceeday <class 'pandas.core.frame.DataFrame'>\n",
      "Chris Smoove <class 'pandas.core.frame.DataFrame'>\n",
      "Christen Dominique <class 'pandas.core.frame.DataFrame'>\n",
      "Clash Royale <class 'pandas.core.frame.DataFrame'>\n",
      "Clash of Clans <class 'pandas.core.frame.DataFrame'>\n",
      "Coffi Channel <class 'pandas.core.frame.DataFrame'>\n",
      "CoryxKenshin <class 'pandas.core.frame.DataFrame'>\n",
      "Crafty Panda <class 'pandas.core.frame.DataFrame'>\n",
      "Creative Channel <class 'pandas.core.frame.DataFrame'>\n",
      "Daequan Loco <class 'pandas.core.frame.DataFrame'>\n",
      "Daithi De Nogla <class 'pandas.core.frame.DataFrame'>\n",
      "DanTDM <class 'pandas.core.frame.DataFrame'>\n",
      "DashieGames <class 'pandas.core.frame.DataFrame'>\n",
      "DaveHax <class 'pandas.core.frame.DataFrame'>\n",
      "DeGoBooM <class 'pandas.core.frame.DataFrame'>\n",
      "Denis <class 'pandas.core.frame.DataFrame'>\n",
      "Desi Perkins <class 'pandas.core.frame.DataFrame'>\n",
      "Dynamo Gaming <class 'pandas.core.frame.DataFrame'>\n",
      "El Guzii <class 'pandas.core.frame.DataFrame'>\n",
      "ExplodingTNT <class 'pandas.core.frame.DataFrame'>\n",
      "FGTeeV <class 'pandas.core.frame.DataFrame'>\n",
      "FROST <class 'pandas.core.frame.DataFrame'>\n",
      "FaZe Apex <class 'pandas.core.frame.DataFrame'>\n",
      "FaZe Clan <class 'pandas.core.frame.DataFrame'>\n",
      "FaZe Rain <class 'pandas.core.frame.DataFrame'>\n",
      "Fe4RLess <class 'pandas.core.frame.DataFrame'>\n",
      "First We Feast <class 'pandas.core.frame.DataFrame'>\n",
      "FitnessBlender <class 'pandas.core.frame.DataFrame'>\n",
      "Fitz <class 'pandas.core.frame.DataFrame'>\n",
      "Fortnite <class 'pandas.core.frame.DataFrame'>\n",
      "Frost Diamond <class 'pandas.core.frame.DataFrame'>\n",
      "Gabbie Hanna <class 'pandas.core.frame.DataFrame'>\n",
      "GameGrumps <class 'pandas.core.frame.DataFrame'>\n",
      "GamingWithJen <class 'pandas.core.frame.DataFrame'>\n",
      "GamingWithKev <class 'pandas.core.frame.DataFrame'>\n",
      "Grandpa Kitchen <class 'pandas.core.frame.DataFrame'>\n",
      "H2ODelirious <class 'pandas.core.frame.DataFrame'>\n",
      "Health Tips for You <class 'pandas.core.frame.DataFrame'>\n",
      "Homemade solutions <class 'pandas.core.frame.DataFrame'>\n",
      "Hong Giang DIY Slime <class 'pandas.core.frame.DataFrame'>\n",
      "How To Cake It <class 'pandas.core.frame.DataFrame'>\n",
      "HowToBasic <class 'pandas.core.frame.DataFrame'>\n",
      "Howcast <class 'pandas.core.frame.DataFrame'>\n",
      "Huda Beauty <class 'pandas.core.frame.DataFrame'>\n",
      "I AM WILDCAT <class 'pandas.core.frame.DataFrame'>\n",
      "IGN <class 'pandas.core.frame.DataFrame'>\n",
      "Indian Health <class 'pandas.core.frame.DataFrame'>\n",
      "Ingrid Nilsen <class 'pandas.core.frame.DataFrame'>\n",
      "InquisitorMaster <class 'pandas.core.frame.DataFrame'>\n",
      "ItsFunneh <class 'pandas.core.frame.DataFrame'>\n",
      "Izabela Stress <class 'pandas.core.frame.DataFrame'>\n",
      "Jaclyn Hill <class 'pandas.core.frame.DataFrame'>\n",
      "Jazza <class 'pandas.core.frame.DataFrame'>\n",
      "Jelly <class 'pandas.core.frame.DataFrame'>\n",
      "JeromeASF <class 'pandas.core.frame.DataFrame'>\n",
      "JerryRigEverything <class 'pandas.core.frame.DataFrame'>\n",
      "Jess No Limit <class 'pandas.core.frame.DataFrame'>\n",
      "JonTronShow <class 'pandas.core.frame.DataFrame'>\n",
      "JunsKitchen <class 'pandas.core.frame.DataFrame'>\n",
      "KSIOlajidebtHD KSIOlajidebtHD <class 'pandas.core.frame.DataFrame'>\n",
      "Kabita's Kitchen <class 'pandas.core.frame.DataFrame'>\n",
      "Kandee Johnson <class 'pandas.core.frame.DataFrame'>\n",
      "Karina Garcia <class 'pandas.core.frame.DataFrame'>\n",
      "KathleenLights <class 'pandas.core.frame.DataFrame'>\n",
      "Krazyrayray <class 'pandas.core.frame.DataFrame'>\n",
      "LDShadowLady <class 'pandas.core.frame.DataFrame'>\n",
      "LOLiTO FDEZ <class 'pandas.core.frame.DataFrame'>\n",
      "Lachlan <class 'pandas.core.frame.DataFrame'>\n",
      "LaurDIY <class 'pandas.core.frame.DataFrame'>\n",
      "Laura Lee <class 'pandas.core.frame.DataFrame'>\n",
      "Laura in the Kitchen <class 'pandas.core.frame.DataFrame'>\n",
      "Lauren Curtis <class 'pandas.core.frame.DataFrame'>\n",
      "LazarBeam <class 'pandas.core.frame.DataFrame'>\n",
      "League of Legends <class 'pandas.core.frame.DataFrame'>\n",
      "LispyJimmy <class 'pandas.core.frame.DataFrame'>\n",
      "Lui Calibre <class 'pandas.core.frame.DataFrame'>\n",
      "Manny Mua <class 'pandas.core.frame.DataFrame'>\n",
      "Markiplier <class 'pandas.core.frame.DataFrame'>\n",
      "Marshmello <class 'pandas.core.frame.DataFrame'>\n",
      "MayBaby <class 'pandas.core.frame.DataFrame'>\n",
      "MeLlamanFredy <class 'pandas.core.frame.DataFrame'>\n",
      "MessYourself <class 'pandas.core.frame.DataFrame'>\n",
      "MiawAug <class 'pandas.core.frame.DataFrame'>\n",
      "Michelle Phan <class 'pandas.core.frame.DataFrame'>\n",
      "Mini Ladd <class 'pandas.core.frame.DataFrame'>\n",
      "Miniminter <class 'pandas.core.frame.DataFrame'>\n",
      "MoreAliA <class 'pandas.core.frame.DataFrame'>\n",
      "Mr. Kate <class 'pandas.core.frame.DataFrame'>\n",
      "Mumbo Jumbo <class 'pandas.core.frame.DataFrame'>\n",
      "Muselk <class 'pandas.core.frame.DataFrame'>\n",
      "MyLifeAsEva <class 'pandas.core.frame.DataFrame'>\n",
      "Natalies Outlet <class 'pandas.core.frame.DataFrame'>\n",
      "Niki and Gabi <class 'pandas.core.frame.DataFrame'>\n",
      "NikkieTutorials <class 'pandas.core.frame.DataFrame'>\n",
      "Ninja <class 'pandas.core.frame.DataFrame'>\n",
      "Nintendo <class 'pandas.core.frame.DataFrame'>\n",
      "NishaMadhulika <class 'pandas.core.frame.DataFrame'>\n",
      "POPSUGAR Fitness <class 'pandas.core.frame.DataFrame'>\n",
      "PatrickStarrr <class 'pandas.core.frame.DataFrame'>\n",
      "PewDiePie <class 'pandas.core.frame.DataFrame'>\n",
      "Pipe Cleaner Crafts B <class 'pandas.core.frame.DataFrame'>\n",
      "PlayStation <class 'pandas.core.frame.DataFrame'>\n",
      "Pooja Luthra <class 'pandas.core.frame.DataFrame'>\n",
      "PopularMMOs <class 'pandas.core.frame.DataFrame'>\n",
      "Prestige Clips <class 'pandas.core.frame.DataFrame'>\n",
      "RobTopGames <class 'pandas.core.frame.DataFrame'>\n",
      "Rockstar Games <class 'pandas.core.frame.DataFrame'>\n",
      "Rosanna Pansino <class 'pandas.core.frame.DataFrame'>\n",
      "Roxxsaurus <class 'pandas.core.frame.DataFrame'>\n",
      "SHORT TIME SECRET <class 'pandas.core.frame.DataFrame'>\n",
      "SSundee <class 'pandas.core.frame.DataFrame'>\n",
      "Sadhguru <class 'pandas.core.frame.DataFrame'>\n",
      "Sanjeev Kapoor Khazana <class 'pandas.core.frame.DataFrame'>\n",
      "SaraBeautyCorner - DIY, Comedy, Makeup, Nail Art <class 'pandas.core.frame.DataFrame'>\n",
      "Satisfying Slime Videos <class 'pandas.core.frame.DataFrame'>\n",
      "SeaNanners Gaming Channel <class 'pandas.core.frame.DataFrame'>\n",
      "Sernandoe <class 'pandas.core.frame.DataFrame'>\n",
      "Shay Mitchell <class 'pandas.core.frame.DataFrame'>\n",
      "Shroud <class 'pandas.core.frame.DataFrame'>\n",
      "Shruti Arjun Anand <class 'pandas.core.frame.DataFrame'>\n",
      "SixPackAbs.com <class 'pandas.core.frame.DataFrame'>\n",
      "Sky Does Everything <class 'pandas.core.frame.DataFrame'>\n",
      "Smosh Games <class 'pandas.core.frame.DataFrame'>\n",
      "So Yummy <class 'pandas.core.frame.DataFrame'>\n",
      "TBNRFrags <class 'pandas.core.frame.DataFrame'>\n",
      "Talking Tom <class 'pandas.core.frame.DataFrame'>\n",
      "Tanya Burr <class 'pandas.core.frame.DataFrame'>\n",
      "Tasty <class 'pandas.core.frame.DataFrame'>\n",
      "Teachingmensfashion <class 'pandas.core.frame.DataFrame'>\n",
      "TeamYouTube [Help] <class 'pandas.core.frame.DataFrame'>\n",
      "Tfue <class 'pandas.core.frame.DataFrame'>\n",
      "The Game Theorists <class 'pandas.core.frame.DataFrame'>\n",
      "The Icing Artist <class 'pandas.core.frame.DataFrame'>\n",
      "TheAtlanticCraft <class 'pandas.core.frame.DataFrame'>\n",
      "TheGrefg <class 'pandas.core.frame.DataFrame'>\n",
      "TheSyndicateProject <class 'pandas.core.frame.DataFrame'>\n",
      "Thinknoodles <class 'pandas.core.frame.DataFrame'>\n",
      "ThreadBanger <class 'pandas.core.frame.DataFrame'>\n",
      "Tipsy Bartender <class 'pandas.core.frame.DataFrame'>\n",
      "TobyGames <class 'pandas.core.frame.DataFrame'>\n",
      "Tom Slime <class 'pandas.core.frame.DataFrame'>\n",
      "TsMadaan <class 'pandas.core.frame.DataFrame'>\n",
      "Typical Gamer <class 'pandas.core.frame.DataFrame'>\n",
      "UnspeakableGaming <class 'pandas.core.frame.DataFrame'>\n",
      "VanossGaming <class 'pandas.core.frame.DataFrame'>\n",
      "Vete a la Versh <class 'pandas.core.frame.DataFrame'>\n",
      "Vikkstar123 <class 'pandas.core.frame.DataFrame'>\n",
      "Vogue <class 'pandas.core.frame.DataFrame'>\n",
      "Vy Qwaint <class 'pandas.core.frame.DataFrame'>\n",
      "Wayne Goss <class 'pandas.core.frame.DataFrame'>\n",
      "Wengie <class 'pandas.core.frame.DataFrame'>\n",
      "XpertThief <class 'pandas.core.frame.DataFrame'>\n",
      "Xyz Gyan <class 'pandas.core.frame.DataFrame'>\n",
      "YOGSCAST Lewis & Simon <class 'pandas.core.frame.DataFrame'>\n",
      "Yoga With Adriene <class 'pandas.core.frame.DataFrame'>\n",
      "YourHealth <class 'pandas.core.frame.DataFrame'>\n",
      "Zoella <class 'pandas.core.frame.DataFrame'>\n",
      "aLexBY11 <class 'pandas.core.frame.DataFrame'>\n",
      "alpha m. <class 'pandas.core.frame.DataFrame'>\n",
      "blogilates <class 'pandas.core.frame.DataFrame'>\n",
      "bysTaXx <class 'pandas.core.frame.DataFrame'>\n",
      "cutepolish <class 'pandas.core.frame.DataFrame'>\n",
      "dope2111 <class 'pandas.core.frame.DataFrame'>\n",
      "gameranx <class 'pandas.core.frame.DataFrame'>\n",
      "grav3yardgirl <class 'pandas.core.frame.DataFrame'>\n",
      "iHasCupquake <class 'pandas.core.frame.DataFrame'>\n",
      "jacksepticeye <class 'pandas.core.frame.DataFrame'>\n",
      "jaipurthepinkcity <class 'pandas.core.frame.DataFrame'>\n",
      "jeffreestar <class 'pandas.core.frame.DataFrame'>\n",
      "speedyw03 <class 'pandas.core.frame.DataFrame'>\n",
      "stampylonghead <class 'pandas.core.frame.DataFrame'>\n",
      "theRadBrad <class 'pandas.core.frame.DataFrame'>\n",
      "videogamedunkey <class 'pandas.core.frame.DataFrame'>\n",
      "windy31 <class 'pandas.core.frame.DataFrame'>\n"
     ]
    }
   ],
   "source": [
    "for group, frame in youtube.groupby('channel'):\n",
    "    print(group, type(frame))"
   ]
  },
  {
   "cell_type": "markdown",
   "metadata": {},
   "source": [
    "3. Normalize the number of videos published each year by the number of channels that have been created between the beginning of 2010 and the end of that year, and plot these quantities. Do seperate plots for gaming channels, how-to channels, and both together. Can you conclude from the plot that both gaming and how-to channels have been becoming less and less active recently? Why, or why not?"
   ]
  },
  {
   "cell_type": "code",
   "execution_count": null,
   "metadata": {},
   "outputs": [],
   "source": []
  },
  {
   "cell_type": "markdown",
   "metadata": {},
   "source": [
    "## A2: The one thing we all love: cash money"
   ]
  },
  {
   "cell_type": "markdown",
   "metadata": {},
   "source": [
    "Your friend is really keen on making money from their YouTube channel through ads and wants you to help them choose the most profitable channel category (Gaming or Howto & Style). The ad profit is directly proportional to the number of views of a video."
   ]
  },
  {
   "cell_type": "markdown",
   "metadata": {},
   "source": [
    "1. Since your friend wants to keep producing videos for several years to come, it might also be worth looking at the growth of the two categories.\n",
    "  1. Compute the total number of views in each category per year for the years 2010-2018.\n",
    "  2. Divide the yearly view count by the number of channels that posted a video in each category in each year. Plot these normalized counts.\n",
    "\n",
    "\n"
   ]
  },
  {
   "cell_type": "code",
   "execution_count": null,
   "metadata": {},
   "outputs": [],
   "source": []
  },
  {
   "cell_type": "markdown",
   "metadata": {},
   "source": [
    "2. Your friend's channel will be brand new, so you decide to look more closely at newer channels. For this question and all the following questions in A2, only consider channels that uploaded their first video in  2016 or later. Compute the total number of views in each category and divide it by the number of channels in that category.\n"
   ]
  },
  {
   "cell_type": "code",
   "execution_count": null,
   "metadata": {},
   "outputs": [],
   "source": []
  },
  {
   "cell_type": "markdown",
   "metadata": {},
   "source": [
    "3. The number of views might be very unevenly over the different channels, and channels might upload different numbers of videos.\n",
    "  1. Compute the mean number of views per video for each channel.\n",
    "  2. Compute the mean of these means for each of the two categories. Print these values.\n",
    "  3. Using bootstrapping, compute 95% confidence intervals for these two means. From this analysis, can you draw a recommendation for one of the two categories? Why, or why not?"
   ]
  },
  {
   "cell_type": "code",
   "execution_count": null,
   "metadata": {},
   "outputs": [],
   "source": []
  },
  {
   "cell_type": "markdown",
   "metadata": {},
   "source": [
    "# Task B: View forecasting (Machine Learning)"
   ]
  },
  {
   "cell_type": "markdown",
   "metadata": {},
   "source": [
    "Your friend wants to figure out how they can optimize their videos for getting the maximum number of views (without using shocking thumbnails and clickbait titles). In this task, you will build a machine learning (ML) model for predicting the success of a video."
   ]
  },
  {
   "cell_type": "markdown",
   "metadata": {},
   "source": [
    "## B1: Get those shovels out again"
   ]
  },
  {
   "cell_type": "markdown",
   "metadata": {},
   "source": [
    "1. For the prediction model, use all rows of the dataset, but keep only the following columns: `view_count, channel, upload_date, duration, average_rating, height, width`."
   ]
  },
  {
   "cell_type": "code",
   "execution_count": null,
   "metadata": {},
   "outputs": [],
   "source": []
  },
  {
   "cell_type": "markdown",
   "metadata": {},
   "source": [
    "2. Extract the upload year and upload month from the `upload_date` column into the two columns `upload_year` and `upload_month`, and remove `upload_date`."
   ]
  },
  {
   "cell_type": "code",
   "execution_count": null,
   "metadata": {},
   "outputs": [],
   "source": []
  },
  {
   "cell_type": "markdown",
   "metadata": {},
   "source": [
    "3. The entry in the channel column for a video indicates on which channel the video was uploaded. Encode this column via one-hot encoding."
   ]
  },
  {
   "cell_type": "code",
   "execution_count": null,
   "metadata": {},
   "outputs": [],
   "source": []
  },
  {
   "cell_type": "markdown",
   "metadata": {},
   "source": [
    "4. Split the data into a train (70%) and a test set (30%) with the appropriate function from sklearn, using 42 as the random seed."
   ]
  },
  {
   "cell_type": "code",
   "execution_count": null,
   "metadata": {},
   "outputs": [],
   "source": []
  },
  {
   "cell_type": "markdown",
   "metadata": {},
   "source": [
    "## B2: Who is the most viewed of them all?"
   ]
  },
  {
   "cell_type": "markdown",
   "metadata": {},
   "source": [
    "1. Train a ridge regression model (i.e., an L2-regularized linear regression model) on the train set that predicts the view count from the other features. Find and use the optimal regularization parameter $\\alpha$ from the set {0.001, 0.01, 0.1} via 3-fold cross validation."
   ]
  },
  {
   "cell_type": "code",
   "execution_count": null,
   "metadata": {},
   "outputs": [],
   "source": []
  },
  {
   "cell_type": "markdown",
   "metadata": {},
   "source": [
    "2. Report the mean absolute error that the model makes on the test set."
   ]
  },
  {
   "cell_type": "code",
   "execution_count": null,
   "metadata": {},
   "outputs": [],
   "source": []
  },
  {
   "cell_type": "markdown",
   "metadata": {},
   "source": [
    "## B3: Checking our ambitions"
   ]
  },
  {
   "cell_type": "markdown",
   "metadata": {},
   "source": [
    "To improve performance, you want to make the task of the ML model easier and turn it into a classification task. Now it only has to predict whether a video has a high view count (defined as being larger than the median of the view counts in the training set) or a low view count (defined as being smaller or equal to the median of the view counts in the training set)."
   ]
  },
  {
   "cell_type": "markdown",
   "metadata": {},
   "source": [
    "1. Train a logistic regression model for this classification task. Find and use the optimal regularization parameter C (as defined in scikit-learn's documentation) from the set {1, 10, 100} via 3-fold cross validation. Use the random seed 42. _Hint_: If you get a warning about the training algorithm failing to converge, increase the maximum number of training iterations."
   ]
  },
  {
   "cell_type": "code",
   "execution_count": null,
   "metadata": {},
   "outputs": [],
   "source": []
  },
  {
   "cell_type": "markdown",
   "metadata": {},
   "source": [
    "2. Compute the accuracy of the logistic regression model on the test set."
   ]
  },
  {
   "cell_type": "code",
   "execution_count": null,
   "metadata": {},
   "outputs": [],
   "source": []
  },
  {
   "cell_type": "markdown",
   "metadata": {},
   "source": [
    "## B4: ...something's not right."
   ]
  },
  {
   "cell_type": "markdown",
   "metadata": {},
   "source": [
    "You are satisfied with the model performance. In fact, you are a bit surprised at how good the model is given the relatively little amount of information about the videos. So you take a closer look at the features and realize that the (one-hot-encoded) channel feature does not make sense for the application that your friend has in mind."
   ]
  },
  {
   "cell_type": "markdown",
   "metadata": {},
   "source": [
    "1. Why does the channel feature not make sense?"
   ]
  },
  {
   "cell_type": "code",
   "execution_count": null,
   "metadata": {},
   "outputs": [],
   "source": []
  },
  {
   "cell_type": "markdown",
   "metadata": {},
   "source": [
    "2. Train another logistic regression model with all the features from B3 except the one-hot-encoded channel. Use again 42 as the seed for the train test split and perform the same hyperparameter optimization as in B3. How does the model performance change?"
   ]
  },
  {
   "cell_type": "code",
   "execution_count": null,
   "metadata": {},
   "outputs": [],
   "source": []
  },
  {
   "cell_type": "markdown",
   "metadata": {},
   "source": [
    "## B5: \"We kinda forgot about categories.\""
   ]
  },
  {
   "cell_type": "markdown",
   "metadata": {},
   "source": [
    "On second thought, there is actually one feature that you may use about the channel. Namely, the channel category. The reason this one makes sense might also help you answer B4.1."
   ]
  },
  {
   "cell_type": "markdown",
   "metadata": {},
   "source": [
    "1. Train and evaluate another logistic regression model (in the same way as in B4 regarding train/test split and hyperparameter) that additionally includes the one-hot-encoded channel category."
   ]
  },
  {
   "cell_type": "code",
   "execution_count": null,
   "metadata": {},
   "outputs": [],
   "source": []
  },
  {
   "cell_type": "markdown",
   "metadata": {},
   "source": [
    "2. The dynamics of the two categories might differ a lot, and the two communities might value different properties of a video differently. For instance, for one community, a long duration might be more important, for the other one, a large picture width. Thus, having only a single weight for, e.g., the duration of a video, might not give the best results. Is there something smarter that you can do than simply including the category as a single one-hot-encoded feature to improve the classification performance? Implement your idea and compare the accuracy on the test set with that of the first model (from task B5.1)."
   ]
  },
  {
   "cell_type": "code",
   "execution_count": null,
   "metadata": {},
   "outputs": [],
   "source": []
  },
  {
   "cell_type": "markdown",
   "metadata": {},
   "source": [
    "# Task C: A map of the channels (Graphs)"
   ]
  },
  {
   "cell_type": "markdown",
   "metadata": {},
   "source": [
    "Your friend wants to map out the channels and represent their similarities. For this purpose, we have created two undirected and unweighted graphs for you, where in each graph, each channel has a node and similar channels have edges connecting them. In one graph, the similarity between two channels is based on how similar their video descriptions are, while in the other, the similarity is based on how similar their video tags are. We will call the former $G_{text}$ and the latter $G_{tags}$. You will be analyzing the two graphs loaded by running the cell below."
   ]
  },
  {
   "cell_type": "code",
   "execution_count": null,
   "metadata": {},
   "outputs": [],
   "source": [
    "from networkx import from_numpy_array\n",
    "import json\n",
    "g_text_adj = np.loadtxt(open('data/g_text_adj.csv', 'r'), delimiter=',', skiprows=0)\n",
    "g_tags_adj = np.loadtxt(open('data/g_tags_adj.csv', 'r'), delimiter=',', skiprows=0)\n",
    "channel_to_index = json.load(open('data/channel_indices.json', 'r'))\n",
    "g_text = from_numpy_array(g_text_adj)\n",
    "g_tags = from_numpy_array(g_tags_adj)"
   ]
  },
  {
   "cell_type": "markdown",
   "metadata": {},
   "source": [
    "## C1: Does YouTube have a content diversity problem?"
   ]
  },
  {
   "cell_type": "markdown",
   "metadata": {},
   "source": [
    "1. For each graph, calculate its diameter (i.e., the largest shortest-path length, where the maximization is done over all node pairs). What difference do you see? _Hint_: Don't worry if you get an error, just read the error message carefully."
   ]
  },
  {
   "cell_type": "code",
   "execution_count": null,
   "metadata": {},
   "outputs": [],
   "source": []
  },
  {
   "cell_type": "markdown",
   "metadata": {},
   "source": [
    "2. What does the diameter of $G_{text}$ say about the diversity of the channels’ contents? How about the diameter of $G_{tags}$?"
   ]
  },
  {
   "cell_type": "code",
   "execution_count": null,
   "metadata": {},
   "outputs": [],
   "source": []
  },
  {
   "cell_type": "markdown",
   "metadata": {},
   "source": [
    "3. Based on what you have calculated, which one has greater diversity: descriptions used by channels, or tags used by channels? Justify your answer."
   ]
  },
  {
   "cell_type": "code",
   "execution_count": null,
   "metadata": {},
   "outputs": [],
   "source": []
  },
  {
   "cell_type": "markdown",
   "metadata": {},
   "source": [
    "4. Imagine that you want to **compare** content diversity between two sets of channels (i.e., you want to see which set of channels has more diverse content), and you have calculated a tag-based graph for each set. Do you think the diameter is a good measure for doing the comparison? Justify your answer."
   ]
  },
  {
   "cell_type": "code",
   "execution_count": null,
   "metadata": {},
   "outputs": [],
   "source": []
  },
  {
   "cell_type": "markdown",
   "metadata": {},
   "source": [
    "5. Back to our own two graphs. Based on $G_{text}$, for each category of channels, which channel is the one most representative of the contents of all channels in that category? In other words, for each category, if you needed to provide a summary of all channels in the category via one channel, which channel would you choose? Show us (us being the exam designers and your friend) the descriptions of this channel’s two most-viewed videos. What metric did you use for this purpose? Explain your choice."
   ]
  },
  {
   "cell_type": "code",
   "execution_count": null,
   "metadata": {},
   "outputs": [],
   "source": []
  },
  {
   "cell_type": "markdown",
   "metadata": {},
   "source": [
    "## C2: Going back to categories again"
   ]
  },
  {
   "cell_type": "markdown",
   "metadata": {},
   "source": [
    "1. We want to use the two graphs to cluster channels from the same category together, and we want to compare their effectiveness at doing so. Use Kernighan-Lin bisection in the networkx package (`networkx.algorithms.community.kernighan_lin_bisection`) to divide each graph into two communities. Use 42 as the random seed. For each graph, show how many members of each category fall into each of the two communities."
   ]
  },
  {
   "cell_type": "code",
   "execution_count": null,
   "metadata": {},
   "outputs": [],
   "source": []
  },
  {
   "cell_type": "markdown",
   "metadata": {},
   "source": [
    "2. If one of these graphs were ideal for this clustering task, what would the resulting communities look like? If it were the absolute worst possible graph for the task, what would the resulting communities look like?"
   ]
  },
  {
   "cell_type": "code",
   "execution_count": null,
   "metadata": {},
   "outputs": [],
   "source": []
  },
  {
   "cell_type": "markdown",
   "metadata": {},
   "source": [
    "3. Calculate the probability $P(community|category)$ for each community and category within each graph. Design a metric, using the four $P(community|category)$ values in a graph, whose value would be 1 for the ideal graph and 0 for the worst graph. Calculate this metric for both graphs and compare the two. What do the results say about how representative tags and descriptions are regarding the channel categories? Are tags better suited, or descriptions?"
   ]
  },
  {
   "cell_type": "code",
   "execution_count": null,
   "metadata": {},
   "outputs": [],
   "source": []
  },
  {
   "cell_type": "markdown",
   "metadata": {},
   "source": [
    "4. The Kernighan-Lin bisection you used above performs a min-edge cut: It attempts to partition the nodes of the graph into two sets of almost-equal size by deleting as few edges as possible. It starts off by creating a random partition of the nodes of the graph into two sets A and B that are almost equal in size, and then iteratively and in a greedy fashion moves nodes between A and B to reduce the number of edges between A and B. Show at least one toy example of a graph where the initialization could also be the final result. (Hint: Think of how, as we explained, the bisection algorithm relies on a minimum edge cut with a random initialization; under what circumstances could the original A and B be the best partition given that graph?)"
   ]
  },
  {
   "cell_type": "code",
   "execution_count": null,
   "metadata": {},
   "outputs": [],
   "source": []
  }
 ],
 "metadata": {
  "kernelspec": {
   "display_name": "ada",
   "language": "python",
   "name": "python3"
  },
  "language_info": {
   "codemirror_mode": {
    "name": "ipython",
    "version": 3
   },
   "file_extension": ".py",
   "mimetype": "text/x-python",
   "name": "python",
   "nbconvert_exporter": "python",
   "pygments_lexer": "ipython3",
   "version": "3.9.13"
  },
  "vscode": {
   "interpreter": {
    "hash": "6b32c9e5cab4528ac43eb7e6f756309b506408383eb007dcb0b92c0be27f7615"
   }
  }
 },
 "nbformat": 4,
 "nbformat_minor": 4
}
