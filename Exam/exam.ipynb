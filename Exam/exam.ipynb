{
 "cells": [
  {
   "cell_type": "markdown",
   "id": "09e9a536",
   "metadata": {},
   "source": [
    "## ADA final exam (Fall 2022)\n",
    "\n",
    "This exam consists of 3 tasks. Tasks 2 and 3 are independent of each other (although conceptually related).\n"
   ]
  },
  {
   "cell_type": "markdown",
   "id": "68507ec4",
   "metadata": {},
   "source": [
    "## Dataset\n",
    "\n",
    "For a Wikipedia editor to become an administrator, a so-called “request for adminship” ([RfA](https://en.wikipedia.org/wiki/Wikipedia:Requests_for_adminship)) must be submitted by either the candidate or another community member. Subsequently, any Wikipedia member may cast a supporting or opposing vote. Here we provide a simplified version of the Wikipedia RfA dataset, containing all votes from 2003 through 2012.\n",
    "\n",
    "###  Data format\n",
    "\n",
    "|        |   SRC |   TGT |   VOT |   RES |   YEA | DAT                 | TXT                                                                                                                                                                                               |\n",
    "|-------:|------:|------:|------:|------:|------:|:--------------------|:--------------------------------------------------------------------------------------------------------------------------------------------------------------------------------------------------|\n",
    "|  39054 |  3444 | 10170 |     1 |     1 |  2009 | 2009-07-01 17:50:00 | '''Support''' - Best of luck. &nbsp;                                                                                                                                                              |\n",
    "| 159680 |   722 |  9634 |    -1 |    -1 |  2006 | 2006-12-15 07:28:00 | '''Oppose''' Not even 2000 edits.                                                                                                                                                                 |\n",
    "| 173438 |  4194 |  5524 |     1 |     1 |  2005 | 2005-03-18 19:22:00 | Ohhh, you're Carrp!  In that case, '''Support'''.                                                                                                                                                 |\n",
    "|  60627 |  4855 |  9436 |     1 |     1 |  2008 | 2008-12-18 23:26:00 | '''Support''' via thoughtful answer to my question that demonstrates this editor has clue.                                                 |\n",
    "| 194809 |  7687 |   908 |     1 |     1 |  2004 | 2004-09-25 05:21:00 | Nicholas is very good in English. Also, he got '''exceptional''' patience to explain petty obvious facts in talk page to convince ignorants. Let the world be benefitted more out of his work. -- |\n",
    "\n",
    "\n",
    "- SRC: the user name of the source of the vote, i.e., of the user who cast the vote.\n",
    "- TGT: the user name of the target of the vote, i.e., of the user running for election.\n",
    "- VOT: the source's vote on the target (-1 = oppose; 1 = support).\n",
    "- RES: the outcome of the election (-1 = target was rejected as admin; 1 = target was accepted). **(We will not use this  column in this exam.)**\n",
    "- YEA: the year of the RfA.\n",
    "- DAT: the date and time of this vote. **(We will not use this column in this exam.)**\n",
    "- TXT: the comment written by the source. **(We will not use this column in this exam.)**\n",
    "\n",
    "---\n"
   ]
  },
  {
   "cell_type": "markdown",
   "id": "4a4a661c",
   "metadata": {},
   "source": [
    "## Structural balance theory\n",
    "\n",
    "**Structural balance theory** affirms that social networks tend to be organized so as to avoid conflictual situations, e.g., if a great friend of yours hates someone, you will likely not befriend that person.\n",
    "\n",
    "The theory can be operationalized by looking at _triangles_ in an undirected _signed graph_ capturing person-to-person relationships, where a _signed graph_ is a  graph in which each edge is associated with a positive or negative sign, and a _triangle_ is a set of three edges ($\\langle u,v \\rangle$, $\\langle v,w\\rangle$, $\\langle u,w\\rangle$) that fully connect three distinct nodes ($u, v, w$).\n",
    "\n",
    "\n",
    "\n",
    "_Triangles_ in an undirected signed graph can be in 4 _configurations_:\n",
    "all positive edges ($\\{+,+,+\\}$); \n",
    "all negative edges ($\\{-,-,-\\}$); \n",
    "two positive edges and one negative edge ($\\{+,+,-\\}$);\n",
    "one positive edge and two negative edges ($\\{+,-,-\\}$).\n",
    "\n",
    "Structural balance theory posits that social networks tend to favor triangle configurations with an even number of negative signs (i.e., $\\{+,+,+\\}$ and $\\{+,-,-\\}$), which can be understood as being “balanced” by avoiding conflictual situations. Intuitively, $\\{+,+,+\\}$ could be tagged as “The friend of my friend is my friend”, and $\\{+,-,-\\}$ as “The enemy of my enemy is my friend”, “The friend of my enemy is my enemy”, or “The enemy of my friend is my enemy”. On the contrary, triangle configurations with an odd number of negative signs (i.e., $\\{+,+,-\\}$ and $\\{-,-,-\\}$) are unstable (“unbalanced”) according to structural balance theory and will thus occur less frequently in social networks. For instance, me being friends with two mutual enemies ($\\{+,+,-\\}$) would lead to tension that could be resolved if the two enemies became friends or if I took sides and ended my friendship with one of the two. Similarly, two among three mutual enemies ($\\{-,-,-\\}$) would have the incentive to form an alliance to “gang up” against the third.\n",
    "\n",
    "Some social scientists have argued that three mutual enemies ($\\{-,-,-\\}$) is not necessarily a triangle configuration that social networks tend to avoid. This gives rise to **weak structural balance theory**, which only posits that social networks tend to avoid the “unbalanced” triangle configuration $\\{+,+,-\\}$.\n",
    "\n",
    "In a nutshell,\n",
    "- structural balance theory\n",
    "  - considers $\\{+,+,+\\}$, $\\{+,-,-\\}$ as balanced,\n",
    "  - and $\\{+,+,-\\}$, $\\{-,-,-\\}$ as unbalanced;\n",
    "- weak structural balance theory\n",
    "  - considers $\\{+,+,+\\}$, $\\{+,-,-\\}$, $\\{-,-,-\\}$ as balanced,\n",
    "  - and $\\{+,+,-\\}$ as unbalanced.\n",
    "\n"
   ]
  },
  {
   "cell_type": "code",
   "execution_count": 234,
   "id": "b21a8b45",
   "metadata": {},
   "outputs": [],
   "source": [
    "import pandas as pd\n",
    "import matplotlib.pyplot as plt\n",
    "import numpy as np\n",
    "from tqdm import tqdm"
   ]
  },
  {
   "cell_type": "markdown",
   "id": "d5f337c9",
   "metadata": {},
   "source": [
    "### Task 1: Preliminaries\n",
    "\n",
    "As a good data scientist, you first load the data and explore it.\n",
    "\n",
    "**1.1**\n",
    "Load the csv file `wiki-RfA.csv.gz` in a pandas dataframe. Calculate the number of distinct RfAs and the average number of votes per RfA.\n",
    "- **Hint:** Throughout this question, assume that each RfA is uniquely determined by the column `TGT` and each vote is uniquely determined by the combination of `SRC` and `TGT`."
   ]
  },
  {
   "cell_type": "code",
   "execution_count": 58,
   "id": "26e00678",
   "metadata": {},
   "outputs": [],
   "source": [
    "rfa = pd.read_csv('wiki-RfA.csv')"
   ]
  },
  {
   "cell_type": "code",
   "execution_count": 59,
   "id": "ff2e92a5",
   "metadata": {},
   "outputs": [
    {
     "name": "stdout",
     "output_type": "stream",
     "text": [
      "3439 48.561500436173304\n"
     ]
    }
   ],
   "source": [
    "# 1.1\n",
    "\n",
    "RfAs = rfa['TGT'].unique().shape[0]\n",
    "avgVotes = rfa.groupby('TGT').count()['SRC'].mean()\n",
    "print(RfAs, avgVotes)"
   ]
  },
  {
   "cell_type": "markdown",
   "id": "813b5a32",
   "metadata": {},
   "source": [
    "**1.2** \n",
    "In a single figure with three subfigures (one per item), show the following time series:\n",
    "- the number of RfAs per year;\n",
    "- the overall fraction of positive votes per year; and \n",
    "- the average number of votes per RfA per year.\n",
    "\n",
    "For each of the above three quantities, print the value for the year 2008."
   ]
  },
  {
   "cell_type": "code",
   "execution_count": 50,
   "id": "b1732d7e",
   "metadata": {},
   "outputs": [],
   "source": [
    "# 1.2 \n",
    "\n",
    "RfAsPY = rfa.groupby(['YEA', 'TGT']).count().reset_index().groupby('YEA').count()[['TGT']]\n",
    "RfAVPY = rfa.groupby(['YEA']).count()[['VOT']]\n",
    "RfAPVPY = rfa.query('VOT == 1').groupby('YEA').count()[['VOT']]\n",
    "RfAPf = RfAPVPY/RfAVPY"
   ]
  },
  {
   "cell_type": "code",
   "execution_count": 68,
   "id": "b32510f7",
   "metadata": {},
   "outputs": [
    {
     "data": {
      "text/plain": [
       "<AxesSubplot: xlabel='YEA'>"
      ]
     },
     "execution_count": 68,
     "metadata": {},
     "output_type": "execute_result"
    },
    {
     "data": {
      "image/png": "[encoded data removed]",
      "text/plain": [
       "<Figure size 1200x400 with 3 Axes>"
      ]
     },
     "metadata": {},
     "output_type": "display_data"
    }
   ],
   "source": [
    "fig, axs = plt.subplots(1,3, figsize=(12, 4))\n",
    "RfAsPY.plot(ax=axs[0])\n",
    "RfAVPY.plot(ax=axs[1])\n",
    "RfAPf.plot(ax=axs[2])\n"
   ]
  },
  {
   "cell_type": "markdown",
   "id": "366d38d9",
   "metadata": {},
   "source": [
    "**1.3** \n",
    "**/Discuss:/** Describe the temporal patterns observed in the plots you did in **T1.2**."
   ]
  },
  {
   "attachments": {},
   "cell_type": "markdown",
   "id": "e77900f8",
   "metadata": {},
   "source": [
    "**A1.3** \n",
    "We can see, that number of RfAs is decreasing since its peak at 2007, the same with number of votes. The overall trend of positive portion of votes is ever decreasing."
   ]
  },
  {
   "cell_type": "markdown",
   "id": "81126c89",
   "metadata": {},
   "source": [
    "**1.4** \n",
    "Create an undirected graph ([`nx.Graph`](https://networkx.org/documentation/stable/reference/classes/graph.html)) where every node corresponds to a Wikipedia user (source or target of an RfA) and where there exists an edge between two users if at least one of them has voted on the other. Each edge should have attributes corresponding to columns of the dataframe, namely:\n",
    "- `VOT`, which equals `1` if the vote was positive, and `-1` otherwise.\n",
    "- `YEA`, an integer that represents the year of the RfA.\n",
    "\n",
    "**The code to load the graph has been provided to you!** After running it, print the number of nodes and edges in your graph.\n",
    "\n",
    "---\n",
    "\n",
    "**Observation:** Note that we have at most one edge per pair of nodes in the graph, even though two votes may be associated with the pair  — e.g., if A voted in B's RfA in time $t_1$ and B voted in A's RfA in time $t_2$ ($t_1 < t_2$). In these cases, the code provided associates the metadata of the oldest vote ($t_1$ in the example) to the edge between A and B."
   ]
  },
  {
   "cell_type": "code",
   "execution_count": 22,
   "id": "e57d4776",
   "metadata": {},
   "outputs": [],
   "source": [
    "# Provided code! Do not change!\n",
    "import networkx as nx\n",
    "import pandas as pd\n",
    "G = nx.from_pandas_edgelist(pd.read_csv(\"./wiki-RfA.csv\"), \n",
    "                            'SRC', 'TGT', ['VOT', 'RES', 'YEA', 'DAT'], create_using=nx.Graph)"
   ]
  },
  {
   "cell_type": "code",
   "execution_count": 26,
   "id": "f21ec7a6",
   "metadata": {},
   "outputs": [
    {
     "data": {
      "text/plain": [
       "(10831, 161147)"
      ]
     },
     "execution_count": 26,
     "metadata": {},
     "output_type": "execute_result"
    }
   ],
   "source": [
    "# 1.4\n",
    "G.number_of_nodes(), G.number_of_edges()"
   ]
  },
  {
   "cell_type": "markdown",
   "id": "37cbd1b8",
   "metadata": {},
   "source": [
    "**1.5** \n",
    "Plot the **complementary** cumulative distribution of the degree centrality of the undirected graph. Use a logarithmic (base 10) x-axis and a linear y-axis."
   ]
  },
  {
   "cell_type": "code",
   "execution_count": 187,
   "id": "c1edfd6a",
   "metadata": {},
   "outputs": [
    {
     "data": {
      "image/png": "[encoded data removed]",
      "text/plain": [
       "<Figure size 640x480 with 1 Axes>"
      ]
     },
     "metadata": {},
     "output_type": "display_data"
    }
   ],
   "source": [
    "# 1.5\n",
    "\n",
    "dc = nx.degree_centrality(G) \n",
    "\n",
    "dcv = np.sort(list(dc.values())) * len(G.nodes) # as degree_centrality gives us fraction of \n",
    "                                                # nodes and we want absolute number to answer \n",
    "                                                # the question, I multiply it bu num of nodes\n",
    "\n",
    "N = len(dcv)\n",
    "y = 1- (np.arange(N) / float(N))\n",
    "\n",
    "plt.plot(dcv, y, marker='o')\n",
    "plt.xscale('log')\n",
    "\n"
   ]
  },
  {
   "cell_type": "markdown",
   "id": "935be3bf",
   "metadata": {},
   "source": [
    "\n",
    "**1.6**\n",
    "**/Discuss:/** Why is the following statement false? Justify your answer. **\"From the graph obtained in task 1.5, one can conclude that around 40% of the users voted at least 11 times.\"**\n"
   ]
  },
  {
   "attachments": {},
   "cell_type": "markdown",
   "id": "3316f395",
   "metadata": {},
   "source": [
    "**A1.6**\n",
    "It is not true, as it is more of like 30% - projection of CCD(11) to y-axis."
   ]
  },
  {
   "cell_type": "markdown",
   "id": "9d1d5f4a",
   "metadata": {},
   "source": [
    "**1.7**\n",
    "What fraction of users voted at least 11 times? Use the data to measure the fraction."
   ]
  },
  {
   "cell_type": "code",
   "execution_count": 89,
   "id": "a167a11b",
   "metadata": {},
   "outputs": [
    {
     "data": {
      "text/plain": [
       "0.27459977567043947"
      ]
     },
     "execution_count": 89,
     "metadata": {},
     "output_type": "execute_result"
    }
   ],
   "source": [
    "# 1.7\n",
    "\n",
    "voted = rfa.groupby(['SRC']).count()[['VOT']]\n",
    "(voted['VOT'] >= 11).sum()/rfa['SRC'].unique().shape[0]"
   ]
  },
  {
   "cell_type": "markdown",
   "id": "35b05b29",
   "metadata": {},
   "source": [
    "### Task 2: Triangles\n",
    "\n",
    "Next, you set out to investigate the social balance theory by looking at the RfA graph.\n",
    "\n",
    "**2.1**\n",
    "Considering _only_ the RfAs of 2004 (i.e., where `YEA == 2004`), generate all triangles in the undirected graph.\n",
    "Print the number of triangles found.\n",
    "- **Hint:** Note that you can generate a graph with only a subset of nodes and edges via ` G.edge_subgraph`.\n",
    "-  **Hint:** The function `nx.enumerate_all_cliques` generates all cliques in an undirected graph. First, all cliques of size 1 are generated, then all cliques of size 2, etc. Triangles are cliques of size 3.\n"
   ]
  },
  {
   "cell_type": "code",
   "execution_count": 156,
   "id": "c6e4d058",
   "metadata": {},
   "outputs": [],
   "source": [
    "rfa4 = pd.read_csv(\"./wiki-RfA.csv\").query('YEA == 2004')"
   ]
  },
  {
   "cell_type": "code",
   "execution_count": 121,
   "id": "672381b7",
   "metadata": {},
   "outputs": [],
   "source": [
    "G4 = nx.from_pandas_edgelist(rfa4, \n",
    "                            'SRC', 'TGT', ['VOT', 'RES', 'YEA', 'DAT'], create_using=nx.Graph)"
   ]
  },
  {
   "cell_type": "code",
   "execution_count": 122,
   "id": "b39a403e",
   "metadata": {},
   "outputs": [],
   "source": [
    "# 2.1\n",
    "\n",
    "triangles = []\n",
    "for c in nx.enumerate_all_cliques(G4):\n",
    "    if len(c) < 3:\n",
    "        continue\n",
    "    elif len(c) > 3:\n",
    "        break\n",
    "    triangles.append(c)\n",
    "\n"
   ]
  },
  {
   "cell_type": "code",
   "execution_count": 123,
   "id": "c96d06e7",
   "metadata": {},
   "outputs": [
    {
     "data": {
      "text/plain": [
       "8448"
      ]
     },
     "execution_count": 123,
     "metadata": {},
     "output_type": "execute_result"
    }
   ],
   "source": [
    "len(triangles)"
   ]
  },
  {
   "cell_type": "markdown",
   "id": "9b8ac389",
   "metadata": {},
   "source": [
    "**2.2 ** **/True or false:/** Is the following statement true or false? Justify your answer. **\"The node with the highest clustering coefficient in an undirected graph is the node that belongs to the largest number of triangles.\"**"
   ]
  },
  {
   "attachments": {},
   "cell_type": "markdown",
   "id": "f961eef7",
   "metadata": {},
   "source": [
    "**A2.2**\n",
    "Not largest in the whole graph, because clustering coeff gives us ratio of triangles_node_is_in/triangles_node_can_be_in, not absolute number. So if some node has clustering coefficient of 1, but hase only 2 nodes, it be part of less triangles than node which has 20 neighbors, but only 10 triangles, but still is part of more triangles.  "
   ]
  },
  {
   "cell_type": "markdown",
   "id": "e2f5b22c",
   "metadata": {},
   "source": [
    "**2.3** Considering the set of triangles previously calculated, estimate the fraction of triangles of configurations\n",
    " $\\{+,+,+\\}$,  $\\{-,-,-\\}$,  $\\{+,+,-\\}$, and $\\{+,-,-\\}$. What fraction of triangles are \"balanced\" according to structural balance theory?"
   ]
  },
  {
   "cell_type": "code",
   "execution_count": 112,
   "id": "f858e94c",
   "metadata": {},
   "outputs": [],
   "source": [
    "# 2.3\n",
    "trias = {3:0, -3:0, 1:0, -1:0}\n",
    "\n",
    "for triangle in triangles:\n",
    "    sg = G4.subgraph(triangle)\n",
    "    pos = 0\n",
    "    for edge in sg.edges(data=True):\n",
    "        pos += edge[2]['VOT']\n",
    "    trias[pos]+=1\n",
    "    "
   ]
  },
  {
   "cell_type": "code",
   "execution_count": 118,
   "id": "6abdff83",
   "metadata": {},
   "outputs": [
    {
     "name": "stdout",
     "output_type": "stream",
     "text": [
      "Fraction of config 3 is 0.79\n",
      "Fraction of config -3 is 0.01\n",
      "Fraction of config 1 is 0.14\n",
      "Fraction of config -1 is 0.06\n",
      "Fraction of balanced triangles is 0.86\n"
     ]
    }
   ],
   "source": [
    "# configs : 3 = +++ , -3 = --- , 1 = ++-, -1 = --+\n",
    "for config in [3, -3, 1, -1]:\n",
    "    print(f\"Fraction of config {config} is {trias[config]/len(triangles):.2f}\")\n",
    "\n",
    "print(f\"Fraction of balanced triangles is {(trias[3] + trias[-1])/len(triangles):.2f}\")"
   ]
  },
  {
   "cell_type": "markdown",
   "id": "97e6f9f0",
   "metadata": {},
   "source": [
    "**2.4** To observe how triangle configurations would be distributed under a random null model, do the following:\n",
    "- Create a new column `VOT_RND` in the dataframe, where RfA votes (i.e., edge signs in the graph) are shuffled, i.e., permuted randomly.  For shuffling, use `numpy.random`, without replacement and with the seed 32 (see code provided below).\n",
    "- Create a new edge attribute with the values of `VOT_RND` in the graph you created in task **1.4**. You can do this easily using the  [`set_edge_attributes`](https://networkx.org/documentation/stable/reference/generated/networkx.classes.function.set_edge_attributes.html) function.\n",
    "- Considering the shuffled edge signs,  compute the fraction of triangles in each configuration ($\\{+,+,+\\}$,  $\\{-,-,-\\}$,  $\\{+,+,-\\}$, $\\{+,-,-\\}$). Moreover, compute the fraction of triangles that are \"balanced\" according to structural balance theory. (Reminder: consider only the RfAs of 2004.)\n"
   ]
  },
  {
   "cell_type": "code",
   "execution_count": 179,
   "id": "8b4cba61",
   "metadata": {},
   "outputs": [],
   "source": [
    "np.random.seed(32)\n",
    "rfa4['VOT_RND'] = np.random.choice(rfa4[\"VOT\"].values, size=len(rfa4), replace=False).tolist()"
   ]
  },
  {
   "cell_type": "code",
   "execution_count": 166,
   "id": "177a37cf",
   "metadata": {},
   "outputs": [
    {
     "data": {
      "text/html": [
       "<div>\n",
       "<style scoped>\n",
       "    .dataframe tbody tr th:only-of-type {\n",
       "        vertical-align: middle;\n",
       "    }\n",
       "\n",
       "    .dataframe tbody tr th {\n",
       "        vertical-align: top;\n",
       "    }\n",
       "\n",
       "    .dataframe thead th {\n",
       "        text-align: right;\n",
       "    }\n",
       "</style>\n",
       "<table border=\"1\" class=\"dataframe\">\n",
       "  <thead>\n",
       "    <tr style=\"text-align: right;\">\n",
       "      <th></th>\n",
       "      <th>SRC</th>\n",
       "      <th>TGT</th>\n",
       "      <th>VOT</th>\n",
       "      <th>RES</th>\n",
       "      <th>YEA</th>\n",
       "      <th>DAT</th>\n",
       "      <th>TXT</th>\n",
       "      <th>VOT_RND</th>\n",
       "    </tr>\n",
       "  </thead>\n",
       "  <tbody>\n",
       "    <tr>\n",
       "      <th>156954</th>\n",
       "      <td>6578</td>\n",
       "      <td>4575</td>\n",
       "      <td>-1</td>\n",
       "      <td>-1</td>\n",
       "      <td>2004</td>\n",
       "      <td>2005-09-15 07:54:00</td>\n",
       "      <td>'''Oppose''' as above.  Too few WP space edits...</td>\n",
       "      <td>1</td>\n",
       "    </tr>\n",
       "    <tr>\n",
       "      <th>156961</th>\n",
       "      <td>636</td>\n",
       "      <td>4575</td>\n",
       "      <td>1</td>\n",
       "      <td>-1</td>\n",
       "      <td>2004</td>\n",
       "      <td>2005-09-15 04:04:00</td>\n",
       "      <td>'''Support'''.</td>\n",
       "      <td>1</td>\n",
       "    </tr>\n",
       "    <tr>\n",
       "      <th>156970</th>\n",
       "      <td>6413</td>\n",
       "      <td>4575</td>\n",
       "      <td>1</td>\n",
       "      <td>-1</td>\n",
       "      <td>2004</td>\n",
       "      <td>2005-09-15 01:08:00</td>\n",
       "      <td>'''Support''' due to the quality of his contri...</td>\n",
       "      <td>1</td>\n",
       "    </tr>\n",
       "    <tr>\n",
       "      <th>156981</th>\n",
       "      <td>1299</td>\n",
       "      <td>4575</td>\n",
       "      <td>-1</td>\n",
       "      <td>-1</td>\n",
       "      <td>2004</td>\n",
       "      <td>2005-09-14 19:32:00</td>\n",
       "      <td>'''Oppose''' as per [[User:Splash|Splash]], [[...</td>\n",
       "      <td>1</td>\n",
       "    </tr>\n",
       "    <tr>\n",
       "      <th>157001</th>\n",
       "      <td>2591</td>\n",
       "      <td>4575</td>\n",
       "      <td>1</td>\n",
       "      <td>-1</td>\n",
       "      <td>2004</td>\n",
       "      <td>2005-09-14 04:09:00</td>\n",
       "      <td>'''Support''' due to his high volume of qualit...</td>\n",
       "      <td>1</td>\n",
       "    </tr>\n",
       "  </tbody>\n",
       "</table>\n",
       "</div>"
      ],
      "text/plain": [
       "         SRC   TGT  VOT  RES   YEA                  DAT  \\\n",
       "156954  6578  4575   -1   -1  2004  2005-09-15 07:54:00   \n",
       "156961   636  4575    1   -1  2004  2005-09-15 04:04:00   \n",
       "156970  6413  4575    1   -1  2004  2005-09-15 01:08:00   \n",
       "156981  1299  4575   -1   -1  2004  2005-09-14 19:32:00   \n",
       "157001  2591  4575    1   -1  2004  2005-09-14 04:09:00   \n",
       "\n",
       "                                                      TXT  VOT_RND  \n",
       "156954  '''Oppose''' as above.  Too few WP space edits...        1  \n",
       "156961                                     '''Support'''.        1  \n",
       "156970  '''Support''' due to the quality of his contri...        1  \n",
       "156981  '''Oppose''' as per [[User:Splash|Splash]], [[...        1  \n",
       "157001  '''Support''' due to his high volume of qualit...        1  "
      ]
     },
     "execution_count": 166,
     "metadata": {},
     "output_type": "execute_result"
    }
   ],
   "source": [
    "rfa_2004.head()"
   ]
  },
  {
   "cell_type": "code",
   "execution_count": 180,
   "id": "49cf240b",
   "metadata": {},
   "outputs": [],
   "source": [
    "# 2.4\n",
    "G4R = nx.from_pandas_edgelist(rfa4, \n",
    "                            'SRC', 'TGT', ['VOT_RND', 'VOT', 'RES', 'YEA', 'DAT'], create_using=nx.Graph)"
   ]
  },
  {
   "cell_type": "code",
   "execution_count": 181,
   "id": "893ccbbb",
   "metadata": {},
   "outputs": [],
   "source": [
    "# 2.3\n",
    "trias = {3:0, -3:0, 1:0, -1:0}\n",
    "\n",
    "for triangle in triangles:\n",
    "    sg = G4R.subgraph(triangle)\n",
    "    pos = 0\n",
    "    for edge in sg.edges(data=True):\n",
    "        pos += edge[2]['VOT_RND']\n",
    "    trias[pos]+=1   "
   ]
  },
  {
   "cell_type": "code",
   "execution_count": 182,
   "id": "36cf9cad",
   "metadata": {},
   "outputs": [
    {
     "name": "stdout",
     "output_type": "stream",
     "text": [
      "Fraction of config 3 is 0.69\n",
      "Fraction of config -3 is 0.00\n",
      "Fraction of config 1 is 0.28\n",
      "Fraction of config -1 is 0.03\n",
      "Fraction of balanced triangles is 0.72\n"
     ]
    }
   ],
   "source": [
    "# configs : 3 = +++ , -3 = --- , 1 = ++-, -1 = --+\n",
    "for config in [3, -3, 1, -1]:\n",
    "    print(f\"Fraction of config {config} is {trias[config]/len(triangles):.2f}\")\n",
    "\n",
    "print(f\"Fraction of balanced triangles is {(trias[3] + trias[-1])/len(triangles):.2f}\")"
   ]
  },
  {
   "cell_type": "markdown",
   "id": "f055a145",
   "metadata": {},
   "source": [
    "**2.5** **/Discuss:/** Do the results of tasks **2.3** and **2.4** suggest that structural balance theory is correct? What kind of subsequent analysis would make you trust that the results are not obtained simply by chance? (No need to actually perform that subsequent analysis here.) Justify your answer."
   ]
  },
  {
   "attachments": {},
   "cell_type": "markdown",
   "id": "dcd070a6",
   "metadata": {},
   "source": [
    "**A2.5** Yes, the results suport the structural balance theory, as the fraction of balanced triangles is high = these are favored. To gain more trust in this statement, I would do some kind of bootstrapping - probably more iterations of the random shuffling which we did here. "
   ]
  },
  {
   "cell_type": "markdown",
   "id": "d5252ffb",
   "metadata": {},
   "source": [
    "### Interlude: Additional data\n",
    "\n",
    "In the data provided in the file `wiki-RfA.csv.gz` (with which you’ve worked up to now), each column corresponds to a vote from a user $u$ to a user $v$ at a time $t$. \n",
    "\n",
    "In **Task 2**, we did not consider the temporal aspect of this network. For the next task, you are provided with a complimentary dataset (`data/wiki-RfA_extra.csv.gz`) containing, for each vote (uniquely determined by `SRC` and `TGT`), a variety of features. **Importantly, these features were calculated considering only data that was already available at the time when the respective vote was cast.** The features are described as follows.\n",
    "\n",
    "- `PP`, `NN`, `PN` — Each vote (signed edge) is part of zero or more triangles, and we computed the number of triangles in which the two remaining edges were both positive (`PP`), both negative (`NN`) and of different signs (i.e., one positive and one negative, `PN`). This considers only the votes the target (denoted by `TGT`) has received before the current vote. \n",
    "\n",
    "- `P`, `N` — The number of positive (`P`) and negative (`N`) votes that the target `TGT` received before the current vote.\n",
    "\n",
    "- `TXT_PROCESSED` — The text in the original dataset, processed so 1) it is entirely lower-case, 2) it does not contain non-alphanumeric characters, and 3) it does not contain words starting with “supp” or “opp” (since words such as \"support\" and \"oppose\"  are obvious give-away signals of the vote).\n",
    "\n",
    "### Interlude: Predicting edge signs with structural balance theory\n",
    "\n",
    "We can use structural balance theory to predict edge signs. \n",
    "\n",
    "Consider an edge whose sign we do not know, as well as the fractions `PP`, `NN`, and `PN` associated with the edge, as defined above. \n",
    "\n",
    "According to structural balance theory, if `PP` + `NN` $\\geq$ `PN`, the vote is predicted to be positive, as this will create more balanced triangles in the graph. Otherwise, it is predicted to be negative. \n",
    "\n",
    "According to the weak structural balance theory, if `PP` $\\geq$ `PN`, the vote is predicted to be positive, as this will create more balanced triangles in the graph. Otherwise, it is predicted to be negative. \n",
    "\n",
    "Note that in both cases we use “$\\geq$” rather than “<”, i.e., when both sides of the equation are equal, we break ties in favor of positive edges. We do so because there are more positive edges in the graph."
   ]
  },
  {
   "cell_type": "markdown",
   "id": "e2f20eed",
   "metadata": {},
   "source": [
    "### Task 3: Predict it!\n",
    "\n",
    "In the final part of the exam, you will leverage your machine learning and regression skills.\n",
    "\n",
    "**3.1** Merge the new dataset with the original dataframe from task **1** using the columns `SRC` and `TGT`. You may drop the old `TXT` column if you want to. \n"
   ]
  },
  {
   "cell_type": "code",
   "execution_count": 188,
   "id": "a2272113",
   "metadata": {},
   "outputs": [],
   "source": [
    "# 3.1\n",
    "rfao = pd.read_csv('wiki-RfA.csv')\n",
    "rfan = pd.read_csv('wiki-RfA_extra.csv')"
   ]
  },
  {
   "cell_type": "code",
   "execution_count": 198,
   "id": "0d338e20",
   "metadata": {},
   "outputs": [],
   "source": [
    "rfam = rfao.merge(rfan, on=['SRC', 'TGT']).drop('TXT', axis=1)"
   ]
  },
  {
   "cell_type": "code",
   "execution_count": 217,
   "id": "094bef18",
   "metadata": {},
   "outputs": [
    {
     "data": {
      "text/html": [
       "<div>\n",
       "<style scoped>\n",
       "    .dataframe tbody tr th:only-of-type {\n",
       "        vertical-align: middle;\n",
       "    }\n",
       "\n",
       "    .dataframe tbody tr th {\n",
       "        vertical-align: top;\n",
       "    }\n",
       "\n",
       "    .dataframe thead th {\n",
       "        text-align: right;\n",
       "    }\n",
       "</style>\n",
       "<table border=\"1\" class=\"dataframe\">\n",
       "  <thead>\n",
       "    <tr style=\"text-align: right;\">\n",
       "      <th></th>\n",
       "      <th>SRC</th>\n",
       "      <th>TGT</th>\n",
       "      <th>VOT</th>\n",
       "      <th>RES</th>\n",
       "      <th>YEA_x</th>\n",
       "      <th>DAT</th>\n",
       "      <th>YEA_y</th>\n",
       "      <th>PP</th>\n",
       "      <th>NN</th>\n",
       "      <th>PN</th>\n",
       "      <th>N</th>\n",
       "      <th>P</th>\n",
       "      <th>TXT_PROCESSED</th>\n",
       "    </tr>\n",
       "  </thead>\n",
       "  <tbody>\n",
       "    <tr>\n",
       "      <th>155074</th>\n",
       "      <td>126</td>\n",
       "      <td>8132</td>\n",
       "      <td>1</td>\n",
       "      <td>1</td>\n",
       "      <td>2005</td>\n",
       "      <td>2005-10-09 13:24:00</td>\n",
       "      <td>2005</td>\n",
       "      <td>0</td>\n",
       "      <td>0</td>\n",
       "      <td>0</td>\n",
       "      <td>2</td>\n",
       "      <td>48</td>\n",
       "      <td>woohoo i m 50 he s always on irc and has seem...</td>\n",
       "    </tr>\n",
       "    <tr>\n",
       "      <th>135559</th>\n",
       "      <td>7190</td>\n",
       "      <td>9710</td>\n",
       "      <td>-1</td>\n",
       "      <td>-1</td>\n",
       "      <td>2006</td>\n",
       "      <td>2006-04-05 00:05:00</td>\n",
       "      <td>2006</td>\n",
       "      <td>0</td>\n",
       "      <td>0</td>\n",
       "      <td>0</td>\n",
       "      <td>3</td>\n",
       "      <td>0</td>\n",
       "      <td>low user talk useage font color green user ad...</td>\n",
       "    </tr>\n",
       "    <tr>\n",
       "      <th>4155</th>\n",
       "      <td>162</td>\n",
       "      <td>555</td>\n",
       "      <td>1</td>\n",
       "      <td>1</td>\n",
       "      <td>2012</td>\n",
       "      <td>2012-05-28 01:06:00</td>\n",
       "      <td>2012</td>\n",
       "      <td>0</td>\n",
       "      <td>0</td>\n",
       "      <td>0</td>\n",
       "      <td>1</td>\n",
       "      <td>29</td>\n",
       "      <td>this user has a lot of experience editing wik...</td>\n",
       "    </tr>\n",
       "    <tr>\n",
       "      <th>63595</th>\n",
       "      <td>3979</td>\n",
       "      <td>9352</td>\n",
       "      <td>1</td>\n",
       "      <td>1</td>\n",
       "      <td>2008</td>\n",
       "      <td>2008-03-20 04:53:00</td>\n",
       "      <td>2008</td>\n",
       "      <td>0</td>\n",
       "      <td>0</td>\n",
       "      <td>0</td>\n",
       "      <td>2</td>\n",
       "      <td>62</td>\n",
       "      <td>crappy potatoes strong</td>\n",
       "    </tr>\n",
       "  </tbody>\n",
       "</table>\n",
       "</div>"
      ],
      "text/plain": [
       "         SRC   TGT  VOT  RES  YEA_x                  DAT  YEA_y  PP  NN  PN  \\\n",
       "155074   126  8132    1    1   2005  2005-10-09 13:24:00   2005   0   0   0   \n",
       "135559  7190  9710   -1   -1   2006  2006-04-05 00:05:00   2006   0   0   0   \n",
       "4155     162   555    1    1   2012  2012-05-28 01:06:00   2012   0   0   0   \n",
       "63595   3979  9352    1    1   2008  2008-03-20 04:53:00   2008   0   0   0   \n",
       "\n",
       "        N   P                                      TXT_PROCESSED  \n",
       "155074  2  48   woohoo i m 50 he s always on irc and has seem...  \n",
       "135559  3   0   low user talk useage font color green user ad...  \n",
       "4155    1  29   this user has a lot of experience editing wik...  \n",
       "63595   2  62                            crappy potatoes strong   "
      ]
     },
     "execution_count": 217,
     "metadata": {},
     "output_type": "execute_result"
    }
   ],
   "source": [
    "rfam.sample(4)"
   ]
  },
  {
   "cell_type": "markdown",
   "id": "c5d42a2d",
   "metadata": {},
   "source": [
    "**3.2**  Create the following two rule-based classifiers, and for each, estimate its area under the ROC curve (a.k.a. “AUC/ROC”) on the entire dataset:\n",
    "\n",
    "- **A)** a classifier inspired by structural balance theory. The classifier should predict a positive vote if  `PP` + `NN` $\\geq$ `PN`, and a negative vote otherwise.\n",
    "- **B)** a classifier inspired by weak structural balance theory. The classifier should predict a positive vote if `PP`  $\\geq$ `PN` and a negative vote otherwise."
   ]
  },
  {
   "cell_type": "code",
   "execution_count": 299,
   "id": "dcf9b431",
   "metadata": {},
   "outputs": [],
   "source": [
    "from sklearn.metrics import roc_auc_score"
   ]
  },
  {
   "cell_type": "code",
   "execution_count": 218,
   "id": "44643421",
   "metadata": {},
   "outputs": [
    {
     "data": {
      "text/plain": [
       "0.782357203164015"
      ]
     },
     "execution_count": 218,
     "metadata": {},
     "output_type": "execute_result"
    }
   ],
   "source": [
    "# 3.2\n",
    "\n",
    "def sbt(vote): # structured balance theory classifier\n",
    "    return 1 if (vote['PP'] + vote['NN']) >= vote['PN'] else -1\n",
    "\n",
    "def wsbt(vote): # weak structured balance theory classifier\n",
    "    return 1 if (vote['PP']) >= vote['PN'] else -1\n",
    "\n",
    "VOT_pred_sbt = rfam.apply(sbt, axis=1)\n",
    "VOT_pred_wsbt = rfam.apply(wsbt, axis=1)\n",
    "VOT = rfam.VOT\n",
    "\n"
   ]
  },
  {
   "cell_type": "code",
   "execution_count": 220,
   "id": "8ebb615d",
   "metadata": {},
   "outputs": [
    {
     "name": "stdout",
     "output_type": "stream",
     "text": [
      "AUC/ROC score for SBT classifier is 0.5254\n",
      "AUC/ROC score for WSBT classifier is 0.5280\n"
     ]
    }
   ],
   "source": [
    "print(f\"AUC/ROC score for SBT classifier is {roc_auc_score(VOT, VOT_pred_sbt):.4f}\")\n",
    "print(f\"AUC/ROC score for WSBT classifier is {roc_auc_score(VOT, VOT_pred_wsbt):.4f}\")"
   ]
  },
  {
   "cell_type": "markdown",
   "id": "0161ec09",
   "metadata": {},
   "source": [
    "**3.3** To determine if the differences in the classifiers from task **3.2** occur solely due to chance, follow the following bootstrap procedure, using 200 iterations:\n",
    "\n",
    "- **A)** Randomly sample the entire dataset (i.e., votes from the dataframe constructed in task **3.1**) with replacement;\n",
    "- **B)** Compute the difference of the AUC/ROC for the two classifiers on the entire dataset.\n",
    "\n",
    "Then use the distribution of AUC/ROC differences (one difference per bootstrap iteration) to estimate the 95% confidence interval for the AUC/ROC difference."
   ]
  },
  {
   "cell_type": "code",
   "execution_count": 236,
   "id": "817ee28f",
   "metadata": {},
   "outputs": [
    {
     "name": "stderr",
     "output_type": "stream",
     "text": [
      "100%|██████████| 200/200 [10:56<00:00,  3.28s/it]\n"
     ]
    }
   ],
   "source": [
    "diffs = []\n",
    "\n",
    "num_iters = 200\n",
    "for it in tqdm(range(num_iters)):\n",
    "    rfat = rfam.sample(n=rfam.shape[0],replace=True)\n",
    "    VOT_pred_sbt = rfat.apply(sbt, axis=1)\n",
    "    VOT_pred_wsbt = rfat.apply(wsbt, axis=1)\n",
    "    VOT = rfat.VOT\n",
    "    roc_auc_sbt = roc_auc_score(VOT, VOT_pred_sbt)\n",
    "    roc_auc_wsbt = roc_auc_score(VOT, VOT_pred_wsbt)\n",
    "    diffs.append(roc_auc_wsbt-roc_auc_sbt)\n"
   ]
  },
  {
   "cell_type": "code",
   "execution_count": 237,
   "id": "a0c0025a",
   "metadata": {},
   "outputs": [
    {
     "data": {
      "text/plain": [
       "(0.0021929584585467623, 0.0031169327530470277)"
      ]
     },
     "execution_count": 237,
     "metadata": {},
     "output_type": "execute_result"
    }
   ],
   "source": [
    "# 95% confidence intervals\n",
    "\n",
    "(np.percentile(diffs, 2.5), np.percentile(diffs, 97.5))"
   ]
  },
  {
   "cell_type": "markdown",
   "id": "4d0e1569",
   "metadata": {},
   "source": [
    "**3.4 ** **/Discuss:**/ According to the results in tasks **3.2** and **3.3**, which theory better predicts actual edge signs, structural balance theory or the weak structural balance theory? \n"
   ]
  },
  {
   "attachments": {},
   "cell_type": "markdown",
   "id": "94b39801",
   "metadata": {},
   "source": [
    "**A3.4** \n",
    "Confidence intervals are both positive, which means, that wak structural balance theory consistently performs better."
   ]
  },
  {
   "cell_type": "markdown",
   "id": "28d37dc1",
   "metadata": {},
   "source": [
    "**3.5** How accurately can we predict the vote with more sophisticated features and algorithms?\n",
    "\n",
    "- Create a TF-IDF representation of the text of each vote  using `sklearn`'s vectorizer ([`sklearn.feature_extraction.text.TfidfVectorizer`](https://scikit-learn.org/stable/modules/generated/sklearn.feature_extraction.text.TfidfVectorizer.html)) with the parameters `max_features=150` and `stop_words='english'`.\n",
    "- Split the  dataset into training and test sets using sklearn [`sklearn.model_selection.train_test_split`](https://scikit-learn.org/stable/modules/generated/sklearn.model_selection.train_test_split.html) using parameters `test_size=0.1` and  `random_state=42`.\n",
    "\n",
    "- Then, train two logistic regression models ([`sklearn.linear_model.SGDClassifier`](https://scikit-learn.org/stable/modules/generated/sklearn.linear_model.SGDClassifier.html)) using parameters `loss='log_loss'` and `max_iter=2000` considering:\n",
    "\n",
    "    - **1)** the TF-IDF feature vector\n",
    "\n",
    "    - **2)** the TF-IDF feature vector and the features `PP`, `NN`, `PN`, `P`, and `N` related to the graph.\n",
    "\n",
    "- Last, report the AUC/ROC of each model in the test set."
   ]
  },
  {
   "cell_type": "code",
   "execution_count": 248,
   "id": "764a00f3",
   "metadata": {},
   "outputs": [],
   "source": [
    "# 3.5\n",
    "from sklearn.feature_extraction.text import TfidfVectorizer\n",
    "from sklearn.model_selection import train_test_split\n",
    "from sklearn.linear_model import SGDClassifier\n"
   ]
  },
  {
   "cell_type": "code",
   "execution_count": 271,
   "id": "13b912a3",
   "metadata": {},
   "outputs": [],
   "source": [
    "vectorizer = TfidfVectorizer(max_features=150, stop_words='english')\n",
    "\n",
    "X = vectorizer.fit_transform(rfam['TXT_PROCESSED'].fillna('').values)\n",
    "Y = rfam['VOT'].values"
   ]
  },
  {
   "cell_type": "code",
   "execution_count": 255,
   "id": "0e534569",
   "metadata": {},
   "outputs": [],
   "source": [
    "X_train, X_test, y_train, y_test = train_test_split(X, Y, test_size=0.1, random_state=42)"
   ]
  },
  {
   "cell_type": "code",
   "execution_count": 260,
   "id": "98c4f70c",
   "metadata": {},
   "outputs": [
    {
     "name": "stdout",
     "output_type": "stream",
     "text": [
      " ROC/AUC Score of model trained only ont TF-IDF features is 0.7000562767220792\n"
     ]
    }
   ],
   "source": [
    "model = SGDClassifier(loss='log_loss', max_iter=2000)\n",
    "model.fit(X_train, y_train)\n",
    "y_pred = model.predict(X_test)\n",
    "print(f\" ROC/AUC Score of model trained only ont TF-IDF features is {roc_auc_score(y_test, y_pred)}\")"
   ]
  },
  {
   "cell_type": "code",
   "execution_count": 296,
   "id": "6791275f",
   "metadata": {},
   "outputs": [],
   "source": [
    "feats = rfam[['PP', 'NN', 'PN', 'P', 'N']]\n",
    "X2 = np.concatenate([X.toarray(), feats.values], axis=1)"
   ]
  },
  {
   "cell_type": "code",
   "execution_count": 297,
   "id": "8806be0d",
   "metadata": {},
   "outputs": [],
   "source": [
    "X2_train, X2_test, y_train, y_test = train_test_split(X2, Y, test_size=0.1, random_state=42)"
   ]
  },
  {
   "cell_type": "code",
   "execution_count": 298,
   "id": "29299836",
   "metadata": {},
   "outputs": [
    {
     "name": "stdout",
     "output_type": "stream",
     "text": [
      " ROC/AUC Score of model trained only ont TF-IDF features is 0.7446973469307493\n"
     ]
    }
   ],
   "source": [
    "model = SGDClassifier(loss='log_loss', max_iter=2000)\n",
    "model.fit(X2_train, y_train)\n",
    "y_pred = model.predict(X2_test)\n",
    "print(f\" ROC/AUC Score of model trained only ont TF-IDF features is {roc_auc_score(y_test, y_pred)}\")"
   ]
  },
  {
   "cell_type": "markdown",
   "id": "898cbdd1",
   "metadata": {},
   "source": [
    "**3.6** **/Discuss:**/  According to the results in task **3.5**, does information from the graph help in the task of predicting the vote even when using the text?  What kind of subsequent analysis would make you trust that the results are not obtained simply by chance? (No need to actually perform that subsequent analysis here.) "
   ]
  },
  {
   "attachments": {},
   "cell_type": "markdown",
   "id": "6b6767ad",
   "metadata": {},
   "source": [
    "**A3.6**\n",
    "Yes, it seems to help, as it makes the ROC/AUC score higre. I would use bootstrapping and confidence intervals on differences as in the previous part to see, how much are the results reliable."
   ]
  },
  {
   "cell_type": "markdown",
   "id": "7f51071d",
   "metadata": {},
   "source": [
    "**3.7** Putting on your observational studies hat, run two logistic regressions using `statsmodels`.\n",
    "- In the first regression, the vote is the outcome, and `PP`, `NN` and `PN` are the predictors.\n",
    "- In the second regression, the vote is the outcome, and `PP`, `NN`, `PN`, and `N` are the predictors."
   ]
  },
  {
   "cell_type": "code",
   "execution_count": 242,
   "id": "e71557d4",
   "metadata": {},
   "outputs": [],
   "source": [
    "import statsmodels.formula.api as smf\n",
    "\n",
    "rfam_n = rfam.copy(deep=True)\n",
    "rfam_n['PP'] = (rfam_n['PP'] - rfam_n['PP'].mean())/rfam_n['PP'].std()\n",
    "rfam_n['NN'] = (rfam_n['NN'] - rfam_n['NN'].mean())/rfam_n['NN'].std()\n",
    "rfam_n['PN'] = (rfam_n['PN'] - rfam_n['PN'].mean())/rfam_n['PN'].std()\n",
    "rfam_n['N'] = (rfam_n['N'] - rfam_n['N'].mean())/rfam_n['N'].std()\n",
    "rfam_n['VOT'] = (rfam_n['VOT'] > 0).astype(int)"
   ]
  },
  {
   "cell_type": "code",
   "execution_count": 243,
   "id": "a9591f1a",
   "metadata": {},
   "outputs": [
    {
     "name": "stdout",
     "output_type": "stream",
     "text": [
      "Optimization terminated successfully.\n",
      "         Current function value: 0.514594\n",
      "         Iterations 7\n",
      "                           Logit Regression Results                           \n",
      "==============================================================================\n",
      "Dep. Variable:                    VOT   No. Observations:               167003\n",
      "Model:                          Logit   Df Residuals:                   166999\n",
      "Method:                           MLE   Df Model:                            3\n",
      "Date:                Tue, 17 Jan 2023   Pseudo R-squ.:                 0.01804\n",
      "Time:                        17:46:02   Log-Likelihood:                -85939.\n",
      "converged:                       True   LL-Null:                       -87517.\n",
      "Covariance Type:            nonrobust   LLR p-value:                     0.000\n",
      "==============================================================================\n",
      "                 coef    std err          z      P>|z|      [0.025      0.975]\n",
      "------------------------------------------------------------------------------\n",
      "Intercept      1.3092      0.006    214.006      0.000       1.297       1.321\n",
      "PP             0.4409      0.013     34.272      0.000       0.416       0.466\n",
      "NN            -0.1255      0.007    -16.946      0.000      -0.140      -0.111\n",
      "PN            -0.3380      0.008    -40.304      0.000      -0.354      -0.322\n",
      "==============================================================================\n"
     ]
    }
   ],
   "source": [
    "mod1 = smf.logit(formula='VOT ~ PP + NN + PN ', data=rfam_n)\n",
    "res = mod1.fit()\n",
    "print(res.summary())"
   ]
  },
  {
   "cell_type": "code",
   "execution_count": 246,
   "id": "9f8df411",
   "metadata": {},
   "outputs": [
    {
     "name": "stdout",
     "output_type": "stream",
     "text": [
      "Optimization terminated successfully.\n",
      "         Current function value: 0.487994\n",
      "         Iterations 7\n",
      "                           Logit Regression Results                           \n",
      "==============================================================================\n",
      "Dep. Variable:                    VOT   No. Observations:               167003\n",
      "Model:                          Logit   Df Residuals:                   166998\n",
      "Method:                           MLE   Df Model:                            4\n",
      "Date:                Tue, 17 Jan 2023   Pseudo R-squ.:                 0.06880\n",
      "Time:                        17:46:44   Log-Likelihood:                -81496.\n",
      "converged:                       True   LL-Null:                       -87517.\n",
      "Covariance Type:            nonrobust   LLR p-value:                     0.000\n",
      "==============================================================================\n",
      "                 coef    std err          z      P>|z|      [0.025      0.975]\n",
      "------------------------------------------------------------------------------\n",
      "Intercept      1.3639      0.006    213.354      0.000       1.351       1.376\n",
      "PP             0.4483      0.013     33.344      0.000       0.422       0.475\n",
      "NN            -0.1014      0.007    -13.631      0.000      -0.116      -0.087\n",
      "PN            -0.2799      0.008    -33.013      0.000      -0.297      -0.263\n",
      "N             -0.5277      0.006    -89.263      0.000      -0.539      -0.516\n",
      "==============================================================================\n"
     ]
    }
   ],
   "source": [
    "# 3.7\n",
    "\n",
    "mod2 = smf.logit(formula='VOT ~ PP + NN + PN + N', data=rfam_n)\n",
    "res2 = mod2.fit()\n",
    "print(res2.summary())"
   ]
  },
  {
   "cell_type": "markdown",
   "id": "db15d090",
   "metadata": {},
   "source": [
    "**3.8** **/Discuss:**/   Explain what the coefficient associated with `PP` means in the first regression. Is it in accordance with structural balance theory?"
   ]
  },
  {
   "attachments": {},
   "cell_type": "markdown",
   "id": "48845787",
   "metadata": {},
   "source": [
    "**A3.8**\n",
    "Since all predictors are standardized, the coefficient interpretation is: if all other predictors take mean values, an increase of PP by 1 standard deviation, leads on average to an increase by 0.4483 of log odds of positive vote. \n",
    "\n",
    "This is in accrodance with the structural balance theory, as it leads to +++ triangles, rather then ++-, what is again favoring of balanced triangles. "
   ]
  },
  {
   "cell_type": "markdown",
   "id": "49752dbb",
   "metadata": {},
   "source": [
    "**3.9** **/Discuss:**/   Compare the coefficients associated with `PN` and `NN` in the first vs. the second regression. Present a reason that may explain this difference."
   ]
  },
  {
   "attachments": {},
   "cell_type": "markdown",
   "id": "8ab7612b",
   "metadata": {},
   "source": [
    "**A3.9** \n",
    "We can see, that that the effect of both of these coefficents decreased! However, we can see, that the model R-squ. increased by introducing a new predictor N! It is possible, that PN and NN were also working as proxies for the newly introduce N, and when we added it to the equation, this proxy effect disappeared!"
   ]
  },
  {
   "cell_type": "markdown",
   "id": "207c9147",
   "metadata": {},
   "source": [
    "---"
   ]
  }
 ],
 "metadata": {
  "kernelspec": {
   "display_name": "adaexam",
   "language": "python",
   "name": "python3"
  },
  "language_info": {
   "codemirror_mode": {
    "name": "ipython",
    "version": 3
   },
   "file_extension": ".py",
   "mimetype": "text/x-python",
   "name": "python",
   "nbconvert_exporter": "python",
   "pygments_lexer": "ipython3",
   "version": "3.9.7"
  },
  "vscode": {
   "interpreter": {
    "hash": "6d74df407fd190a9a8a6f660fd68553ca24866c3ad2a6ffc69935225fe22f7b3"
   }
  }
 },
 "nbformat": 4,
 "nbformat_minor": 5
}
